{
 "cells": [
  {
   "cell_type": "markdown",
   "id": "2f7bbf1a",
   "metadata": {},
   "source": [
    "- 남/여 인구비율 - 인구 남 여 column 다음에 위치\n",
    "\n",
    "- 한국인 외국인 비율 인구밀도 앞에 위치"
   ]
  },
  {
   "cell_type": "code",
   "execution_count": 27,
   "id": "665af6d6",
   "metadata": {},
   "outputs": [
    {
     "name": "stdout",
     "output_type": "stream",
     "text": [
      "None\n",
      "     시점      세대수       인구     인구_남     인구_여      한국인    외국인    인구밀도\n",
      "1  2018  1480468  3494019  1721327  1772692  3441453  52566  769.94\n",
      "2  2019  1497908  3466563  1704098  1762465  3413841  52722  770.07\n",
      "3  2020  1530431  3438710  1686412  1752298  3391946  46764  770.07\n"
     ]
    }
   ],
   "source": [
    "import numpy as np\n",
    "import pandas as pd\n",
    "import matplotlib.pyplot as plt\n",
    "\n",
    "pop_df = pd.read_csv('등록인구추이_20230223163304.csv',encoding= 'cp949')\n",
    "print(pop_df.drop(0, axis = 0, inplace=True))\n",
    "pop_df.columns = ['시점','세대수','인구','인구_남','인구_여','한국인','외국인','인구밀도']\n",
    "\n",
    "print(pop_df.head())"
   ]
  },
  {
   "cell_type": "code",
   "execution_count": 45,
   "id": "31e121a9",
   "metadata": {},
   "outputs": [
    {
     "data": {
      "text/html": [
       "<div>\n",
       "<style scoped>\n",
       "    .dataframe tbody tr th:only-of-type {\n",
       "        vertical-align: middle;\n",
       "    }\n",
       "\n",
       "    .dataframe tbody tr th {\n",
       "        vertical-align: top;\n",
       "    }\n",
       "\n",
       "    .dataframe thead th {\n",
       "        text-align: right;\n",
       "    }\n",
       "</style>\n",
       "<table border=\"1\" class=\"dataframe\">\n",
       "  <thead>\n",
       "    <tr style=\"text-align: right;\">\n",
       "      <th></th>\n",
       "      <th>시점</th>\n",
       "      <th>세대수</th>\n",
       "      <th>인구</th>\n",
       "      <th>인구_남</th>\n",
       "      <th>인구_여</th>\n",
       "      <th>인구_남/여</th>\n",
       "      <th>한국인</th>\n",
       "      <th>외국인</th>\n",
       "      <th>한국인/외국인</th>\n",
       "      <th>인구밀도</th>\n",
       "    </tr>\n",
       "  </thead>\n",
       "  <tbody>\n",
       "    <tr>\n",
       "      <th>1</th>\n",
       "      <td>2018</td>\n",
       "      <td>1480468</td>\n",
       "      <td>3494019</td>\n",
       "      <td>1721327</td>\n",
       "      <td>1772692</td>\n",
       "      <td>0.971024</td>\n",
       "      <td>3441453</td>\n",
       "      <td>52566</td>\n",
       "      <td>65.469182</td>\n",
       "      <td>769.94</td>\n",
       "    </tr>\n",
       "    <tr>\n",
       "      <th>2</th>\n",
       "      <td>2019</td>\n",
       "      <td>1497908</td>\n",
       "      <td>3466563</td>\n",
       "      <td>1704098</td>\n",
       "      <td>1762465</td>\n",
       "      <td>0.966883</td>\n",
       "      <td>3413841</td>\n",
       "      <td>52722</td>\n",
       "      <td>64.751736</td>\n",
       "      <td>770.07</td>\n",
       "    </tr>\n",
       "    <tr>\n",
       "      <th>3</th>\n",
       "      <td>2020</td>\n",
       "      <td>1530431</td>\n",
       "      <td>3438710</td>\n",
       "      <td>1686412</td>\n",
       "      <td>1752298</td>\n",
       "      <td>0.962400</td>\n",
       "      <td>3391946</td>\n",
       "      <td>46764</td>\n",
       "      <td>72.533273</td>\n",
       "      <td>770.07</td>\n",
       "    </tr>\n",
       "  </tbody>\n",
       "</table>\n",
       "</div>"
      ],
      "text/plain": [
       "     시점      세대수       인구     인구_남     인구_여    인구_남/여      한국인    외국인  \\\n",
       "1  2018  1480468  3494019  1721327  1772692  0.971024  3441453  52566   \n",
       "2  2019  1497908  3466563  1704098  1762465  0.966883  3413841  52722   \n",
       "3  2020  1530431  3438710  1686412  1752298  0.962400  3391946  46764   \n",
       "\n",
       "     한국인/외국인    인구밀도  \n",
       "1  65.469182  769.94  \n",
       "2  64.751736  770.07  \n",
       "3  72.533273  770.07  "
      ]
     },
     "execution_count": 45,
     "metadata": {},
     "output_type": "execute_result"
    }
   ],
   "source": [
    "pop_df['인구_남']\n",
    "pop_df.loc[:,'인구_남']\n",
    "pop_df.iloc[:,3]\n",
    "\n",
    "v = pop_df['인구_남'].astype(np.float64)/pop_df['인구_여'].astype(np.float64)\n",
    "n = pop_df['한국인'].astype(np.float64)/pop_df['외국인'].astype(np.float64)\n",
    "# pop_df.insert(5,'인구_남/여',v)\n",
    "# pop_df.insert(8,'한국인/외국인',n)\n",
    "pop_df"
   ]
  },
  {
   "cell_type": "code",
   "execution_count": 50,
   "id": "bb62aa0f",
   "metadata": {},
   "outputs": [
    {
     "data": {
      "text/html": [
       "<div>\n",
       "<style scoped>\n",
       "    .dataframe tbody tr th:only-of-type {\n",
       "        vertical-align: middle;\n",
       "    }\n",
       "\n",
       "    .dataframe tbody tr th {\n",
       "        vertical-align: top;\n",
       "    }\n",
       "\n",
       "    .dataframe thead th {\n",
       "        text-align: right;\n",
       "    }\n",
       "</style>\n",
       "<table border=\"1\" class=\"dataframe\">\n",
       "  <thead>\n",
       "    <tr style=\"text-align: right;\">\n",
       "      <th></th>\n",
       "      <th>시점</th>\n",
       "      <th>세대수</th>\n",
       "      <th>인구</th>\n",
       "      <th>인구_남</th>\n",
       "      <th>인구_여</th>\n",
       "      <th>인구_남/여</th>\n",
       "      <th>한국인</th>\n",
       "      <th>외국인</th>\n",
       "      <th>한국인/외국인</th>\n",
       "      <th>인구밀도</th>\n",
       "    </tr>\n",
       "  </thead>\n",
       "  <tbody>\n",
       "    <tr>\n",
       "      <th>1</th>\n",
       "      <td>2018.0</td>\n",
       "      <td>1480468.0</td>\n",
       "      <td>3494019.0</td>\n",
       "      <td>1721327.0</td>\n",
       "      <td>1772692.0</td>\n",
       "      <td>0.971024</td>\n",
       "      <td>3441453.0</td>\n",
       "      <td>52566.0</td>\n",
       "      <td>65.469182</td>\n",
       "      <td>769.94</td>\n",
       "    </tr>\n",
       "    <tr>\n",
       "      <th>2</th>\n",
       "      <td>2019.0</td>\n",
       "      <td>1497908.0</td>\n",
       "      <td>3466563.0</td>\n",
       "      <td>1704098.0</td>\n",
       "      <td>1762465.0</td>\n",
       "      <td>0.966883</td>\n",
       "      <td>3413841.0</td>\n",
       "      <td>52722.0</td>\n",
       "      <td>64.751736</td>\n",
       "      <td>770.07</td>\n",
       "    </tr>\n",
       "    <tr>\n",
       "      <th>3</th>\n",
       "      <td>2020.0</td>\n",
       "      <td>1530431.0</td>\n",
       "      <td>3438710.0</td>\n",
       "      <td>1686412.0</td>\n",
       "      <td>1752298.0</td>\n",
       "      <td>0.962400</td>\n",
       "      <td>3391946.0</td>\n",
       "      <td>46764.0</td>\n",
       "      <td>72.533273</td>\n",
       "      <td>770.07</td>\n",
       "    </tr>\n",
       "  </tbody>\n",
       "</table>\n",
       "</div>"
      ],
      "text/plain": [
       "       시점        세대수         인구       인구_남       인구_여    인구_남/여        한국인  \\\n",
       "1  2018.0  1480468.0  3494019.0  1721327.0  1772692.0  0.971024  3441453.0   \n",
       "2  2019.0  1497908.0  3466563.0  1704098.0  1762465.0  0.966883  3413841.0   \n",
       "3  2020.0  1530431.0  3438710.0  1686412.0  1752298.0  0.962400  3391946.0   \n",
       "\n",
       "       외국인    한국인/외국인    인구밀도  \n",
       "1  52566.0  65.469182  769.94  \n",
       "2  52722.0  64.751736  770.07  \n",
       "3  46764.0  72.533273  770.07  "
      ]
     },
     "execution_count": 50,
     "metadata": {},
     "output_type": "execute_result"
    }
   ],
   "source": [
    "pop_df.dtypes\n",
    "pop_df.astype(np.float64) # 일괄적으로 데이터타입 변환이 가능하다"
   ]
  },
  {
   "cell_type": "code",
   "execution_count": 51,
   "id": "7d7d71bd",
   "metadata": {},
   "outputs": [
    {
     "name": "stdout",
     "output_type": "stream",
     "text": [
      "[[2.01800000e+03 1.48046800e+06 3.49401900e+06 1.72132700e+06\n",
      "  1.77269200e+06 9.71024295e-01 3.44145300e+06 5.25660000e+04\n",
      "  6.54691816e+01 7.69940000e+02]\n",
      " [2.01900000e+03 1.49790800e+06 3.46656300e+06 1.70409800e+06\n",
      "  1.76246500e+06 9.66883314e-01 3.41384100e+06 5.27220000e+04\n",
      "  6.47517355e+01 7.70070000e+02]\n",
      " [2.02000000e+03 1.53043100e+06 3.43871000e+06 1.68641200e+06\n",
      "  1.75229800e+06 9.62400231e-01 3.39194600e+06 4.67640000e+04\n",
      "  7.25332735e+01 7.70070000e+02]]\n"
     ]
    }
   ],
   "source": [
    "# iris_df.insert(2, 'x2', iris_df['a']/iris_df['b'] )\n",
    "pop_np = pop_df.to_numpy().astype(np.float64)\n",
    "# print(pop_np[:,3]/pop_np[:,4])\n",
    "print(pop_np)"
   ]
  }
 ],
 "metadata": {
  "kernelspec": {
   "display_name": "Python 3 (ipykernel)",
   "language": "python",
   "name": "python3"
  },
  "language_info": {
   "codemirror_mode": {
    "name": "ipython",
    "version": 3
   },
   "file_extension": ".py",
   "mimetype": "text/x-python",
   "name": "python",
   "nbconvert_exporter": "python",
   "pygments_lexer": "ipython3",
   "version": "3.10.9"
  }
 },
 "nbformat": 4,
 "nbformat_minor": 5
}
