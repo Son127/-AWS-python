{
 "cells": [
  {
   "cell_type": "code",
   "execution_count": 120,
   "id": "0d0a3a83",
   "metadata": {},
   "outputs": [
    {
     "data": {
      "text/plain": [
       "14"
      ]
     },
     "execution_count": 120,
     "metadata": {},
     "output_type": "execute_result"
    }
   ],
   "source": [
    "import random # random 라이브러리를 사용\n",
    "\n",
    "random.randrange(0,100)"
   ]
  },
  {
   "cell_type": "code",
   "execution_count": 2,
   "id": "72a79b55",
   "metadata": {},
   "outputs": [
    {
     "data": {
      "text/plain": [
       "399"
      ]
     },
     "execution_count": 2,
     "metadata": {},
     "output_type": "execute_result"
    }
   ],
   "source": [
    "from random import randrange #random 안에 있는 randrange 함수만 사용 하겠다.\n",
    "randrange(0,465)"
   ]
  },
  {
   "cell_type": "code",
   "execution_count": 10,
   "id": "35d1dacb",
   "metadata": {},
   "outputs": [
    {
     "data": {
      "text/plain": [
       "4"
      ]
     },
     "execution_count": 10,
     "metadata": {},
     "output_type": "execute_result"
    }
   ],
   "source": [
    "import random as rand # as : 이름 바꾸기\n",
    "rand.randrange(0,10,2)"
   ]
  },
  {
   "cell_type": "code",
   "execution_count": 5,
   "id": "9f009a16",
   "metadata": {},
   "outputs": [
    {
     "data": {
      "text/plain": [
       "'mymodule'"
      ]
     },
     "execution_count": 5,
     "metadata": {},
     "output_type": "execute_result"
    }
   ],
   "source": [
    "import mymodule # 직접 만든 라이브러리\n",
    "mymodule.myfn1('mymodule')"
   ]
  },
  {
   "cell_type": "code",
   "execution_count": 1,
   "id": "366c81df",
   "metadata": {},
   "outputs": [
    {
     "name": "stdout",
     "output_type": "stream",
     "text": [
      "[['건강증진센터명', '건강증진센터구분', '소재지도로명주소', '소재지지번주소', '위도', '경도', '건강증진업무내용', '운영시작시각', '운영종료시각', '휴무일정보', '건물면적', '의사수', '간호사수', '사회복지사수', '영양사수', '기타인력현황', '기타이용안내', '운영기관전화번호', '운영기관명', '관리기관전화번호', '관리기관명', '데이터기준일자', '제공기관코드', '제공기관명\\n'], ['맞춤형건강클리닉', '건강증진', '인천광역시 연수구 함박뫼로 13', '인천광역시 연수구 청학동 465-4', '37.41913159', '126.6711606', '치매검진+ 당뇨.고혈압 상담 및 검사+ 뇌경색.심뇌혈관질환+ 정신건강 상담', '9:00', '18:00', '일요일+ 공휴일', '30', '0', '5', '0', '0', '0', '검사전날 오후8시 전까지 식사마치고 검사당일 아침 금식', '032-749-8104', '맞춤형건강클리닉', '032-749-8122', '인천광역시 연수구 보건소', '2021-10-25', '3520000', '인천광역시 연수구\\n'], ['정신건강복지센터', '정신보건', '경상북도 청송군 청송읍 의료원길 19', '경상북도 청송군 청송읍 금곡리 1056-54', '36.431132', '129.051804', '중증정신질환자 관리+정신건강증진사업+아동청소년 정신건강증진사업+자살예방사업', '9:00', '17:00', '토+일+공휴일', '413.87', '0', '4', '1', '0', '0', '', '054-870-7362', '경상북도 청송군 보건의료원', '054-870-7361', '경상북도 청송군 보건의료원', '2022-12-09', '5160000', '경상북도 청송군\\n']]\n"
     ]
    }
   ],
   "source": [
    "list_d=[]\n",
    "with open ('전국건강증진센터표준데이터.csv', encoding = 'cp949') as f:\n",
    "    for i in f:\n",
    "        list_d.append(i.split(','))\n",
    "#     list_d = list_d[:1]\n",
    "print(list_d[:3])"
   ]
  },
  {
   "cell_type": "code",
   "execution_count": 18,
   "id": "46ed7647",
   "metadata": {},
   "outputs": [
    {
     "name": "stdout",
     "output_type": "stream",
     "text": [
      "{24}\n"
     ]
    }
   ],
   "source": [
    "len_list = []\n",
    "for i in list_d:\n",
    "   len_list.append(len(i))\n",
    "print(set(len_list))\n",
    "    "
   ]
  },
  {
   "cell_type": "code",
   "execution_count": 28,
   "id": "ac671758",
   "metadata": {},
   "outputs": [
    {
     "name": "stdout",
     "output_type": "stream",
     "text": [
      "11\n"
     ]
    }
   ],
   "source": [
    "d_index =list_d[0].index('의사수')\n",
    "print(d_lndex)\n",
    "\n",
    "    "
   ]
  },
  {
   "cell_type": "code",
   "execution_count": 33,
   "id": "2295264f",
   "metadata": {},
   "outputs": [
    {
     "name": "stdout",
     "output_type": "stream",
     "text": [
      "['0', '0', '1', '0', '0', '1', '0', '1', '1', '1', '1', '0', '1', '1', '1', '1', '1', '1', '0', '0', '1', '1', '1', '0', '1', '0', '0', '0', '0', '0', '0', '1', '1', '12', '1', '0', '0', '1', '0', '0', '0', '0', '0', '0', '0', '0', '0', '0', '0', '1', '0', '0', '0', '0', '1', '1', '2', '1', '0', '1', '0', '1', '1', '0', '1', '0', '1', '1', '1', '1', '1', '1', '0', '1', '0', '0', '2', '1', '0', '1', '1', '0', '0', '1', '0', '1', '0', '0', '0', '0', '0', '1', '0', '0', '1', '1', '1', '1', '1', '0', '0', '0', '1', '1', '1', '1', '1', '0', '1', '0', '0', '0', '1', '0', '0', '1', '0', '1', '1', '1', '1', '1', '0', '0', '0', '0', '0', '0', '0', '0', '1', '0', '0', '0', '0', '0', '0', '0', '0', '0', '1', '1', '1', '1', '0', '0', '0', '0', '0', '1', '0', '1', '0', '0', '0', '0', '0', '1', '0', '1', '1', '1', '1', '0', '1', '1', '0', '0', '7', '1', '0', '0', '0', '0', '0', '1', '0', '1', '1', '5', '1', '1', '0', '0', '0', '0', '0', '1', '1', '1', '1', '2', '0', '0', '0', '0', '0', '1', '0', '1', '0', '1', '1', '0', '0', '0', '1', '1', '1', '1', '0', '0', '0', '0', '0', '0', '1', '1', '1', '2', '0', '0', '0', '0', '1', '1', '0', '0', '0', '1', '1', '1', '0', '1', '0', '0', '0', '1', '4', '0', '1', '0', '0', '0', '0', '0', '0', '0', '0', '0', '0', '0', '0', '0', '0', '0', '0', '1', '0', '0', '0', '0', '1', '1', '1', '0', '0', '0', '1', '0', '0', '0', '0', '0', '0', '1', '1', '4', '1', '0', '1', '0', '0', '0', '1', '0', '1', '0', '1', '1', '0', '1']\n",
      "center count:  292\n",
      "center with no d 0\n"
     ]
    }
   ],
   "source": [
    "d_count=[]\n",
    "for e in list_d[1:]:\n",
    "    d_count.append(e[d_index])\n",
    "print(d_count)\n",
    "print('center count: ', len(d_count))\n",
    "print('center with no d', d_count.count(0))"
   ]
  },
  {
   "cell_type": "code",
   "execution_count": 32,
   "id": "b3562cac",
   "metadata": {},
   "outputs": [
    {
     "name": "stdout",
     "output_type": "stream",
     "text": [
      "156\n"
     ]
    }
   ],
   "source": [
    "for i, c in enumerate(d_count):\n",
    "    try:\n",
    "        d_count[i] = int(c)\n",
    "    except:\n",
    "        d_count[i] = 0\n",
    "print(sum(d_count))"
   ]
  }
 ],
 "metadata": {
  "kernelspec": {
   "display_name": "Python 3 (ipykernel)",
   "language": "python",
   "name": "python3"
  },
  "language_info": {
   "codemirror_mode": {
    "name": "ipython",
    "version": 3
   },
   "file_extension": ".py",
   "mimetype": "text/x-python",
   "name": "python",
   "nbconvert_exporter": "python",
   "pygments_lexer": "ipython3",
   "version": "3.10.9"
  }
 },
 "nbformat": 4,
 "nbformat_minor": 5
}
