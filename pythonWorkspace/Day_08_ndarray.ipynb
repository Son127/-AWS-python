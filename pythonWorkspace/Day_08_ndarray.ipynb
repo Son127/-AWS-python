{
 "cells": [
  {
   "cell_type": "code",
   "execution_count": 6,
   "id": "937db21e",
   "metadata": {},
   "outputs": [],
   "source": [
    "import numpy as np"
   ]
  },
  {
   "cell_type": "code",
   "execution_count": 9,
   "id": "b8d200b0",
   "metadata": {},
   "outputs": [
    {
     "name": "stdout",
     "output_type": "stream",
     "text": [
      "[1, 2, 3, 4, 5]\n",
      "[1 2 3 4 5]\n",
      "<class 'numpy.ndarray'>\n"
     ]
    }
   ],
   "source": [
    "a1 = np.array([1,2,3,4,5]) #list랑 같이 생겼지만 출력시 콤마가 안찍힌다.\n",
    "print([1,2,3,4,5])\n",
    "print(a1)\n",
    "print(type(a1))"
   ]
  },
  {
   "cell_type": "code",
   "execution_count": 20,
   "id": "5c955833",
   "metadata": {},
   "outputs": [
    {
     "name": "stdout",
     "output_type": "stream",
     "text": [
      "[0 1 2 3 4 5 6 7 8 9]\n",
      "[ 0  3  6  9 12 15 18 21 24 27 30 33 36 39 42 45 48 51 54 57 60 63 66 69\n",
      " 72 75 78 81 84 87 90 93 96 99]\n",
      "[1.3 1.8 2.3 2.8 3.3 3.8 4.3 4.8 5.3 5.8 6.3 6.8 7.3 7.8 8.3 8.8 9.3 9.8]\n"
     ]
    }
   ],
   "source": [
    "a2 = np.arange(10)\n",
    "print(a2)\n",
    "\n",
    "#100아래에 있는 3의 배수\n",
    "a3 = np.arange(0,100,3)\n",
    "print(a3)\n",
    "#1에서부터 10아래 숫자 0.5씩 증가하는 숫자 step = 0.5 (실수 기입가능)\n",
    "a4 = np.arange(1.3,10,0.5)\n",
    "print(a4)\n",
    "#python list에서는 step에 실수 기입 못함\n",
    "#lista = [i for i in range(1,10,0.3)]"
   ]
  },
  {
   "cell_type": "code",
   "execution_count": 26,
   "id": "973a5522",
   "metadata": {},
   "outputs": [
    {
     "name": "stdout",
     "output_type": "stream",
     "text": [
      "[ 0. 10.]\n"
     ]
    }
   ],
   "source": [
    "a5 = np.linspace(0,10,2) #0~10까지 양쪽 포함에서 숫자를 n개 달라\n",
    "print(a5)"
   ]
  },
  {
   "cell_type": "code",
   "execution_count": 32,
   "id": "94623282",
   "metadata": {},
   "outputs": [
    {
     "name": "stdout",
     "output_type": "stream",
     "text": [
      "[0. 0. 0. 0. 0.]\n",
      "[1. 1. 1. 1. 1.]\n",
      "[1 1 1 1 1]\n"
     ]
    },
    {
     "data": {
      "text/plain": [
       "array([1., 1., 1., 1., 1.])"
      ]
     },
     "execution_count": 32,
     "metadata": {},
     "output_type": "execute_result"
    }
   ],
   "source": [
    "a6 = np.zeros(5)# 0으로 채워줌\n",
    "print(a6)\n",
    "a7 = np.ones(5) # 1로 채워줌\n",
    "print(a7)\n",
    "#데이터 타입 변환\n",
    "a6 = np.ones(5, dtype=np.int64)\n",
    "print(a6)\n",
    "a6.astype(np.float64)"
   ]
  },
  {
   "cell_type": "code",
   "execution_count": 37,
   "id": "4ab7b160",
   "metadata": {},
   "outputs": [
    {
     "name": "stdout",
     "output_type": "stream",
     "text": [
      "[1.  2.  3.  1.4 4.5]\n",
      "['1' '2' 'abc' 'def']\n"
     ]
    }
   ],
   "source": [
    "lista = [1,2,3,1.4,4.5]\n",
    "b1 = np.array(lista)\n",
    "print(b1)\n",
    "\n",
    "listb = [1,2,'abc','def']\n",
    "b2 = np.array(listb)\n",
    "print(b2)\n",
    "#b2.astype(np.int64)"
   ]
  },
  {
   "cell_type": "code",
   "execution_count": 43,
   "id": "e8f69770",
   "metadata": {},
   "outputs": [
    {
     "name": "stdout",
     "output_type": "stream",
     "text": [
      "float64\n",
      "1\n",
      "(5,)\n",
      "5\n",
      "8\n",
      "<memory at 0x000002A91219B880>\n"
     ]
    }
   ],
   "source": [
    "print(a7.dtype)\n",
    "print(a7.ndim) # 몇차원 배열인지.\n",
    "print(a7.shape) # 이 array의 모양\n",
    "print(a7.size) # array안에 모든 숫자\n",
    "\n",
    "print(a7.itemsize) #바이트 사이즈\n",
    "print(a7.data)"
   ]
  },
  {
   "cell_type": "code",
   "execution_count": 52,
   "id": "c3452b26",
   "metadata": {},
   "outputs": [
    {
     "name": "stdout",
     "output_type": "stream",
     "text": [
      "[10 15 20 25 30 35 40 45 50 55 60 65 70 75 80 85 90 95]\n",
      "10 95\n",
      "[10 15 20]\n",
      "[10 20 30]\n"
     ]
    }
   ],
   "source": [
    "a10 = np.arange(10, 100, 5)\n",
    "print(a10)\n",
    "#특정 인덱스\n",
    "print(a10[0],a10[-1])\n",
    "#스타트, 스탑\n",
    "print(a10[0:3])\n",
    "#스타트,스탑,스텝\n",
    "print(a10[0:6:2])"
   ]
  },
  {
   "cell_type": "code",
   "execution_count": 55,
   "id": "7dafed82",
   "metadata": {},
   "outputs": [
    {
     "name": "stdout",
     "output_type": "stream",
     "text": [
      "[10 15 20 25 30 35 40 45 50 55 60 65 70 75 80 85 90 95]\n",
      "[15 25 45]\n",
      "[10, 15, 20, 25, 30, 35, 40, 45, 50, 55, 60, 65, 70, 75, 80, 85, 90, 95]\n"
     ]
    }
   ],
   "source": [
    "a10 = np.arange(10,100,5)\n",
    "print(a10)\n",
    "print(a10[[1,3,7]]) # 보고싶은 index번호\n",
    "\n",
    "list10 = [x for x in range(10,100,5)]\n",
    "print(list10)\n",
    "# print(list10[[1,3,7]])"
   ]
  },
  {
   "cell_type": "code",
   "execution_count": 59,
   "id": "eb2d8062",
   "metadata": {},
   "outputs": [
    {
     "name": "stdout",
     "output_type": "stream",
     "text": [
      "[10 15 20 25 30 35 40 45 50 55 60 65 70 75 80 85 90 95]\n",
      "[15 25 35 45 55 65 75 85 95]\n",
      "[False  True False  True False  True False  True False  True False  True\n",
      " False  True False  True False  True]\n",
      "(18,)\n",
      "(18,)\n",
      "[15 25 35 45 55 65 75 85 95]\n"
     ]
    }
   ],
   "source": [
    "a10 = np.arange(10,100,5)\n",
    "print(a10)\n",
    "print(a10[a10 %  10 == 5]) #조건식을 넣을 수 있다\n",
    "\n",
    "x = (a10 % 10 == 5) # -조건식 자체가 ndarray를 만듬\n",
    "print(x)\n",
    "print(x.shape)\n",
    "print(a10.shape)\n",
    "print(a10[x])"
   ]
  },
  {
   "cell_type": "code",
   "execution_count": 72,
   "id": "0ddf4ee9",
   "metadata": {},
   "outputs": [
    {
     "name": "stdout",
     "output_type": "stream",
     "text": [
      "[0, 1, 2]\n",
      "[10, 11, 12, 13, 14]\n",
      "[0, 1, 2, 10, 11, 12, 13, 14]\n"
     ]
    }
   ],
   "source": [
    "lista = [x for x in range(3)]\n",
    "listb = [x for x in range(10,15)]\n",
    "print(lista)\n",
    "print(listb)\n",
    "print(lista + listb) # 리스트를 이어붙임\n",
    "# print(lista - listb) #에러남"
   ]
  },
  {
   "cell_type": "code",
   "execution_count": 73,
   "id": "28bec613",
   "metadata": {},
   "outputs": [
    {
     "name": "stdout",
     "output_type": "stream",
     "text": [
      "[0 1 2 3 4] [10 11 12 13 14]\n",
      "add: [10 12 14 16 18]\n",
      "sub: [-10 -10 -10 -10 -10]\n",
      "mul: [ 0 11 24 39 56]\n",
      "div: [0.         0.09090909 0.16666667 0.23076923 0.28571429]\n",
      "[0 1 2 3 4]\n",
      "[ 0  1  2  3  4 10 11 12 13 14]\n"
     ]
    }
   ],
   "source": [
    "a1 = np.arange(5)\n",
    "a2 = np.arange(10,15)\n",
    "print(a1,a2)\n",
    "print('add:',a1 + a2) #같은 인덱스 끼리 더하기(계산)을 함 , 인덱스 개수가 차이나면 에러가 남\n",
    "print('sub:',a1 - a2)\n",
    "print('mul:',a1 * a2)\n",
    "print('div:',a1 / a2)\n",
    "print(a1 % a2)\n",
    "print(np.concatenate((a1,a2))) #list + list 랑 같음"
   ]
  }
 ],
 "metadata": {
  "kernelspec": {
   "display_name": "Python 3 (ipykernel)",
   "language": "python",
   "name": "python3"
  },
  "language_info": {
   "codemirror_mode": {
    "name": "ipython",
    "version": 3
   },
   "file_extension": ".py",
   "mimetype": "text/x-python",
   "name": "python",
   "nbconvert_exporter": "python",
   "pygments_lexer": "ipython3",
   "version": "3.10.9"
  }
 },
 "nbformat": 4,
 "nbformat_minor": 5
}
