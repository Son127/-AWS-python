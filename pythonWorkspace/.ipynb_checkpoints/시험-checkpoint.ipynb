{
 "cells": [
  {
   "cell_type": "code",
   "execution_count": 23,
   "id": "c33f49ba",
   "metadata": {},
   "outputs": [],
   "source": [
    "import numpy as np\n",
    "impot\n"
   ]
  },
  {
   "cell_type": "code",
   "execution_count": 12,
   "id": "bad3e5b7",
   "metadata": {},
   "outputs": [
    {
     "ename": "AssertionError",
     "evalue": "",
     "output_type": "error",
     "traceback": [
      "\u001b[1;31m---------------------------------------------------------------------------\u001b[0m",
      "\u001b[1;31mAssertionError\u001b[0m                            Traceback (most recent call last)",
      "Cell \u001b[1;32mIn[12], line 6\u001b[0m\n\u001b[0;32m      4\u001b[0m         return_value \u001b[38;5;241m=\u001b[39m return_value \u001b[38;5;241m*\u001b[39m number\u001b[38;5;241m*\u001b[39m\u001b[38;5;241m*\u001b[39m\u001b[38;5;241m2\u001b[39m\n\u001b[0;32m      5\u001b[0m     \u001b[38;5;28;01mreturn\u001b[39;00m return_value\n\u001b[1;32m----> 6\u001b[0m \u001b[38;5;28;01massert\u001b[39;00m my_sq_prod([\u001b[38;5;241m1\u001b[39m,\u001b[38;5;241m2\u001b[39m,\u001b[38;5;241m3\u001b[39m]) \u001b[38;5;241m==\u001b[39m \u001b[38;5;241m36\u001b[39m\n",
      "\u001b[1;31mAssertionError\u001b[0m: "
     ]
    }
   ],
   "source": [
    "def my_sq_prod(number_list):\n",
    "    return_value = 0; \n",
    "    for number in number_list:\n",
    "        return_value = return_value * number**2\n",
    "    return return_value\n",
    "assert my_sq_prod([1,2,3]) == 36"
   ]
  },
  {
   "cell_type": "code",
   "execution_count": 22,
   "id": "b3be628f",
   "metadata": {},
   "outputs": [
    {
     "name": "stdout",
     "output_type": "stream",
     "text": [
      "36\n"
     ]
    }
   ],
   "source": [
    "def my_sq_prod(number_list):\n",
    "    if 0 in number_list :\n",
    "        return 0\n",
    "    else:\n",
    "        return_value = 1\n",
    "        for number in number_list:\n",
    "            return_value = return_value * number**2\n",
    "    return return_value\n",
    "print(my_sq_prod([1,2,3]))"
   ]
  },
  {
   "cell_type": "code",
   "execution_count": 25,
   "id": "13af8f8a",
   "metadata": {},
   "outputs": [],
   "source": [
    "import numpy as np\n",
    "\n",
    "def my_sq_prod3(arr):\n",
    "    return np.prod(arr**2)\n",
    "\n",
    "assert my_sq_prod3(np.array([4,5,6])) == 14400"
   ]
  },
  {
   "cell_type": "code",
   "execution_count": null,
   "id": "052337c8",
   "metadata": {},
   "outputs": [],
   "source": [
    "import math\n",
    "\n",
    "def my_sq_prod(python_list):\n",
    "    return_list = []\n",
    "    for i in number_list:\n",
    "        return_list.append(i**2)\n",
    "    return math.prod(return_list)\n",
    "        "
   ]
  }
 ],
 "metadata": {
  "kernelspec": {
   "display_name": "Python 3 (ipykernel)",
   "language": "python",
   "name": "python3"
  },
  "language_info": {
   "codemirror_mode": {
    "name": "ipython",
    "version": 3
   },
   "file_extension": ".py",
   "mimetype": "text/x-python",
   "name": "python",
   "nbconvert_exporter": "python",
   "pygments_lexer": "ipython3",
   "version": "3.10.9"
  }
 },
 "nbformat": 4,
 "nbformat_minor": 5
}
