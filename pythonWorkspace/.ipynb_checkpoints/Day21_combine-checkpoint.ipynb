{
 "cells": [
  {
   "cell_type": "code",
   "execution_count": 1,
   "id": "2f845c4d",
   "metadata": {},
   "outputs": [],
   "source": [
    "import numpy as np\n",
    "import pandas as pd"
   ]
  },
  {
   "cell_type": "code",
   "execution_count": 24,
   "id": "8564b4a0",
   "metadata": {},
   "outputs": [
    {
     "name": "stdout",
     "output_type": "stream",
     "text": [
      "  Key   A   B\n",
      "5  K0  A0  B0\n",
      "6  K1  A1  B1\n",
      "7  K2  A2  B2\n",
      "8  K3  A3  B3\n",
      "         B\n",
      "Key A     \n",
      "K0  A0  B0\n",
      "K1  A1  B1\n",
      "K2  A2  B2\n",
      "K3  A3  B3\n",
      "     B\n",
      "A     \n",
      "A0  B0\n"
     ]
    }
   ],
   "source": [
    "# index\n",
    "df1 = pd.DataFrame({\n",
    "    'Key':['K0','K1','K2','K3'],\n",
    "    'A':['A0','A1','A2','A3'],\n",
    "    'B':['B0','B1','B2','B3'],\n",
    "},index = [5,6,7,8])\n",
    "print(df1)\n",
    "# print(df1.index)\n",
    "# df1.index = [0,1,2,3]\n",
    "# print(df1)\n",
    "# df1.index = df1['Key']\n",
    "# df1.drop('Key', axis = 1, inplace = True)\n",
    "# print(df1)\n",
    "\n",
    "# df1.set_index('Key', inplace=True)\n",
    "# print(df1)\n",
    "\n",
    "# df1.reset_index(inplace=True)\n",
    "# print(df1)\n",
    "\n",
    "df1.set_index(['Key', 'A'], inplace=True)\n",
    "print(df1)\n",
    "# print(df1.loc[('K0','A0'),:])\n",
    "print(df1.loc['K0',:])\n",
    "\n",
    "\n",
    "# df1.reset_index(inplace=True)\n",
    "# print(df1)"
   ]
  },
  {
   "cell_type": "code",
   "execution_count": 30,
   "id": "03a3e1da",
   "metadata": {},
   "outputs": [
    {
     "name": "stdout",
     "output_type": "stream",
     "text": [
      "Empty DataFrame\n",
      "Columns: [A, B, C, D, A, B, C, D, A, B, C, D]\n",
      "Index: []\n"
     ]
    }
   ],
   "source": [
    "df1 = pd.DataFrame(\n",
    "    {\n",
    "        \"A\": [\"A0\", \"A1\", \"A2\", \"A3\"],\n",
    "        \"B\": [\"B0\", \"B1\", \"B2\", \"B3\"],\n",
    "        \"C\": [\"C0\", \"C1\", \"C2\", \"C3\"],\n",
    "        \"D\": [\"D0\", \"D1\", \"D2\", \"D3\"],\n",
    "    },\n",
    "    index=[0, 1, 2, 3],\n",
    ")\n",
    "\n",
    "\n",
    "df2 = pd.DataFrame(\n",
    "    {\n",
    "        \"A\": [\"A4\", \"A5\", \"A6\", \"A7\"],\n",
    "        \"B\": [\"B4\", \"B5\", \"B6\", \"B7\"],\n",
    "        \"C\": [\"C4\", \"C5\", \"C6\", \"C7\"],\n",
    "        \"D\": [\"D4\", \"D5\", \"D6\", \"D7\"],\n",
    "    },\n",
    "    index=[4, 5, 6, 7],\n",
    ")\n",
    "\n",
    "\n",
    "df3 = pd.DataFrame(\n",
    "    {\n",
    "        \"A\": [\"A8\", \"A9\", \"A10\", \"A11\"],\n",
    "        \"B\": [\"B8\", \"B9\", \"B10\", \"B11\"],\n",
    "        \"C\": [\"C8\", \"C9\", \"C10\", \"C11\"],\n",
    "        \"D\": [\"D8\", \"D9\", \"D10\", \"D11\"],\n",
    "    },\n",
    "    index=[8, 9, 10, 11],\n",
    ")\n",
    "\n",
    "\n",
    "frames = [df1, df2, df3]\n",
    "df2.index = [3,4,5,6]\n",
    "df3.index = [6,7,8,9]\n",
    "\n",
    "result = pd.concat(frames, axis = 1, join = 'inner')\n",
    "#outer join 전부 다 가져오는것 , inner join 은 겹치는것만 \n",
    "print(result)"
   ]
  }
 ],
 "metadata": {
  "kernelspec": {
   "display_name": "Python 3 (ipykernel)",
   "language": "python",
   "name": "python3"
  },
  "language_info": {
   "codemirror_mode": {
    "name": "ipython",
    "version": 3
   },
   "file_extension": ".py",
   "mimetype": "text/x-python",
   "name": "python",
   "nbconvert_exporter": "python",
   "pygments_lexer": "ipython3",
   "version": "3.10.9"
  }
 },
 "nbformat": 4,
 "nbformat_minor": 5
}
