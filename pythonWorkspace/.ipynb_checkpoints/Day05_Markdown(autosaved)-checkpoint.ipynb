{
 "cells": [
  {
   "cell_type": "markdown",
   "id": "1150da5f",
   "metadata": {},
   "source": [
    "## markdown "
   ]
  },
  {
   "cell_type": "markdown",
   "id": "2ae7c129",
   "metadata": {},
   "source": [
    "# heading1\n",
    "## heading2\n",
    "### heading3 \n",
    "heading1\n",
    "=======\n",
    "heading2\n",
    "----------"
   ]
  },
  {
   "cell_type": "markdown",
   "id": "745d886b",
   "metadata": {},
   "source": [
    "문장1 문장2 문장3\n",
    "\n",
    "문장4\n",
    "\n",
    "문단x  줄바꿈은 한줄 비워주기\n",
    "\n",
    "* markdown  사이트 \n",
    "[title] https://www.markdownguide.org/basic-syntax/\n",
    "\n",
    "* 통계사이트\n",
    "[title] https://kosis.kr/search/search.do"
   ]
  },
  {
   "cell_type": "markdown",
   "id": "85c9db1b",
   "metadata": {},
   "source": [
    "* mathjax 수학수식\n",
    "$$\n",
    "    \\hat y = x_{i}+ \\sum3\n",
    "$$"
   ]
  }
 ],
 "metadata": {
  "kernelspec": {
   "display_name": "Python 3 (ipykernel)",
   "language": "python",
   "name": "python3"
  },
  "language_info": {
   "codemirror_mode": {
    "name": "ipython",
    "version": 3
   },
   "file_extension": ".py",
   "mimetype": "text/x-python",
   "name": "python",
   "nbconvert_exporter": "python",
   "pygments_lexer": "ipython3",
   "version": "3.10.9"
  }
 },
 "nbformat": 4,
 "nbformat_minor": 5
}
