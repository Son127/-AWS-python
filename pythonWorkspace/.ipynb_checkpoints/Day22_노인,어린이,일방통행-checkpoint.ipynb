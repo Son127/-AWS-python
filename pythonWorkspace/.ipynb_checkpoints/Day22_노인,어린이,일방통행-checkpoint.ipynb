{
 "cells": [
  {
   "cell_type": "code",
   "execution_count": 3,
   "id": "db71ea57",
   "metadata": {},
   "outputs": [],
   "source": [
    "import numpy as np\n",
    "import pandas as pd\n",
    "\n",
    "pd_oneway = pd.read_csv('전국일방통행도로표준데이터_pass1.csv')\n",
    "# pd_childway = pd.read_csv('전국어린이보호구역표준데이터_pass1.csv')\n",
    "pd_elderway = pd.read_csv('전국노인장애인보호구역표준데이터_pass1.csv')"
   ]
  },
  {
   "cell_type": "code",
   "execution_count": null,
   "id": "bd02f151",
   "metadata": {},
   "outputs": [],
   "source": [
    "print(pd_oneway.head()) #시도명 별 보차분리여부\n",
    "print(childway.head()) # 시도명(지자체명) 별 cctv설치대수\n",
    "print(pd_elderway.head()) #시도명별 cctv 설치대수"
   ]
  },
  {
   "cell_type": "code",
   "execution_count": null,
   "id": "963082f4",
   "metadata": {},
   "outputs": [],
   "source": [
    "g1 = pd_oneway[pd_oneway['보차분리여부'] == 'Y'].groupby('시도명')\n",
    "s1 = g1['보차분리여부'].count()\n",
    "s1.name  = '보차분리여부Y_COUNT'"
   ]
  },
  {
   "cell_type": "code",
   "execution_count": null,
   "id": "4f807c85",
   "metadata": {},
   "outputs": [],
   "source": [
    "g2 = pd_child.groupby('지자체명')\n",
    "s2 = g2['CCYV설치대수'].sum()\n",
    "s2.name = '어린이CCTV_COUNT'\n",
    "print(s2)"
   ]
  },
  {
   "cell_type": "code",
   "execution_count": null,
   "id": "c087619d",
   "metadata": {},
   "outputs": [],
   "source": [
    "g3 = pd_child.groupby('시도명')\n",
    "s3 = g2['CCYV설치대수'].sum()\n",
    "s3.name = '노인장애인CCTV_COUNT'\n",
    "print(s3)"
   ]
  },
  {
   "cell_type": "code",
   "execution_count": null,
   "id": "3cc30e40",
   "metadata": {},
   "outputs": [],
   "source": [
    "df_dmbined = pd.coucat((s1,s2,s3),axis = 1)\n",
    "print(df_combined)"
   ]
  },
  {
   "cell_type": "code",
   "execution_count": null,
   "id": "d521bd92",
   "metadata": {},
   "outputs": [],
   "source": [
    "import matplotlib.pyplot as plt\n",
    "\n",
    "_,axe = plt.subplots()\n",
    "axe.plot(df_combined['어린이CCTV_COUNT'])\n",
    "axe.plot(df_combined['노인장애인CCTV_COUNT'])"
   ]
  }
 ],
 "metadata": {
  "kernelspec": {
   "display_name": "Python 3 (ipykernel)",
   "language": "python",
   "name": "python3"
  },
  "language_info": {
   "codemirror_mode": {
    "name": "ipython",
    "version": 3
   },
   "file_extension": ".py",
   "mimetype": "text/x-python",
   "name": "python",
   "nbconvert_exporter": "python",
   "pygments_lexer": "ipython3",
   "version": "3.10.9"
  }
 },
 "nbformat": 4,
 "nbformat_minor": 5
}
