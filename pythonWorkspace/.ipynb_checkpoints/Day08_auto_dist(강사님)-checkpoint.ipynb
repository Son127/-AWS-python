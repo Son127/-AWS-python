{
 "cells": [
  {
   "cell_type": "code",
   "execution_count": 1,
   "id": "d3c2e6d8",
   "metadata": {},
   "outputs": [],
   "source": [
    "import numpy as np\n",
    "import math\n",
    "\n",
    "def dist_np(p1,p2):\n",
    "    i = p2 - p1 #[2 15]\n",
    "    i = sum(i * i) #[4, 225]\n",
    "    return math.sqrt(i)\n",
    "\n",
    "def dist_np2(p1, p2):\n",
    "    return math.sqrt(sum((p2 - p1)**2))\n",
    "import numpy as np\n",
    "import math\n",
    "\n",
    "def my_split(s):\n",
    "    block_start = False\n",
    "    start_index = 0\n",
    "    ret_list=[]\n",
    "    for i, c in enumerate(s):\n",
    "        if block_start==False:\n",
    "            if c==',':\n",
    "                ret_list.append(s[start_index:i])\n",
    "                start_index=i+1\n",
    "            elif c=='\"':\n",
    "                block_start=True\n",
    "                start_index = i\n",
    "        else:\n",
    "            if c=='\"':\n",
    "                block_start=False\n",
    "    if s[-1]!=',':\n",
    "        ret_list.append(s[start_index:])\n",
    "    return ret_list\n",
    "\n",
    "def split_len(data_list):\n",
    "    len_list=[]\n",
    "    for e in data_list:\n",
    "        len_list.append(len(e))\n",
    "    print(set(len_list))\n",
    "    if len(set(len_list))>1:\n",
    "        for i in set(len_list):\n",
    "            print(i, len_list.count(i))\n",
    "\n",
    "def dist_np(p1, p2): #  [3,10]  [5,25]\n",
    "    return math.sqrt(sum((p2-p1)**2))"
   ]
  },
  {
   "cell_type": "code",
   "execution_count": null,
   "id": "2338fb7c",
   "metadata": {},
   "outputs": [],
   "source": [
    "csv_data = []\n",
    "with open('전국자동차정비업체표준데이터1.csv') as f:\n",
    "    for line in f:\n",
    "        csv_data.append(my_split(line))\n",
    "    "
   ]
  },
  {
   "cell_type": "code",
   "execution_count": null,
   "id": "3e9ad51c",
   "metadata": {},
   "outputs": [],
   "source": [
    "loc_list = []\n",
    "for e in csv_data[1:]:\n",
    "    loc_list.append(e[4:6])\n",
    "for e in loc_list:\n",
    "    for i,v in enumerate(e):\n",
    "        try:\n",
    "            e[i] = float(n)\n",
    "        except:\n",
    "            e[i] = 0.0\n",
    "print(loc_list[:3])"
   ]
  },
  {
   "cell_type": "code",
   "execution_count": null,
   "id": "30ff9e60",
   "metadata": {},
   "outputs": [],
   "source": [
    "target_p = np.array([35.1531, 129.0596])\n",
    "p2 = np.array(loc_list[0])\n",
    "dist_np2(target_p,p2)"
   ]
  },
  {
   "cell_type": "code",
   "execution_count": null,
   "id": "6cc6accb",
   "metadata": {},
   "outputs": [],
   "source": [
    "dist_list = []\n",
    "for i,p2 in enumerate(list2):\n",
    "    dist_list.append([i,dist_np2(target_p,np.array(p2))])\n",
    "print(dist_list[:3])"
   ]
  },
  {
   "cell_type": "code",
   "execution_count": null,
   "id": "df6dfd94",
   "metadata": {},
   "outputs": [],
   "source": [
    "r = sorted(dist_list, key = lambda x : x[1])\n",
    "print(r[:5])"
   ]
  },
  {
   "cell_type": "code",
   "execution_count": null,
   "id": "762e3b9c",
   "metadata": {},
   "outputs": [],
   "source": [
    "for x in r[:5]:\n",
    "    print(csv_list[x[0]])"
   ]
  }
 ],
 "metadata": {
  "kernelspec": {
   "display_name": "Python 3 (ipykernel)",
   "language": "python",
   "name": "python3"
  },
  "language_info": {
   "codemirror_mode": {
    "name": "ipython",
    "version": 3
   },
   "file_extension": ".py",
   "mimetype": "text/x-python",
   "name": "python",
   "nbconvert_exporter": "python",
   "pygments_lexer": "ipython3",
   "version": "3.10.9"
  }
 },
 "nbformat": 4,
 "nbformat_minor": 5
}
