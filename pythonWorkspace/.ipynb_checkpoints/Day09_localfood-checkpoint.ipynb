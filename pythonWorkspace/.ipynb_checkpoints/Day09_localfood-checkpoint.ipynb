{
 "cells": [
  {
   "cell_type": "markdown",
   "id": "eb7f5997",
   "metadata": {},
   "source": [
    "### 전국 로컬 푸드 인증정보 표준 데이터\n",
    "* 인기품목별 top10(품목별 카운트)\n",
    "    * 다중품목 (+또는,연결)은 각각 분리\n",
    "    * 이외 단일 품목으로 취급\n",
    "  \n",
    "* dictionary 작성 : {군단위 지역명 : [품목명]}\n",
    "* dictionary 작성 : {품목 : [군단위지역명]}"
   ]
  },
  {
   "cell_type": "code",
   "execution_count": 1,
   "id": "093a2f00",
   "metadata": {},
   "outputs": [],
   "source": [
    "def my_split(s):\n",
    "    block_start = False\n",
    "    start_index = 0\n",
    "    ret_list=[]\n",
    "    for i, c in enumerate(s):\n",
    "        if block_start==False:\n",
    "            if c==',':\n",
    "                ret_list.append(s[start_index:i])\n",
    "                start_index=i+1\n",
    "            elif c=='\"':\n",
    "                block_start=True\n",
    "                start_index = i\n",
    "        else:\n",
    "            if c=='\"':\n",
    "                block_start=False\n",
    "    if s[-1]!=',':\n",
    "        ret_list.append(s[start_index:])\n",
    "    return ret_list\n",
    "\n",
    "def split_len(data_list):\n",
    "    len_list=[]\n",
    "    for e in data_list:\n",
    "        len_list.append(len(e))\n",
    "    print(set(len_list))\n",
    "    if len(set(len_list))>1:\n",
    "        for i in set(len_list):\n",
    "            print(i, len_list.count(i))\n"
   ]
  },
  {
   "cell_type": "code",
   "execution_count": 9,
   "id": "048b96b1",
   "metadata": {},
   "outputs": [
    {
     "name": "stdout",
     "output_type": "stream",
     "text": [
      "['로컬푸드인증번호', '인증유효시작일자', '인증유효종료일자', '인증취소일자', '사업장도로명주소', '사업장지번주소', '생산지도로명주소', '생산지지번주소', '품목명', '재배면적', '재배규모', '인증부여일자', '사업자명', '사업자등록번호', '전화번호', '관리기관명', '데이터기준일자', '제공기관코드', '제공기관명\\n']\n"
     ]
    }
   ],
   "source": [
    "csv_data = []\n",
    "with open ('전국로컬푸드인증정보표준데이터.csv') as f:\n",
    "    for i in f:\n",
    "        csv_data.append(my_split(i))\n",
    "print(csv_data[0])"
   ]
  },
  {
   "cell_type": "code",
   "execution_count": 17,
   "id": "4a83042b",
   "metadata": {},
   "outputs": [
    {
     "ename": "SyntaxError",
     "evalue": "incomplete input (3530694168.py, line 10)",
     "output_type": "error",
     "traceback": [
      "\u001b[1;36m  Cell \u001b[1;32mIn[17], line 10\u001b[1;36m\u001b[0m\n\u001b[1;33m    lista.remove('외')\u001b[0m\n\u001b[1;37m                     ^\u001b[0m\n\u001b[1;31mSyntaxError\u001b[0m\u001b[1;31m:\u001b[0m incomplete input\n"
     ]
    }
   ],
   "source": [
    "lista = []\n",
    "listf = []\n",
    "for i in csv_data:\n",
    "    lista.append(i[14])\n",
    "    listf.append(i[8].split('+'))\n",
    "while:\n"
   ]
  }
 ],
 "metadata": {
  "kernelspec": {
   "display_name": "Python 3 (ipykernel)",
   "language": "python",
   "name": "python3"
  },
  "language_info": {
   "codemirror_mode": {
    "name": "ipython",
    "version": 3
   },
   "file_extension": ".py",
   "mimetype": "text/x-python",
   "name": "python",
   "nbconvert_exporter": "python",
   "pygments_lexer": "ipython3",
   "version": "3.10.9"
  }
 },
 "nbformat": 4,
 "nbformat_minor": 5
}
