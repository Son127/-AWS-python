{
 "cells": [
  {
   "cell_type": "markdown",
   "id": "fa576e7f",
   "metadata": {},
   "source": [
    "- 횡단보도 연장, 녹색신호시간 : 상관도.\n",
    "\n",
    "- 자전거 횡단도 경용 비율(전체 대비)\n",
    "\n",
    "- 차로수 별 자전거 횡단도 카운트/비율\n",
    "\n",
    "- 차로수별 보행자 신호등 유무 카운트/비율\n",
    "\n",
    "- 차로수별 음향 신호기 설치 유무 카운트/비율\n",
    "\n",
    "#### 화면 출력\n",
    "\n",
    "1.상관도 수치\n",
    "\n",
    "2.비율 수치\n",
    "\n",
    "3~5 카운트 비율\n",
    "\n"
   ]
  },
  {
   "cell_type": "code",
   "execution_count": 131,
   "id": "7c685811",
   "metadata": {},
   "outputs": [],
   "source": [
    "import numpy as np\n",
    "import matplotlib.pyplot as plt\n",
    "np.set_printoptions(precision=5, suppress=True)\n",
    "\n",
    "def my_split(s):\n",
    "    block_start = False\n",
    "    start_index = 0\n",
    "    ret_list=[]\n",
    "    for i, c in enumerate(s):\n",
    "        if block_start==False:\n",
    "            if c==',':\n",
    "                ret_list.append(s[start_index:i])\n",
    "                start_index=i+1\n",
    "            elif c=='\"':\n",
    "                block_start=True\n",
    "                start_index = i\n",
    "        else:\n",
    "            if c=='\"':\n",
    "                block_start=False\n",
    "    if s[-1]!=',':\n",
    "        ret_list.append(s[start_index:])\n",
    "    return ret_list\n",
    "\n",
    "def check_splite(list_data):\n",
    "    t = set()\n",
    "    for e in list_data:\n",
    "        t.add(len(e))\n",
    "    return len(t)"
   ]
  },
  {
   "cell_type": "code",
   "execution_count": 124,
   "id": "1463bc13",
   "metadata": {},
   "outputs": [],
   "source": [
    "def np_data_from_data_go_kr_csv(filename):\n",
    "    t = []\n",
    "    with open (filename, encoding = 'cp949') as f:\n",
    "        for line in f:\n",
    "            t.append(my_split(line[:-1]))\n",
    "        if check_splite(t) != 1:\n",
    "            return None\n",
    "        else:\n",
    "            return np.array(t)\n",
    "        \n",
    "def print_index_title(np_data):\n",
    "    for e in enumerate(np_data[0]):\n",
    "        print(e)\n"
   ]
  },
  {
   "cell_type": "code",
   "execution_count": 178,
   "id": "edd99480",
   "metadata": {},
   "outputs": [],
   "source": [
    "def target1 (data):\n",
    "    sub_data = np_data[1:,[13,17]]\n",
    "    # 0 을 ''값으로 변환\n",
    "    sub_data[sub_data == '0'] = ''\n",
    "    # '' 값 제거\n",
    "    filter1 = sub_data[:,1] != '' #and (sub_data[:,1] != '0')\n",
    "    sub_data_f = sub_data[filter1].astype(np.float64)\n",
    "    \n",
    "#     _,axe = plt.subplots()\n",
    "#     axe.scatter(sub_data_f[:,0], sub_data_f[:,1])\n",
    "    \n",
    "    filter2 = sub_data_f[:,0] < 100\n",
    "    sub_data_f2 = sub_data_f[filter2]\n",
    "    \n",
    "#     axe.scatter(sub_data_f2[:,0], sub_data_f2[:,1])\n",
    "    \n",
    "    return np.corrcoef(sub_data_f2[:,0], sub_data_f2[:,1])[0,1]\n",
    "#     print(np.unique(sub_data_f[:,0]))\n",
    "#     print(np.unique(sub_data_f[:,1]))    \n",
    "    \n",
    "    \n",
    "# target1(np_data)"
   ]
  },
  {
   "cell_type": "code",
   "execution_count": 125,
   "id": "f97b64fc",
   "metadata": {},
   "outputs": [
    {
     "name": "stdout",
     "output_type": "stream",
     "text": [
      "[' ' 'N' 'Y'] [15910 29476  4614]\n"
     ]
    }
   ],
   "source": [
    "def target2(data):\n",
    "    sub_data = np_data[1:,7]\n",
    "    val, cnt = np.unique(sub_data, return_counts=True)\n",
    "#     print(val,cnt)\n",
    "    \n",
    "# target2(np_data)"
   ]
  },
  {
   "cell_type": "code",
   "execution_count": 164,
   "id": "8bbf10ec",
   "metadata": {},
   "outputs": [
    {
     "data": {
      "text/plain": [
       "array([[    0.     ,     0.     ,     2.     ,     0.     ],\n",
       "       [    1.     ,   423.     ,  6166.     ,     0.0642 ],\n",
       "       [    2.     ,   859.     , 12472.     ,     0.06444],\n",
       "       [    3.     ,   489.     ,  2055.     ,     0.19222],\n",
       "       [    4.     ,  1002.     ,  4662.     ,     0.17691],\n",
       "       [    5.     ,   525.     ,  1573.     ,     0.25024],\n",
       "       [    6.     ,   593.     ,  1460.     ,     0.28885],\n",
       "       [    7.     ,   371.     ,   584.     ,     0.38848],\n",
       "       [    8.     ,   166.     ,   334.     ,     0.332  ],\n",
       "       [    9.     ,   125.     ,   123.     ,     0.50403],\n",
       "       [   10.     ,    39.     ,    37.     ,     0.51316],\n",
       "       [   11.     ,    12.     ,     6.     ,     0.66667],\n",
       "       [   12.     ,     7.     ,     2.     ,     0.77778],\n",
       "       [   13.     ,     3.     ,     0.     ,     1.     ],\n",
       "       [   15.     ,     0.     ,     0.     ,     0.     ]])"
      ]
     },
     "execution_count": 164,
     "metadata": {},
     "output_type": "execute_result"
    }
   ],
   "source": [
    "def target3(data):\n",
    "    sub_data = np_data[1:,[11,7]]\n",
    "#     print(np.unique(sub_data[:,0]))\n",
    "#     print(np.unique(sub_data[:,1]))\n",
    "    t = []\n",
    "    for e in np.unique(sub_data[:,0]):\n",
    "        filter1 = sub_data[:,0] == e\n",
    "        sub_data_f =  sub_data[filter1]\n",
    "        sub_data_f_y = sub_data_f[sub_data_f[:, 1] == 'Y']\n",
    "        sub_data_f_n = sub_data_f[sub_data_f[:, 1] == 'N']\n",
    "#         print(e, len(sub_data_f_y), len(sub_data_f_n))\n",
    "#         print(np.unique(sub_data_f[:,1], return_counts= True))\n",
    "#         print(len(sub_data_f_y) / len(sub_data_f_n))\n",
    "        yes_count = len(sub_data_f_y)\n",
    "        no_count = len(sub_data_f_n)\n",
    "        yes_no_count = yes_count + no_count\n",
    "        if yes_no_count == 0:\n",
    "            yes_no_count = 1\n",
    "        t.append((e, yes_count, no_count, yes_count / yes_no_count))\n",
    "    t = np.array(t).astype(np.float64)\n",
    "    t = np.array(sorted(t, key = lambda x: x[0]))\n",
    "    return t\n",
    "    \n",
    "# target3(np_data)"
   ]
  },
  {
   "cell_type": "code",
   "execution_count": 173,
   "id": "42628ed6",
   "metadata": {},
   "outputs": [
    {
     "data": {
      "text/plain": [
       "array([[    0.     ,     0.     ,     2.     ,     0.     ],\n",
       "       [    1.     ,   423.     ,  6166.     ,     0.0642 ],\n",
       "       [    2.     ,   859.     , 12472.     ,     0.06444],\n",
       "       [    3.     ,   489.     ,  2055.     ,     0.19222],\n",
       "       [    4.     ,  1002.     ,  4662.     ,     0.17691],\n",
       "       [    5.     ,   525.     ,  1573.     ,     0.25024],\n",
       "       [    6.     ,   593.     ,  1460.     ,     0.28885],\n",
       "       [    7.     ,   371.     ,   584.     ,     0.38848],\n",
       "       [    8.     ,   166.     ,   334.     ,     0.332  ],\n",
       "       [    9.     ,   125.     ,   123.     ,     0.50403],\n",
       "       [   10.     ,    39.     ,    37.     ,     0.51316],\n",
       "       [   11.     ,    12.     ,     6.     ,     0.66667],\n",
       "       [   12.     ,     7.     ,     2.     ,     0.77778],\n",
       "       [   13.     ,     3.     ,     0.     ,     1.     ],\n",
       "       [   15.     ,     0.     ,     0.     ,     0.     ]])"
      ]
     },
     "execution_count": 173,
     "metadata": {},
     "output_type": "execute_result"
    }
   ],
   "source": [
    "def target4(data):\n",
    "    sub_data = np_data[1:,[11,7]]\n",
    "    sub_data[sub_data == 'n'] = 'N'\n",
    "    sub_data[sub_data == 'y'] = 'Y'\n",
    "#     print(np.unique(sub_data[:,0]))\n",
    "#     print(np.unique(sub_data[:,1]))\n",
    "    t = []\n",
    "    for e in np.unique(sub_data[:,0]):\n",
    "        filter1 = sub_data[:,0] == e\n",
    "        sub_data_f =  sub_data[filter1]\n",
    "        sub_data_f_y = sub_data_f[sub_data_f[:, 1] == 'Y']\n",
    "        sub_data_f_n = sub_data_f[sub_data_f[:, 1] == 'N']\n",
    "#         print(e, len(sub_data_f_y), len(sub_data_f_n))\n",
    "#         print(np.unique(sub_data_f[:,1], return_counts= True))\n",
    "#         print(len(sub_data_f_y) / len(sub_data_f_n))\n",
    "        yes_count = len(sub_data_f_y)\n",
    "        no_count = len(sub_data_f_n)\n",
    "        yes_no_count = yes_count + no_count\n",
    "        if yes_no_count == 0:\n",
    "            yes_no_count = 1\n",
    "        t.append((e, yes_count, no_count, yes_count / yes_no_count))\n",
    "    t = np.array(t).astype(np.float64)\n",
    "    t = np.array(sorted(t, key = lambda x: x[0]))\n",
    "    return t\n",
    "    \n",
    "# target4(np_data)"
   ]
  },
  {
   "cell_type": "code",
   "execution_count": 174,
   "id": "fad48bf5",
   "metadata": {},
   "outputs": [
    {
     "data": {
      "text/plain": [
       "array([[   0.     ,    2.     ,    0.     ,    1.     ],\n",
       "       [   1.     ,   64.     , 3480.     ,    0.01806],\n",
       "       [   2.     ,  582.     , 6873.     ,    0.07807],\n",
       "       [   3.     ,  363.     , 1489.     ,    0.196  ],\n",
       "       [   4.     ,  890.     , 2590.     ,    0.25575],\n",
       "       [   5.     ,  571.     , 1006.     ,    0.36208],\n",
       "       [   6.     ,  471.     ,  692.     ,    0.40499],\n",
       "       [   7.     ,  300.     ,  384.     ,    0.4386 ],\n",
       "       [   8.     ,  183.     ,  171.     ,    0.51695],\n",
       "       [   9.     ,   81.     ,   95.     ,    0.46023],\n",
       "       [  10.     ,   10.     ,   10.     ,    0.5    ],\n",
       "       [  11.     ,    2.     ,    2.     ,    0.5    ],\n",
       "       [  12.     ,    0.     ,    0.     ,    0.     ],\n",
       "       [  13.     ,    0.     ,    0.     ,    0.     ],\n",
       "       [  15.     ,    0.     ,    0.     ,    0.     ]])"
      ]
     },
     "execution_count": 174,
     "metadata": {},
     "output_type": "execute_result"
    }
   ],
   "source": [
    "def target5(data):\n",
    "    sub_data = np_data[1:,[11,16]]\n",
    "    sub_data[sub_data == 'n'] = 'N'\n",
    "    sub_data[sub_data == 'y'] = 'Y'\n",
    "#     print(np.unique(sub_data[:,0]))\n",
    "#     print(np.unique(sub_data[:,1]))\n",
    "    t = []\n",
    "    for e in np.unique(sub_data[:,0]):\n",
    "        filter1 = sub_data[:,0] == e\n",
    "        sub_data_f =  sub_data[filter1]\n",
    "        sub_data_f_y = sub_data_f[sub_data_f[:, 1] == 'Y']\n",
    "        sub_data_f_n = sub_data_f[sub_data_f[:, 1] == 'N']\n",
    "#         print(e, len(sub_data_f_y), len(sub_data_f_n))\n",
    "#         print(np.unique(sub_data_f[:,1], return_counts= True))\n",
    "#         print(len(sub_data_f_y) / len(sub_data_f_n))\n",
    "        yes_count = len(sub_data_f_y)\n",
    "        no_count = len(sub_data_f_n)\n",
    "        yes_no_count = yes_count + no_count\n",
    "        if yes_no_count == 0:\n",
    "            yes_no_count = 1\n",
    "        t.append((e, yes_count, no_count, yes_count / yes_no_count))\n",
    "    t = np.array(t).astype(np.float64)\n",
    "    t = np.array(sorted(t, key = lambda x: x[0]))\n",
    "    return t\n",
    "    \n",
    "# target5(np_data)"
   ]
  },
  {
   "cell_type": "code",
   "execution_count": 6,
   "id": "ea26ba31",
   "metadata": {},
   "outputs": [
    {
     "ename": "NameError",
     "evalue": "name 'np_data_from_data_go_kr_csv' is not defined",
     "output_type": "error",
     "traceback": [
      "\u001b[1;31m---------------------------------------------------------------------------\u001b[0m",
      "\u001b[1;31mNameError\u001b[0m                                 Traceback (most recent call last)",
      "Cell \u001b[1;32mIn[6], line 2\u001b[0m\n\u001b[0;32m      1\u001b[0m \u001b[38;5;28;01mif\u001b[39;00m \u001b[38;5;18m__name__\u001b[39m \u001b[38;5;241m==\u001b[39m \u001b[38;5;124m'\u001b[39m\u001b[38;5;124m__main__\u001b[39m\u001b[38;5;124m'\u001b[39m:\n\u001b[1;32m----> 2\u001b[0m     np_data \u001b[38;5;241m=\u001b[39m \u001b[43mnp_data_from_data_go_kr_csv\u001b[49m(\u001b[38;5;124m'\u001b[39m\u001b[38;5;124mxing.csv\u001b[39m\u001b[38;5;124m'\u001b[39m)\n\u001b[0;32m      3\u001b[0m     \u001b[38;5;28mprint\u001b[39m(target1(np_data))\n\u001b[0;32m      4\u001b[0m     \u001b[38;5;28mprint\u001b[39m(target2(np_data))\n",
      "\u001b[1;31mNameError\u001b[0m: name 'np_data_from_data_go_kr_csv' is not defined"
     ]
    }
   ],
   "source": [
    "\n",
    "if __name__ == '__main__':\n",
    "    np_data = np_data_from_data_go_kr_csv('xing.csv')\n",
    "    print(target1(np_data))\n",
    "    print(target2(np_data))\n",
    "    print(target3(np_data))\n",
    "    print(target4(np_data))\n",
    "    print(target5(np_data))\n",
    "    \n",
    "    \n",
    "#     print_index_title(np_data)\n",
    "\n"
   ]
  }
 ],
 "metadata": {
  "kernelspec": {
   "display_name": "Python 3 (ipykernel)",
   "language": "python",
   "name": "python3"
  },
  "language_info": {
   "codemirror_mode": {
    "name": "ipython",
    "version": 3
   },
   "file_extension": ".py",
   "mimetype": "text/x-python",
   "name": "python",
   "nbconvert_exporter": "python",
   "pygments_lexer": "ipython3",
   "version": "3.10.9"
  }
 },
 "nbformat": 4,
 "nbformat_minor": 5
}
