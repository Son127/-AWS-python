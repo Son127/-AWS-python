{
 "cells": [
  {
   "cell_type": "code",
   "execution_count": 53,
   "id": "65bc5666",
   "metadata": {},
   "outputs": [
    {
     "name": "stdout",
     "output_type": "stream",
     "text": [
      "[5, 3, 4, 1, 2, 6]\n"
     ]
    }
   ],
   "source": [
    "import random\n",
    "\n",
    "lista = [1,2,3,4,5,6]\n",
    "random.shuffle(lista) # 리스트를 섞어주는 \n",
    "print(lista)\n",
    "\n"
   ]
  },
  {
   "cell_type": "code",
   "execution_count": 54,
   "id": "626aac6a",
   "metadata": {},
   "outputs": [
    {
     "name": "stdout",
     "output_type": "stream",
     "text": [
      "['clover', 'diamond', 'heart', 'spade']\n",
      "['Ace', '2', '3', '4', '5', '6', '7', '8', '9', '10', 'Jack', 'Qeen', 'King']\n"
     ]
    }
   ],
   "source": [
    "suits = ['clover','diamond','heart','spade']\n",
    "#rank = ['Ace','2'...'10','Jack','Qeen','King' ]\n",
    "\n",
    "rank = [str(i) for i in range(2,11)]\n",
    "rank = ['Ace'] + rank + ['Jack', 'Qeen', 'King']\n",
    "print(suits)\n",
    "print(rank)"
   ]
  },
  {
   "cell_type": "code",
   "execution_count": 62,
   "id": "7a8582fc",
   "metadata": {},
   "outputs": [
    {
     "name": "stdout",
     "output_type": "stream",
     "text": [
      "{'clover Ace': 1, 'clover 2': 2, 'clover 3': 3, 'clover 4': 4, 'clover 5': 5, 'clover 6': 6, 'clover 7': 7, 'clover 8': 8, 'clover 9': 9, 'clover 10': 10, 'clover Jack': 11, 'clover Qeen': 10, 'clover King': 10, 'diamond Ace': 10, 'diamond 2': 1, 'diamond 3': 2, 'diamond 4': 3, 'diamond 5': 4, 'diamond 6': 5, 'diamond 7': 6, 'diamond 8': 7, 'diamond 9': 8, 'diamond 10': 9, 'diamond Jack': 10, 'diamond Qeen': 11, 'diamond King': 10, 'heart Ace': 10, 'heart 2': 10, 'heart 3': 1, 'heart 4': 2, 'heart 5': 3, 'heart 6': 4, 'heart 7': 5, 'heart 8': 6, 'heart 9': 7, 'heart 10': 8, 'heart Jack': 9, 'heart Qeen': 10, 'heart King': 11, 'spade Ace': 10, 'spade 2': 10, 'spade 3': 10, 'spade 4': 1, 'spade 5': 2, 'spade 6': 3, 'spade 7': 4, 'spade 8': 5, 'spade 9': 6, 'spade 10': 7, 'spade Jack': 8, 'spade Qeen': 9, 'spade King': 10}\n"
     ]
    }
   ],
   "source": [
    "Deck = []\n",
    "\n",
    "for i in suits:\n",
    "    for k in rank:\n",
    "        Deck.append(i +' '+ k)\n",
    "\n",
    "score_list = [i+1 for i in range(11)]\n",
    "score_list = score_list + [10] * 3\n",
    "score_list = score_list * 4\n",
    "score_dict = dict(zip(Deck, score_list))\n",
    "print(score_dict)\n",
    "\n",
    "def score_hand(hands):\n",
    "    score = 0\n",
    "    for card in hands:\n",
    "        score = score + score_dict[card]\n",
    "    return score\n"
   ]
  },
  {
   "cell_type": "code",
   "execution_count": 56,
   "id": "a36c8289",
   "metadata": {},
   "outputs": [
    {
     "name": "stdout",
     "output_type": "stream",
     "text": [
      "['heart 5', 'diamond 4']\n"
     ]
    }
   ],
   "source": [
    "random.shuffle(Deck)\n",
    "print(Deck[:2])"
   ]
  },
  {
   "cell_type": "code",
   "execution_count": 57,
   "id": "7d602018",
   "metadata": {},
   "outputs": [
    {
     "data": {
      "text/plain": [
       "'spade King'"
      ]
     },
     "execution_count": 57,
     "metadata": {},
     "output_type": "execute_result"
    }
   ],
   "source": [
    "Deck.pop() #리스트 맨 뒤에서 하나씩 꺼냄"
   ]
  },
  {
   "cell_type": "code",
   "execution_count": 68,
   "id": "4476d82f",
   "metadata": {},
   "outputs": [
    {
     "name": "stdout",
     "output_type": "stream",
     "text": [
      "GameStart\n",
      "\n",
      "Dealer Hands\n",
      "['heart 10', 'heart Qeen'] 18\n",
      "\n",
      "player hands\n",
      "['clover 3', 'clover 8'] 11\n",
      "Del(1) or Stop(0)1\n"
     ]
    },
    {
     "ename": "NameError",
     "evalue": "name 'print_hand' is not defined",
     "output_type": "error",
     "traceback": [
      "\u001b[1;31m---------------------------------------------------------------------------\u001b[0m",
      "\u001b[1;31mNameError\u001b[0m                                 Traceback (most recent call last)",
      "Cell \u001b[1;32mIn[68], line 15\u001b[0m\n\u001b[0;32m     13\u001b[0m ans \u001b[38;5;241m=\u001b[39m \u001b[38;5;28minput\u001b[39m(\u001b[38;5;124m'\u001b[39m\u001b[38;5;124mDel(1) or Stop(0)\u001b[39m\u001b[38;5;124m'\u001b[39m)\n\u001b[0;32m     14\u001b[0m \u001b[38;5;28;01mif\u001b[39;00m ans \u001b[38;5;241m==\u001b[39m \u001b[38;5;124m'\u001b[39m\u001b[38;5;124m1\u001b[39m\u001b[38;5;124m'\u001b[39m:\n\u001b[1;32m---> 15\u001b[0m     \u001b[43mprint_hand\u001b[49m\u001b[38;5;241m.\u001b[39mappend(Deck\u001b[38;5;241m.\u001b[39mpop())\n\u001b[0;32m     16\u001b[0m     score_hands(player_hand)\n\u001b[0;32m     17\u001b[0m \u001b[38;5;28mprint\u001b[39m(ans, \u001b[38;5;28mtype\u001b[39m(ans))\n",
      "\u001b[1;31mNameError\u001b[0m: name 'print_hand' is not defined"
     ]
    }
   ],
   "source": [
    "print('GameStart\\n')\n",
    "random.shuffle(Deck)\n",
    "print('Dealer Hands')\n",
    "\n",
    "dealer_hand = [Deck.pop() for _ in range(2)]\n",
    "print(dealer_hand,score_hand(dealer_hand))\n",
    "\n",
    "print('\\nplayer hands')\n",
    "player_hand = [Deck.pop() for _ in range(2)]\n",
    "print(player_hand, score_hand(player_hand))\n",
    "\n",
    "if score_hand(player_hand) < 21:\n",
    "    ans = input('Del(1) or Stop(0)')\n",
    "    if ans == '1':\n",
    "        print_hand.append(Deck.pop())\n",
    "        score_hands(player_hand)\n",
    "    print(ans, type(ans))\n",
    "    \n",
    "    #승부표시\n",
    "    "
   ]
  }
 ],
 "metadata": {
  "kernelspec": {
   "display_name": "Python 3 (ipykernel)",
   "language": "python",
   "name": "python3"
  },
  "language_info": {
   "codemirror_mode": {
    "name": "ipython",
    "version": 3
   },
   "file_extension": ".py",
   "mimetype": "text/x-python",
   "name": "python",
   "nbconvert_exporter": "python",
   "pygments_lexer": "ipython3",
   "version": "3.10.9"
  }
 },
 "nbformat": 4,
 "nbformat_minor": 5
}
