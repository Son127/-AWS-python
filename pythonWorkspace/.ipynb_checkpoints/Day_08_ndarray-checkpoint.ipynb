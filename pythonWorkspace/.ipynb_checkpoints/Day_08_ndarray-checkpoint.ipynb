{
 "cells": [
  {
   "cell_type": "code",
   "execution_count": 6,
   "id": "98d37b77",
   "metadata": {},
   "outputs": [],
   "source": [
    "import numpy as np"
   ]
  },
  {
   "cell_type": "code",
   "execution_count": 9,
   "id": "8a4e9c30",
   "metadata": {},
   "outputs": [
    {
     "name": "stdout",
     "output_type": "stream",
     "text": [
      "[1, 2, 3, 4, 5]\n",
      "[1 2 3 4 5]\n",
      "<class 'numpy.ndarray'>\n"
     ]
    }
   ],
   "source": [
    "a1 = np.array([1,2,3,4,5]) #list랑 같이 생겼지만 출력시 콤마가 안찍힌다.\n",
    "print([1,2,3,4,5])\n",
    "print(a1)\n",
    "print(type(a1))"
   ]
  },
  {
   "cell_type": "code",
   "execution_count": 20,
   "id": "e3ce6fb8",
   "metadata": {},
   "outputs": [
    {
     "name": "stdout",
     "output_type": "stream",
     "text": [
      "[0 1 2 3 4 5 6 7 8 9]\n",
      "[ 0  3  6  9 12 15 18 21 24 27 30 33 36 39 42 45 48 51 54 57 60 63 66 69\n",
      " 72 75 78 81 84 87 90 93 96 99]\n",
      "[1.3 1.8 2.3 2.8 3.3 3.8 4.3 4.8 5.3 5.8 6.3 6.8 7.3 7.8 8.3 8.8 9.3 9.8]\n"
     ]
    }
   ],
   "source": [
    "a2 = np.arange(10)\n",
    "print(a2)\n",
    "\n",
    "#100아래에 있는 3의 배수\n",
    "a3 = np.arange(0,100,3)\n",
    "print(a3)\n",
    "#1에서부터 10아래 숫자 0.5씩 증가하는 숫자 step = 0.5 (실수 기입가능)\n",
    "a4 = np.arange(1.3,10,0.5)\n",
    "print(a4)\n",
    "#python list에서는 step에 실수 기입 못함\n",
    "#lista = [i for i in range(1,10,0.3)]"
   ]
  },
  {
   "cell_type": "code",
   "execution_count": 26,
   "id": "bb07cbd4",
   "metadata": {},
   "outputs": [
    {
     "name": "stdout",
     "output_type": "stream",
     "text": [
      "[ 0. 10.]\n"
     ]
    }
   ],
   "source": [
    "a5 = np.linspace(0,10,2) #0~10까지 양쪽 포함에서 숫자를 n개 달라\n",
    "print(a5)"
   ]
  },
  {
   "cell_type": "code",
   "execution_count": 32,
   "id": "3dace593",
   "metadata": {},
   "outputs": [
    {
     "name": "stdout",
     "output_type": "stream",
     "text": [
      "[0. 0. 0. 0. 0.]\n",
      "[1. 1. 1. 1. 1.]\n",
      "[1 1 1 1 1]\n"
     ]
    },
    {
     "data": {
      "text/plain": [
       "array([1., 1., 1., 1., 1.])"
      ]
     },
     "execution_count": 32,
     "metadata": {},
     "output_type": "execute_result"
    }
   ],
   "source": [
    "a6 = np.zeros(5)# 0으로 채워줌\n",
    "print(a6)\n",
    "a7 = np.ones(5) # 1로 채워줌\n",
    "print(a7)\n",
    "#데이터 타입 변환\n",
    "a6 = np.ones(5, dtype=np.int64)\n",
    "print(a6)\n",
    "a6.astype(np.float64)"
   ]
  },
  {
   "cell_type": "code",
   "execution_count": 37,
   "id": "3ddd8d6c",
   "metadata": {},
   "outputs": [
    {
     "name": "stdout",
     "output_type": "stream",
     "text": [
      "[1.  2.  3.  1.4 4.5]\n",
      "['1' '2' 'abc' 'def']\n"
     ]
    }
   ],
   "source": [
    "lista = [1,2,3,1.4,4.5]\n",
    "b1 = np.array(lista)\n",
    "print(b1)\n",
    "\n",
    "listb = [1,2,'abc','def']\n",
    "b2 = np.array(listb)\n",
    "print(b2)\n",
    "#b2.astype(np.int64)"
   ]
  },
  {
   "cell_type": "code",
   "execution_count": 42,
   "id": "0a5e8f7e",
   "metadata": {},
   "outputs": [
    {
     "name": "stdout",
     "output_type": "stream",
     "text": [
      "float64\n",
      "1\n",
      "(5,)\n",
      "5\n",
      "8\n",
      "<memory at 0x000002A91219B940>\n"
     ]
    }
   ],
   "source": [
    "print(a7.dtype)\n",
    "print(a7.ndim) # 몇차원 배열인지.\n",
    "print(a7.shape) # 이 array의 모양\n",
    "print(a7.size) # array안에 모든 숫자\n",
    "\n",
    "print(a7.itemsize) #바이트 사이즈\n",
    "print(a7.data)"
   ]
  }
 ],
 "metadata": {
  "kernelspec": {
   "display_name": "Python 3 (ipykernel)",
   "language": "python",
   "name": "python3"
  },
  "language_info": {
   "codemirror_mode": {
    "name": "ipython",
    "version": 3
   },
   "file_extension": ".py",
   "mimetype": "text/x-python",
   "name": "python",
   "nbconvert_exporter": "python",
   "pygments_lexer": "ipython3",
   "version": "3.10.9"
  }
 },
 "nbformat": 4,
 "nbformat_minor": 5
}
