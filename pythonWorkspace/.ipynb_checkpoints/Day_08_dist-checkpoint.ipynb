{
 "cells": [
  {
   "cell_type": "code",
   "execution_count": 21,
   "id": "d89a2f2e",
   "metadata": {},
   "outputs": [
    {
     "name": "stdout",
     "output_type": "stream",
     "text": [
      "15.132745950421556\n",
      "x: 2 4\n",
      "y: 15 225\n",
      "15.132745950421556\n"
     ]
    }
   ],
   "source": [
    "import numpy as np\n",
    "import math\n",
    "\n",
    "x1 = 3 \n",
    "y1 = 10\n",
    "\n",
    "x2 = 5\n",
    "y2 = 25\n",
    "a = math.sqrt((x2 - x1) **2 + (y2 - y1) ** 2)\n",
    "print(a) # 15.132745950421556\n",
    "def dist(p1, p2):\n",
    "    print('x:', (p2[0]-p1[0]),(p2[0]-p1[0]) ** 2)\n",
    "    print('y:', (p2[1]-p1[1]),(p2[1]-p1[1]) ** 2)\n",
    "    return math.sqrt((p2[1] - p1[1]) **2 + (p2[0] - p2[0]) ** 2)\n",
    "\n",
    "b = dist([x1,y1],[x2,y2])\n",
    "#print(b)\n",
    "\n",
    "def dist_np(p1,p2):\n",
    "    i = p2 - p1 #[2 15]\n",
    "    i = sum(i * i) #[4, 225]\n",
    "    return math.sqrt(i)\n",
    "\n",
    "def dist_np2(p1, p2):\n",
    "    return math.sqrt(sum((p2 - p1)**2))\n",
    "\n",
    "c = dist_np2(np.array([x1,y1]),np.array([x2,y2]))\n",
    "print(c)"
   ]
  },
  {
   "cell_type": "code",
   "execution_count": 49,
   "id": "7faaa337",
   "metadata": {},
   "outputs": [
    {
     "name": "stdout",
     "output_type": "stream",
     "text": [
      "[['위도,경도', ''], ['36.93385095,129.2462157', ''], ['36.9337494,127.4605018', ''], ['36.93372085,127.8917746', ''], ['36.93324577,128.9135575', ''], ['36.93313839,127.4264444', ''], ['36.93306246,127.133795', ''], ['36.93297563,126.7459616', ''], ['36.93297563,126.7459616', ''], ['36.93260272,127.043232', '']]\n"
     ]
    }
   ],
   "source": [
    "csv_list = []\n",
    "with open ('전국자동차정비업체표준데이터.csv') as f:\n",
    "    for a in f:\n",
    "        csv_list.append(a.split('\\n'))\n",
    "print(csv_list [0:10])"
   ]
  },
  {
   "cell_type": "code",
   "execution_count": 67,
   "id": "29e10cd7",
   "metadata": {},
   "outputs": [
    {
     "name": "stdout",
     "output_type": "stream",
     "text": [
      "[[36.93385095, 129.2462157], [36.9337494, 127.4605018], [36.93372085, 127.8917746]]\n"
     ]
    }
   ],
   "source": [
    "list1 = []\n",
    "for i in csv_list[1:]:\n",
    "    list1.append(i[0].split(','))\n",
    "\n",
    "list2 = []\n",
    "for e in list1:\n",
    "    for i,n in enumerate(e):\n",
    "        try:\n",
    "            e[i] = float(n)\n",
    "        except:\n",
    "            e[i] = 0.0\n",
    "    list2.append(e)\n",
    "print(list2[:3])"
   ]
  }
 ],
 "metadata": {
  "kernelspec": {
   "display_name": "Python 3 (ipykernel)",
   "language": "python",
   "name": "python3"
  },
  "language_info": {
   "codemirror_mode": {
    "name": "ipython",
    "version": 3
   },
   "file_extension": ".py",
   "mimetype": "text/x-python",
   "name": "python",
   "nbconvert_exporter": "python",
   "pygments_lexer": "ipython3",
   "version": "3.10.9"
  }
 },
 "nbformat": 4,
 "nbformat_minor": 5
}
