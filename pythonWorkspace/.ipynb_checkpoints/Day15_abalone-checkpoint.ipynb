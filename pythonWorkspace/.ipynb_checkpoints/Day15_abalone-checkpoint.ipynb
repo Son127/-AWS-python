{
 "cells": [
  {
   "cell_type": "raw",
   "id": "fd2d49e1",
   "metadata": {},
   "source": [
    "### 전복\n",
    "\n",
    "https://archive.ics.uci.edu/ml/datasets/Abalone\n",
    "data url:\n",
    "https://archive.ics.uci.edu/ml/machine-learning-databases/abalone/abalone.data\n",
    "\n",
    "1. requests 패키지를 이용해 데이터 가져오기 ndarray로 변환.\n",
    "\n",
    "3. 성별이 m 인 데이터를 필터, length 와 diameter 간 상관도를 반환\n",
    "\n",
    "4. __name__값이__main__이면 1,2 함수를 실행 , 2번 함수의 반환값을 프린트.\n",
    "\n",
    "bouns : sqlite3 데이터 베이스 생성.\n",
    "\n",
    "참고: https://docs.python.org/3/library/sqlite3.html\n",
    "\n",
    "테이블 DDl\n",
    "        \n",
    "        create table abalone(\n",
    "            length number,\n",
    "            diamter number);"
   ]
  },
  {
   "cell_type": "code",
   "execution_count": 4,
   "id": "f96049a7",
   "metadata": {},
   "outputs": [],
   "source": [
    "import requests\n",
    "import numpy as np\n",
    "\n",
    "x = requests.get('https://archive.ics.uci.edu/ml/machine-learning-databases/abalone/abalone.data')"
   ]
  },
  {
   "cell_type": "code",
   "execution_count": 32,
   "id": "deeb9830",
   "metadata": {},
   "outputs": [
    {
     "name": "stdout",
     "output_type": "stream",
     "text": [
      "['0.455' '0.365' '0.095' ... '0.3765' '0.495' '12']\n"
     ]
    }
   ],
   "source": [
    "# data1 = []\n",
    "# for i in x.text.split('\\n'):\n",
    "#     if len(i) > 0:\n",
    "#        data1.append(i.split(','))\n",
    "# np_data = np.array(data1)\n",
    "# filter1 = np_data != 'M'\n",
    "\n",
    "# np_data_f = np_data[filter1]\n",
    "# print(np_data_f)"
   ]
  },
  {
   "cell_type": "code",
   "execution_count": 75,
   "id": "c4dfeb14",
   "metadata": {},
   "outputs": [],
   "source": [
    "import requests\n",
    "import numpy as np\n",
    "def fetch_uci_data(url):\n",
    "    d = requests.get(url)\n",
    "    t = []\n",
    "    for line in d.text.split('\\n'):\n",
    "        if len(line) != 0:\n",
    "            t.append(line.split(','))\n",
    "    return np.array(t)\n",
    "\n",
    "def get_corr(d):\n",
    "    male_filter = (d[:, 0] == 'm')\n",
    "    male_samples = d[male_filter]\n",
    "    male_length = male_samples[:,1].astype(np.float64)\n",
    "    male_diameter = male_samples[:,2].astype(np.float64)\n",
    "    return np.corrcoef(male_length, male_diameter)"
   ]
  },
  {
   "cell_type": "code",
   "execution_count": 76,
   "id": "824a399e",
   "metadata": {},
   "outputs": [
    {
     "name": "stdout",
     "output_type": "stream",
     "text": [
      "[[nan nan]\n",
      " [nan nan]]\n"
     ]
    },
    {
     "name": "stderr",
     "output_type": "stream",
     "text": [
      "C:\\Users\\ITPS\\AppData\\Local\\Programs\\Python\\Python310\\lib\\site-packages\\numpy\\lib\\function_base.py:518: RuntimeWarning: Mean of empty slice.\n",
      "  avg = a.mean(axis, **keepdims_kw)\n",
      "C:\\Users\\ITPS\\AppData\\Local\\Programs\\Python\\Python310\\lib\\site-packages\\numpy\\core\\_methods.py:184: RuntimeWarning: invalid value encountered in divide\n",
      "  ret = um.true_divide(\n",
      "C:\\Users\\ITPS\\AppData\\Local\\Programs\\Python\\Python310\\lib\\site-packages\\numpy\\lib\\function_base.py:2846: RuntimeWarning: Degrees of freedom <= 0 for slice\n",
      "  c = cov(x, y, rowvar, dtype=dtype)\n",
      "C:\\Users\\ITPS\\AppData\\Local\\Programs\\Python\\Python310\\lib\\site-packages\\numpy\\lib\\function_base.py:2705: RuntimeWarning: divide by zero encountered in divide\n",
      "  c *= np.true_divide(1, fact)\n",
      "C:\\Users\\ITPS\\AppData\\Local\\Programs\\Python\\Python310\\lib\\site-packages\\numpy\\lib\\function_base.py:2705: RuntimeWarning: invalid value encountered in multiply\n",
      "  c *= np.true_divide(1, fact)\n"
     ]
    }
   ],
   "source": [
    "url = 'https://archive.ics.uci.edu/ml/machine-learning-databases/abalone/abalone.data'\n",
    "if __name__ == '__main__':\n",
    "    np_data = fetch_uci_data(url)\n",
    "    corr_value = get_corr(np_data)\n",
    "    \n",
    "print(corr_value)\n",
    "    "
   ]
  },
  {
   "cell_type": "code",
   "execution_count": 72,
   "id": "cf88d061",
   "metadata": {},
   "outputs": [],
   "source": [
    "import sqlite3\n",
    "#연결 or 파일생성\n",
    "con = sqlite3.connect(\"test.db\")\n",
    "#커서 생성\n",
    "cur = con.cursor()\n",
    "\n",
    "cur.execute(\"CREATE TABLE abalone(length real, diameter real)\")\n",
    "cur.execute(\"INSERT INTO abalone(length , diameter) values(10.0, 20.0)\")\n",
    "\n",
    "con.commit()\n",
    "con.close()\n"
   ]
  },
  {
   "cell_type": "code",
   "execution_count": 74,
   "id": "eb277fc1",
   "metadata": {},
   "outputs": [
    {
     "name": "stdout",
     "output_type": "stream",
     "text": [
      "[(10.0, 20.0)]\n"
     ]
    }
   ],
   "source": [
    "con  = sqlite3.connect(\"test.db\")\n",
    "cur = con.cursor()\n",
    "res = cur.execute(\"SELECT * from abalone\")\n",
    "print(res.fetchall())"
   ]
  }
 ],
 "metadata": {
  "kernelspec": {
   "display_name": "Python 3 (ipykernel)",
   "language": "python",
   "name": "python3"
  },
  "language_info": {
   "codemirror_mode": {
    "name": "ipython",
    "version": 3
   },
   "file_extension": ".py",
   "mimetype": "text/x-python",
   "name": "python",
   "nbconvert_exporter": "python",
   "pygments_lexer": "ipython3",
   "version": "3.10.9"
  }
 },
 "nbformat": 4,
 "nbformat_minor": 5
}
