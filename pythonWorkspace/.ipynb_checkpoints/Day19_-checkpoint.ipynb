{
 "cells": [
  {
   "cell_type": "code",
   "execution_count": 38,
   "id": "4f8df377",
   "metadata": {},
   "outputs": [
    {
     "name": "stdout",
     "output_type": "stream",
     "text": [
      "                                    강좌명      강사명      교육시작일자      교육종료일자  \\\n",
      "0      오늘의 점심레시피 - 곰돌이 함박스테이크, 고슴도치 주먹밥  MBC씨앤아이  2022-01-01  2022-12-31   \n",
      "1            오늘의 점심레시피 - 과일 볶음밥 및 감자 피자  MBC씨앤아이  2022-01-01  2022-12-31   \n",
      "2                    오늘의 점심레시피 - 과일채소 쌈  MBC씨앤아이  2022-01-01  2022-12-31   \n",
      "3                  오늘의 점심레시피 - 꼬치 궁중떡볶이  MBC씨앤아이  2022-01-01  2022-12-31   \n",
      "4        오늘의 점심레시피 - 냉 녹차밥, 매콤한 해산물 샐러드  MBC씨앤아이  2022-01-01  2022-12-31   \n",
      "...                                 ...      ...         ...         ...   \n",
      "26530                            도자기페인팅      도선화  2022-11-17  2022-12-15   \n",
      "26531                            나이프페인팅      조혜수  2022-10-07  2022-11-25   \n",
      "26532                        홈스타일링 마크라메      권철은  2022-10-07  2022-12-09   \n",
      "26533                   [자격증]원예치료전문가 3급      김세현  2022-10-07  2022-12-09   \n",
      "26534                [자격증]그림책감정코칭지도사 2급      김은경  2022-10-07  2022-11-25   \n",
      "\n",
      "      교육대상구분 교육방법구분           운영요일        교육장소  강좌정원수    수강료  ...      접수종료일자  \\\n",
      "0       지역주민    온라인  월+화+수+목+금+토+일        군산시청    100      0  ...  2022-12-31   \n",
      "1       지역주민    온라인  월+화+수+목+금+토+일        군산시청    100      0  ...  2022-12-31   \n",
      "2       지역주민    온라인  월+화+수+목+금+토+일        군산시청    100      0  ...  2022-12-31   \n",
      "3       지역주민    온라인  월+화+수+목+금+토+일        군산시청    100      0  ...  2022-12-31   \n",
      "4       지역주민    온라인  월+화+수+목+금+토+일        군산시청    100      0  ...  2022-12-31   \n",
      "...      ...    ...            ...         ...    ...    ...  ...         ...   \n",
      "26530     성인   오프라인              목  YDP미래평생학습관     20  10000  ...  2022-09-30   \n",
      "26531     성인   오프라인              금  YDP미래평생학습관     12  10000  ...  2022-09-30   \n",
      "26532     성인   오프라인              금  YDP미래평생학습관     15  10000  ...  2022-09-30   \n",
      "26533     성인   오프라인              금  YDP미래평생학습관     15  20000  ...  2022-09-30   \n",
      "26534     성인   오프라인              금  YDP미래평생학습관     15  20000  ...  2022-09-30   \n",
      "\n",
      "      접수방법구분 선정방법구분                 홈페이지주소 직업능력개발훈련비지원강좌여부 학점은행제평가(학점)인정여부  \\\n",
      "0        인터넷    선착순  cyberedu.gunsan.go.kr               N               N   \n",
      "1        인터넷    선착순  cyberedu.gunsan.go.kr               N               N   \n",
      "2        인터넷    선착순  cyberedu.gunsan.go.kr               N               N   \n",
      "3        인터넷    선착순  cyberedu.gunsan.go.kr               N               N   \n",
      "4        인터넷    선착순  cyberedu.gunsan.go.kr               N               N   \n",
      "...      ...    ...                    ...             ...             ...   \n",
      "26530    온라인    선착순       http://ydp.go.kr               N               N   \n",
      "26531    온라인    선착순       http://ydp.go.kr               N               N   \n",
      "26532    온라인    선착순       http://ydp.go.kr               N               N   \n",
      "26533    온라인    선착순       http://ydp.go.kr               N               N   \n",
      "26534    온라인    선착순       http://ydp.go.kr               N               N   \n",
      "\n",
      "      평생학습계좌제평가인정여부     데이터기준일자   제공기관코드       제공기관명  \n",
      "0                 N  2022-11-23  4670000    전라북도 군산시  \n",
      "1                 N  2022-11-23  4670000    전라북도 군산시  \n",
      "2                 N  2022-11-23  4670000    전라북도 군산시  \n",
      "3                 N  2022-11-23  4670000    전라북도 군산시  \n",
      "4                 N  2022-11-23  4670000    전라북도 군산시  \n",
      "...             ...         ...      ...         ...  \n",
      "26530             N  2022-09-29  3180000  서울특별시 영등포구  \n",
      "26531             N  2022-09-29  3180000  서울특별시 영등포구  \n",
      "26532             N  2022-09-29  3180000  서울특별시 영등포구  \n",
      "26533             N  2022-09-29  3180000  서울특별시 영등포구  \n",
      "26534             N  2022-09-29  3180000  서울특별시 영등포구  \n",
      "\n",
      "[26535 rows x 23 columns]\n"
     ]
    }
   ],
   "source": [
    "import numpy as np\n",
    "import pandas as pd\n",
    "\n",
    "pd_data = pd.read_csv('전국평생학습강좌표준데이터.csv', encoding ='cp949')\n",
    "drop_list = ['교육시작시각','교육종료시각','강좌내용','운영기관전화번호']\n",
    "pd_data = pd_data.drop(columns=['교육시작시각','교육종료시각','강좌내용','운영기관전화번호'], axis=1)\n",
    "# print(pd_data.shape)\n",
    "# print(pd_data.dtypes)\n",
    "print(pd_data)"
   ]
  },
  {
   "cell_type": "code",
   "execution_count": 39,
   "id": "34407995",
   "metadata": {},
   "outputs": [
    {
     "name": "stdout",
     "output_type": "stream",
     "text": [
      "(0, '강좌명')\n",
      "(1, '강사명')\n",
      "(2, '교육시작일자')\n",
      "(3, '교육종료일자')\n",
      "(4, '교육대상구분')\n",
      "(5, '교육방법구분')\n",
      "(6, '운영요일')\n",
      "(7, '교육장소')\n",
      "(8, '강좌정원수')\n",
      "(9, '수강료')\n",
      "(10, '교육장도로명주소')\n",
      "(11, '운영기관명')\n",
      "(12, '접수시작일자')\n",
      "(13, '접수종료일자')\n",
      "(14, '접수방법구분')\n",
      "(15, '선정방법구분')\n",
      "(16, '홈페이지주소')\n",
      "(17, '직업능력개발훈련비지원강좌여부')\n",
      "(18, '학점은행제평가(학점)인정여부')\n",
      "(19, '평생학습계좌제평가인정여부')\n",
      "(20, '데이터기준일자')\n",
      "(21, '제공기관코드')\n",
      "(22, '제공기관명')\n"
     ]
    }
   ],
   "source": [
    "for i in enumerate(pd_data.columns):\n",
    "    print(i)"
   ]
  },
  {
   "cell_type": "code",
   "execution_count": 43,
   "id": "e0a51daf",
   "metadata": {},
   "outputs": [
    {
     "name": "stdout",
     "output_type": "stream",
     "text": [
      "강좌명                        object\n",
      "강사명                        object\n",
      "교육시작일자             datetime64[ns]\n",
      "교육종료일자             datetime64[ns]\n",
      "교육대상구분                   category\n",
      "교육방법구분                   category\n",
      "운영요일                       object\n",
      "교육장소                       object\n",
      "강좌정원수                       int64\n",
      "수강료                         int64\n",
      "교육장도로명주소                   object\n",
      "운영기관명                      object\n",
      "접수시작일자             datetime64[ns]\n",
      "접수종료일자             datetime64[ns]\n",
      "접수방법구분                   category\n",
      "선정방법구분                   category\n",
      "홈페이지주소                     object\n",
      "직업능력개발훈련비지원강좌여부          category\n",
      "학점은행제평가(학점)인정여부          category\n",
      "평생학습계좌제평가인정여부            category\n",
      "데이터기준일자            datetime64[ns]\n",
      "제공기관코드                   category\n",
      "제공기관명                      object\n",
      "dtype: object\n"
     ]
    },
    {
     "name": "stderr",
     "output_type": "stream",
     "text": [
      "C:\\Users\\ITPS\\AppData\\Local\\Temp\\ipykernel_9184\\3013793808.py:3: FutureWarning: Passing unit-less datetime64 dtype to .astype is deprecated and will raise in a future version. Pass 'datetime64[ns]' instead\n",
      "  pd_data[col_name] = pd_data[col_name].astype(np.datetime64)\n",
      "C:\\Users\\ITPS\\AppData\\Local\\Temp\\ipykernel_9184\\3013793808.py:3: FutureWarning: Passing unit-less datetime64 dtype to .astype is deprecated and will raise in a future version. Pass 'datetime64[ns]' instead\n",
      "  pd_data[col_name] = pd_data[col_name].astype(np.datetime64)\n",
      "C:\\Users\\ITPS\\AppData\\Local\\Temp\\ipykernel_9184\\3013793808.py:3: FutureWarning: Passing unit-less datetime64 dtype to .astype is deprecated and will raise in a future version. Pass 'datetime64[ns]' instead\n",
      "  pd_data[col_name] = pd_data[col_name].astype(np.datetime64)\n"
     ]
    }
   ],
   "source": [
    "for col_name in pd_data.columns:\n",
    "    if '일자' in col_name:\n",
    "        pd_data[col_name] = pd_data[col_name].astype(np.datetime64)\n",
    "    elif ('구분' in col_name) or ('여부' in col_name) or ('코드' in col_name):\n",
    "        pd_data[col_name] = pd_data[col_name].astype('category')\n",
    "\n",
    "print(pd_data.dtypes)"
   ]
  },
  {
   "cell_type": "code",
   "execution_count": 58,
   "id": "610bdae8",
   "metadata": {},
   "outputs": [
    {
     "name": "stdout",
     "output_type": "stream",
     "text": [
      "       value_count   NaN\n",
      "운영요일         22007  4528\n",
      "교육장소         23755  2780\n",
      "접수시작일자       21516  5019\n",
      "접수종료일자       21474  5061\n",
      "선정방법구분       22273  4262\n",
      "홈페이지주소       24221  2314\n"
     ]
    }
   ],
   "source": [
    "t = []\n",
    "for col_name in pd_data.columns:\n",
    "    if pd_data[col_name].hasnans == True:\n",
    "#         print(col_name)\n",
    "        cnt_s = pd_data[col_name].isna().value_counts()\n",
    "        cnt = cnt_s.to_numpy()\n",
    "        t.append([col_name,cnt[0],cnt[1]])\n",
    "# print(t)\n",
    "t = np.array(t)\n",
    "missing_df = pd.DataFrame(t[:,1:], index = t[:,0],columns = ['value_count','NaN'])\n",
    "# missing_df.index = missing_df['col_name']\n",
    "print(missing_df)\n",
    "    # pd_data['제공기관명'].hasnans\n",
    "# pd_data['제공기관명'].isna().value_counts()"
   ]
  },
  {
   "cell_type": "code",
   "execution_count": 62,
   "id": "170e8d95",
   "metadata": {},
   "outputs": [
    {
     "data": {
      "text/plain": [
       "목          2556\n",
       "화          2524\n",
       "수          2434\n",
       "월          1937\n",
       "금          1851\n",
       "           ... \n",
       "월+화+토         1\n",
       "수요일+일요일       1\n",
       "월요일+일요일       1\n",
       "격주토요일         1\n",
       "월 +수 +금       1\n",
       "Name: 운영요일, Length: 218, dtype: int64"
      ]
     },
     "execution_count": 62,
     "metadata": {},
     "output_type": "execute_result"
    }
   ],
   "source": [
    "# f1 = pd_data['운영요일'].isna()\n",
    "# pd_data['운영요일'][f1]\n",
    "pd_data['운영요일'].value_counts()\n",
    "\n",
    "#운영요일별 카운트시 운여요일을 특정할수 없으므로\n",
    "#삭제 조치함"
   ]
  },
  {
   "cell_type": "code",
   "execution_count": 74,
   "id": "204dbd31",
   "metadata": {},
   "outputs": [
    {
     "name": "stdout",
     "output_type": "stream",
     "text": [
      "오프라인             1804\n",
      "방문교육               19\n",
      "혼합                  4\n",
      "온라인+모바일             2\n",
      "오프라인+모바일+우편통신       0\n",
      "오프라인+방문교육           0\n",
      "오프라인+온라인            0\n",
      "온라인                 0\n",
      "온라인+오프라인            0\n",
      "Name: 교육방법구분, dtype: int64\n"
     ]
    },
    {
     "name": "stderr",
     "output_type": "stream",
     "text": [
      "C:\\Users\\ITPS\\AppData\\Local\\Temp\\ipykernel_9184\\835396933.py:14: SettingWithCopyWarning: \n",
      "A value is trying to be set on a copy of a slice from a DataFrame\n",
      "\n",
      "See the caveats in the documentation: https://pandas.pydata.org/pandas-docs/stable/user_guide/indexing.html#returning-a-view-versus-a-copy\n",
      "  pd_data['교육장소'][filter2] = '온라인'\n"
     ]
    },
    {
     "data": {
      "text/plain": [
       "False    24706\n",
       "True      1829\n",
       "Name: 교육장소, dtype: int64"
      ]
     },
     "execution_count": 74,
     "metadata": {},
     "output_type": "execute_result"
    }
   ],
   "source": [
    "# pd_data['교육장소'].value_counts()\n",
    "#교육방법 구분이 '온라인'으러 되어있을경우, '온라인'으로 결측지를 대체\n",
    "#ㅇ그렇지 않을경우 삭제\n",
    "\n",
    "#접수시작/종료일자 결측지\n",
    "#'교육방법 구분' 이 ' 온라인' 일 경우, 1월1일 부터 12월31일까지의 값으로 대체\n",
    "\n",
    "pd_data['교육방법구분'].value_counts()\n",
    "filter1 = pd_data['교육장소'].isna()\n",
    "\n",
    "print(pd_data['교육방법구분'][filter1].value_counts())\n",
    "\n",
    "filter2 = pd_data['교육방법구분'] == '온라인'\n",
    "pd_data['교육장소'][filter2] = '온라인'\n",
    "\n",
    "pd_data['교육장소'].isna().value_counts()"
   ]
  },
  {
   "cell_type": "code",
   "execution_count": 76,
   "id": "6f699495",
   "metadata": {},
   "outputs": [],
   "source": [
    "for i in range(pd_data.shape[0]):\n",
    "    row = pd_data.iloc[i, :]\n",
    "    if (row['교육장소'] == np.NaN) and (row['교육방법구분']=='온라인'):\n",
    "        row['교육장소'] = '온라인'"
   ]
  },
  {
   "cell_type": "code",
   "execution_count": 66,
   "id": "28ae02b7",
   "metadata": {},
   "outputs": [
    {
     "data": {
      "text/plain": [
       "선착순         16861\n",
       "추첨           1219\n",
       "제한없음          516\n",
       "추첨+선착순        451\n",
       "인터넷 추첨        392\n",
       "            ...  \n",
       "방문접수후 면접        1\n",
       "방문심사            1\n",
       "읍면 추천           1\n",
       "군부대별 선정         1\n",
       "자체심사            1\n",
       "Name: 선정방법구분, Length: 72, dtype: int64"
      ]
     },
     "execution_count": 66,
     "metadata": {},
     "output_type": "execute_result"
    }
   ],
   "source": [
    "pd_data['선정방법구분'].value_counts()\n",
    "#결측지 삭제"
   ]
  }
 ],
 "metadata": {
  "kernelspec": {
   "display_name": "Python 3 (ipykernel)",
   "language": "python",
   "name": "python3"
  },
  "language_info": {
   "codemirror_mode": {
    "name": "ipython",
    "version": 3
   },
   "file_extension": ".py",
   "mimetype": "text/x-python",
   "name": "python",
   "nbconvert_exporter": "python",
   "pygments_lexer": "ipython3",
   "version": "3.10.9"
  }
 },
 "nbformat": 4,
 "nbformat_minor": 5
}
