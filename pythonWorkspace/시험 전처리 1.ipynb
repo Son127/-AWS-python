{
 "cells": [
  {
   "cell_type": "markdown",
   "id": "31621b0c",
   "metadata": {},
   "source": [
    "* pd_iris 로부터, petal_length의 평균치를 구하고자 한다.\n",
    "\n",
    "- petal_length의 결측치, 오류치, 이상치(1.5*IQR 바깥)의 갯수는 각 몇개인가.\n",
    "\n",
    "- 결측치, 오류치, 이상치를 어떻게 처리할지 결정하고, (삭제, 다른 적절한 값으로 대체) 결정의 간단한 이유를 제시하시오.\n",
    "\n",
    "- 결측치, 오류치, 이상치를 처리 하시오.\n",
    "\n",
    "- petal_length의 평균치를 구하시오."
   ]
  },
  {
   "cell_type": "code",
   "execution_count": 37,
   "id": "5087768e",
   "metadata": {},
   "outputs": [
    {
     "data": {
      "text/plain": [
       "0      4.9\n",
       "1      4.7\n",
       "2      4.6\n",
       "3      5.0\n",
       "4      5.4\n",
       "      ... \n",
       "144    6.7\n",
       "145    6.3\n",
       "146    6.5\n",
       "147    6.2\n",
       "148    5.9\n",
       "Name: petal_length, Length: 149, dtype: float64"
      ]
     },
     "execution_count": 37,
     "metadata": {},
     "output_type": "execute_result"
    }
   ],
   "source": [
    "import numpy as np\n",
    "\n",
    "import pandas as pd\n",
    "\n",
    "import random\n",
    "\n",
    "\n",
    "random.seed(123)\n",
    "\n",
    "pd_iris = pd.read_csv('https://archive.ics.uci.edu/ml/machine-learning-databases/iris/iris.data')\n",
    "\n",
    "pd_iris.columns = ['petal_length', 'petal_width', 'sepal_length', 'sepal_width', 'class']\n",
    "\n",
    "rand_axis0 = [random.randint(0,150) for _ in range(5)]\n",
    "\n",
    "rand_axis1 = [random.randint(0, 4) for _ in range(5)]\n",
    "\n",
    "pd_iris.iloc[rand_axis0, rand_axis1] = np.NaN\n",
    "\n",
    " \n",
    "    \n",
    "rand_axis0 = [random.randint(0,150) for _ in range(5)]\n",
    "\n",
    "rand_axis1 = [random.randint(0, 4) for _ in range(5)]\n",
    "\n",
    "pd_iris.iloc[rand_axis0, rand_axis1] = 123.4 + random.randint(0,4)/10\n",
    " \n",
    "\n",
    "df1 = pd.DataFrame(np.arange(100, 120).reshape(4,5), dtype='str')\n",
    "\n",
    "petal_length = pd_iris[\"petal_length\"]\n",
    " \n",
    "petal_length\n"
   ]
  },
  {
   "cell_type": "code",
   "execution_count": 38,
   "id": "813d859d",
   "metadata": {},
   "outputs": [
    {
     "data": {
      "text/plain": [
       "0"
      ]
     },
     "execution_count": 38,
     "metadata": {},
     "output_type": "execute_result"
    }
   ],
   "source": [
    "# 결측치 갯수 구하기\n",
    "pd_iris['petal_length'].isna().sum()\n",
    "\n",
    "# 오류치 갯수 구하기\n",
    "pd_iris.loc[pd_iris['petal_length'] < 0, 'petal_length'].count()\n",
    "\n",
    "# 이상치 갯수 구하기\n",
    "Q1 = pd_iris['petal_length'].quantile(0.25)\n",
    "Q3 = pd_iris['petal_length'].quantile(0.75)\n",
    "IQR = Q3 - Q1\n",
    "outlier_count = ((pd_iris['petal_length'] < Q1 - 1.5 * IQR) | (pd_iris['petal_length'] > Q3 + 1.5 * IQR)).sum()"
   ]
  },
  {
   "cell_type": "code",
   "execution_count": 39,
   "id": "c5df1b7b",
   "metadata": {},
   "outputs": [],
   "source": [
    "# 결측치와 오류치 제거\n",
    "pd_iris = pd_iris.loc[(pd_iris['petal_length'] >= 0) & (pd_iris['petal_length'] <= pd_iris['petal_length'].quantile(0.99)), :]\n",
    "\n",
    "# 이상치 중앙값으로 대체\n",
    "median = pd_iris['petal_length'].median()\n",
    "Q1 = pd_iris['petal_length'].quantile(0.25)\n",
    "Q3 = pd_iris['petal_length'].quantile(0.75)\n",
    "IQR = Q3 - Q1\n",
    "pd_iris.loc[(pd_iris['petal_length'] < Q1 - 1.5 * IQR) | (pd_iris['petal_length'] > Q3 + 1.5 * IQR), 'petal_length'] = median\n"
   ]
  },
  {
   "cell_type": "code",
   "execution_count": 34,
   "id": "a5248e32",
   "metadata": {},
   "outputs": [
    {
     "data": {
      "text/plain": [
       "5.8291666666666675"
      ]
     },
     "execution_count": 34,
     "metadata": {},
     "output_type": "execute_result"
    }
   ],
   "source": [
    "pd_iris['petal_length'].mean()\n"
   ]
  }
 ],
 "metadata": {
  "kernelspec": {
   "display_name": "Python 3 (ipykernel)",
   "language": "python",
   "name": "python3"
  },
  "language_info": {
   "codemirror_mode": {
    "name": "ipython",
    "version": 3
   },
   "file_extension": ".py",
   "mimetype": "text/x-python",
   "name": "python",
   "nbconvert_exporter": "python",
   "pygments_lexer": "ipython3",
   "version": "3.10.9"
  }
 },
 "nbformat": 4,
 "nbformat_minor": 5
}
