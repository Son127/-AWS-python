{
 "cells": [
  {
   "cell_type": "code",
   "execution_count": 75,
   "id": "d89a2f2e",
   "metadata": {},
   "outputs": [
    {
     "name": "stdout",
     "output_type": "stream",
     "text": [
      "15.132745950421556\n",
      "x: 2 4\n",
      "y: 15 225\n",
      "15.132745950421556\n"
     ]
    }
   ],
   "source": [
    "import numpy as np\n",
    "import math\n",
    "\n",
    "x1 = 3 \n",
    "y1 = 10\n",
    "\n",
    "x2 = 5\n",
    "y2 = 25\n",
    "a = math.sqrt((x2 - x1) **2 + (y2 - y1) ** 2)\n",
    "print(a) # 15.132745950421556\n",
    "def dist(p1, p2):\n",
    "    print('x:', (p2[0]-p1[0]),(p2[0]-p1[0]) ** 2)\n",
    "    print('y:', (p2[1]-p1[1]),(p2[1]-p1[1]) ** 2)\n",
    "    return math.sqrt((p2[1] - p1[1]) **2 + (p2[0] - p2[0]) ** 2)\n",
    "\n",
    "b = dist([x1,y1],[x2,y2])\n",
    "#print(b)\n",
    "\n",
    "def dist_np(p1,p2):\n",
    "    i = p2 - p1 #[2 15]\n",
    "    i = sum(i * i) #[4, 225]\n",
    "    return math.sqrt(i)\n",
    "\n",
    "def dist_np2(p1, p2):\n",
    "    return math.sqrt(sum((p2 - p1)**2))\n",
    "\n",
    "c = dist_np2(np.array([x1,y1]),np.array([x2,y2]))\n",
    "print(c)"
   ]
  },
  {
   "cell_type": "code",
   "execution_count": 49,
   "id": "7faaa337",
   "metadata": {},
   "outputs": [
    {
     "name": "stdout",
     "output_type": "stream",
     "text": [
      "[['위도,경도', ''], ['36.93385095,129.2462157', ''], ['36.9337494,127.4605018', ''], ['36.93372085,127.8917746', ''], ['36.93324577,128.9135575', ''], ['36.93313839,127.4264444', ''], ['36.93306246,127.133795', ''], ['36.93297563,126.7459616', ''], ['36.93297563,126.7459616', ''], ['36.93260272,127.043232', '']]\n"
     ]
    }
   ],
   "source": [
    "csv_list = []\n",
    "with open ('전국자동차정비업체표준데이터.csv') as f:\n",
    "    for a in f:\n",
    "        csv_list.append(a.split('\\n'))\n",
    "print(csv_list [0:10])"
   ]
  },
  {
   "cell_type": "code",
   "execution_count": 68,
   "id": "29e10cd7",
   "metadata": {},
   "outputs": [
    {
     "name": "stdout",
     "output_type": "stream",
     "text": [
      "[[36.93385095, 129.2462157], [36.9337494, 127.4605018], [36.93372085, 127.8917746]]\n"
     ]
    }
   ],
   "source": [
    "list1 = []\n",
    "for i in csv_list[1:]:\n",
    "    list1.append(i[0].split(','))\n",
    "\n",
    "list2 = []\n",
    "for e in list1:\n",
    "    for i,n in enumerate(e):\n",
    "        try:\n",
    "            e[i] = float(n)\n",
    "        except:\n",
    "            e[i] = 0.0\n",
    "    list2.append(e)\n",
    "print(list2[:3])"
   ]
  },
  {
   "cell_type": "code",
   "execution_count": 76,
   "id": "8c42948f",
   "metadata": {},
   "outputs": [
    {
     "data": {
      "text/plain": [
       "1.7905025454917363"
      ]
     },
     "execution_count": 76,
     "metadata": {},
     "output_type": "execute_result"
    }
   ],
   "source": [
    "target_p = np.array([35.1531, 129.0596])\n",
    "p2 = np.array(list2[0])\n",
    "dist_np2(target_p,p2)"
   ]
  },
  {
   "cell_type": "code",
   "execution_count": 83,
   "id": "e1266fa3",
   "metadata": {},
   "outputs": [
    {
     "name": "stdout",
     "output_type": "stream",
     "text": [
      "[[0, 1.7905025454917363], [1, 2.393287976605315], [2, 2.129419351921983]]\n"
     ]
    }
   ],
   "source": [
    "dist_list = []\n",
    "for i,p2 in enumerate(list2):\n",
    "    dist_list.append([i,dist_np2(target_p,np.array(p2))])\n",
    "print(dist_list[:3])"
   ]
  },
  {
   "cell_type": "code",
   "execution_count": 85,
   "id": "7d101512",
   "metadata": {},
   "outputs": [
    {
     "name": "stdout",
     "output_type": "stream",
     "text": [
      "[[42789, 0.00422751591405875], [42736, 0.004664402222051449], [42809, 0.005492081395315601], [42717, 0.005953129867528799], [42731, 0.006143105629974679]]\n"
     ]
    }
   ],
   "source": [
    "r = sorted(dist_list, key = lambda x : x[1])\n",
    "print(r[:5])"
   ]
  },
  {
   "cell_type": "code",
   "execution_count": 87,
   "id": "11fa740c",
   "metadata": {},
   "outputs": [
    {
     "name": "stdout",
     "output_type": "stream",
     "text": [
      "['35.17430279,129.0609654', '']\n",
      "['34.79458748,126.4013744', '']\n",
      "['35.16970197,129.0677114', '']\n",
      "['35.14429293,129.048844', '']\n",
      "['35.14232963,129.0631067', '']\n"
     ]
    }
   ],
   "source": [
    "for x in r[:5]:\n",
    "    print(csv_list[x[0]])"
   ]
  }
 ],
 "metadata": {
  "kernelspec": {
   "display_name": "Python 3 (ipykernel)",
   "language": "python",
   "name": "python3"
  },
  "language_info": {
   "codemirror_mode": {
    "name": "ipython",
    "version": 3
   },
   "file_extension": ".py",
   "mimetype": "text/x-python",
   "name": "python",
   "nbconvert_exporter": "python",
   "pygments_lexer": "ipython3",
   "version": "3.10.9"
  }
 },
 "nbformat": 4,
 "nbformat_minor": 5
}
