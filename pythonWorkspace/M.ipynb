{
 "cells": [
  {
   "cell_type": "code",
   "execution_count": 66,
   "id": "71e0ab51",
   "metadata": {},
   "outputs": [],
   "source": [
    "import math\n",
    "\n",
    "def mean(xs):\n",
    "    return sum(xs)/len(xs)\n",
    "\n",
    "def dev(xs): #편차\n",
    "    m = mean(xs)\n",
    "    return [ x - m for  x in xs]\n",
    "\n",
    "def var(xs): #분산\n",
    "    n = len(xs)\n",
    "    d = dev(xs)\n",
    "    return sum([x**2 for x in d]) / (n-1)\n",
    "\n",
    "def stdev(xs): #표준편차\n",
    "    return math.sqrt(var(xs))\n",
    "\n",
    "def covar(list_1,list_2):   #공분산\n",
    "    n = len(list_1)\n",
    "    list_1_dev = dev(list_1)\n",
    "    list_2_dev = dev(list_2)\n",
    "    return sum(x * y for x, y in zip(list_1_dev, list_2_dev)) / (n-1)\n",
    "\n",
    "def corel(list_1, list_2):   #상관도 (-1 ~ 1)\n",
    "    return covar(list_1, list_2) / (stdev(list_1) * stdev(list_2))"
   ]
  },
  {
   "cell_type": "code",
   "execution_count": 58,
   "id": "29950fc3",
   "metadata": {},
   "outputs": [
    {
     "name": "stdout",
     "output_type": "stream",
     "text": [
      "39\n",
      " 2174\n",
      " 40\n"
     ]
    }
   ],
   "source": [
    "import requests\n",
    "\n",
    "x = requests.get('https://archive.ics.uci.edu/ml/machine-learning-databases/adult/adult.data')\n",
    "pass1 = x.text.split('\\n')\n",
    "\n",
    "print(pass1[0].split(',')[0]) #age\n",
    "print(pass1[0].split(',')[10]) #capital\n",
    "print(pass1[0].split(',')[12]) #hours\n",
    "age_list = []\n",
    "capital_list = []\n",
    "hours_list = []\n",
    "\n",
    "for e in pass1:\n",
    "    try:\n",
    "        t = e.split(',')\n",
    "        if len(t) < 5:\n",
    "            continue\n",
    "        age_list.append(t[0])\n",
    "        capital_list.append(t[10])\n",
    "        hours_list.append(t[12])\n",
    "    except:\n",
    "        print(e,type(e))"
   ]
  },
  {
   "cell_type": "code",
   "execution_count": 60,
   "id": "4dadd316",
   "metadata": {},
   "outputs": [
    {
     "name": "stdout",
     "output_type": "stream",
     "text": [
      "32561\n",
      "32561\n",
      "32561\n"
     ]
    }
   ],
   "source": [
    "print(len(age_list))\n",
    "print(len(capital_list))\n",
    "print(len(hours_list))"
   ]
  },
  {
   "cell_type": "code",
   "execution_count": 64,
   "id": "296b3121",
   "metadata": {},
   "outputs": [
    {
     "name": "stdout",
     "output_type": "stream",
     "text": [
      "[39, 50, 38, 53, 28, 37, 49, 52, 31, 42]\n",
      "[2174, 0, 0, 0, 0, 0, 0, 0, 14084, 5178]\n",
      "[40, 13, 40, 40, 40, 40, 16, 45, 50, 40]\n"
     ]
    }
   ],
   "source": [
    "print(age_list[:10])\n",
    "print(capital_list[:10])\n",
    "print(hours_list[:10])\n",
    "\n",
    "age_list = [int(i) for i in age_list]\n",
    "capital_list = [int(i) for i in capital_list]\n",
    "hours_list = [int(i) for i in hours_list]"
   ]
  },
  {
   "cell_type": "code",
   "execution_count": 67,
   "id": "ad2d94bc",
   "metadata": {},
   "outputs": [
    {
     "name": "stdout",
     "output_type": "stream",
     "text": [
      "gae, cap 0.077674498166006\n",
      "hour, cap 0.07840861539012314\n"
     ]
    }
   ],
   "source": [
    "print('gae, cap',corel(age_list,capital_list))\n",
    "print('hour, cap',corel(hours_list,capital_list))"
   ]
  }
 ],
 "metadata": {
  "kernelspec": {
   "display_name": "Python 3 (ipykernel)",
   "language": "python",
   "name": "python3"
  },
  "language_info": {
   "codemirror_mode": {
    "name": "ipython",
    "version": 3
   },
   "file_extension": ".py",
   "mimetype": "text/x-python",
   "name": "python",
   "nbconvert_exporter": "python",
   "pygments_lexer": "ipython3",
   "version": "3.10.9"
  }
 },
 "nbformat": 4,
 "nbformat_minor": 5
}
