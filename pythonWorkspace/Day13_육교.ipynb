{
 "cells": [
  {
   "cell_type": "code",
   "execution_count": 1,
   "id": "ceb9e8ae",
   "metadata": {},
   "outputs": [],
   "source": [
    "import numpy as np\n",
    "import matplotlib.pyplot as plt\n",
    "\n",
    "def my_split(s):\n",
    "    block_start = False\n",
    "    start_index = 0\n",
    "    ret_list=[]\n",
    "    for i, c in enumerate(s):\n",
    "        if block_start==False:\n",
    "            if c==',':\n",
    "                ret_list.append(s[start_index:i])\n",
    "                start_index=i+1\n",
    "            elif c=='\"':\n",
    "                block_start=True\n",
    "                start_index = i\n",
    "        else:\n",
    "            if c=='\"':\n",
    "                block_start=False\n",
    "    if s[-1]!=',':\n",
    "        ret_list.append(s[start_index:])\n",
    "    return ret_list\n",
    "\n",
    "def split_len(data_list):\n",
    "    len_list=[]\n",
    "    for e in data_list:\n",
    "        len_list.append(len(e))\n",
    "    print(set(len_list))\n",
    "    if len(set(len_list))>1:\n",
    "        for i in set(len_list):\n",
    "            print(i, len_list.count(i))\n",
    "    return set(len_list)"
   ]
  },
  {
   "cell_type": "code",
   "execution_count": 2,
   "id": "d3901fc0",
   "metadata": {},
   "outputs": [
    {
     "name": "stdout",
     "output_type": "stream",
     "text": [
      "{30}\n",
      "(0, '육교명')\n",
      "(1, '도로종류')\n",
      "(2, '도로노선번호')\n",
      "(3, '도로노선명')\n",
      "(4, '소재지도로명주소')\n",
      "(5, '위도')\n",
      "(6, '경도')\n",
      "(7, '육교연장')\n",
      "(8, '육교높이')\n",
      "(9, '허용통행하중')\n",
      "(10, '통행제한높이')\n",
      "(11, '육교폭')\n",
      "(12, '난간높이')\n",
      "(13, '조명개수')\n",
      "(14, '장애인편의시설설치여부')\n",
      "(15, '장애인편의시설종류')\n",
      "(16, '장애인편의시설수량')\n",
      "(17, '부대시설종류')\n",
      "(18, '부대시설수량')\n",
      "(19, '육교준공일자')\n",
      "(20, '내진설계적용여부')\n",
      "(21, '안전등급')\n",
      "(22, '사용제한구분')\n",
      "(23, '육교보수보강내역')\n",
      "(24, '최종안전점검유형')\n",
      "(25, '최종안전점검일자')\n",
      "(26, '관리기관명')\n",
      "(27, '데이터기준일자')\n",
      "(28, '제공기관코드')\n",
      "(29, '제공기관명')\n"
     ]
    }
   ],
   "source": [
    "csv_data = []\n",
    "with open('전국육교정보표준데이터.csv') as f:\n",
    "    for line in f:\n",
    "        csv_data.append(my_split(line[:-1]))\n",
    "assert len(split_len(csv_data)) == 1\n",
    "np_data = np.array(csv_data)\n",
    "\n",
    "for e in enumerate(np_data[0]):\n",
    "    print(e)"
   ]
  },
  {
   "cell_type": "code",
   "execution_count": 12,
   "id": "37922706",
   "metadata": {},
   "outputs": [
    {
     "name": "stdout",
     "output_type": "stream",
     "text": [
      "[' ' 'N' 'Y']\n",
      "[695 166]\n",
      "[80.72009292 19.27990708]\n",
      "['N' 'Y'] [695 166]\n"
     ]
    }
   ],
   "source": [
    "sub_data = np_data[1:,20]\n",
    "# print(sub_data)\n",
    "val,cnt = np.unique(sub_data, return_counts = True)\n",
    "\n",
    "filter1 = sub_data != ' '\n",
    "sub_data_f = sub_data[filter1]\n",
    "\n",
    "\n",
    "print(types)\n",
    "print(cnt[1:])\n",
    "print(cnt[1:] * 100 / sum(cnt[1:]))\n",
    "\n",
    "val, cnt = np.unique(sub_data_f, return_counts=True)\n",
    "print(val,cnt)"
   ]
  },
  {
   "cell_type": "code",
   "execution_count": 29,
   "id": "186f3a02",
   "metadata": {},
   "outputs": [
    {
     "name": "stdout",
     "output_type": "stream",
     "text": [
      "['미흡' '보통' '불량' '양호' '우수'] [ 25 390   1 795   7]\n",
      "[ 2.05254516 32.01970443  0.08210181 65.27093596  0.57471264]\n",
      "(5,) (5, 1)\n",
      "(5,) (5, 1)\n",
      "[['미흡' '25' '2.052545155993432']\n",
      " ['보통' '390' '32.01970443349754']\n",
      " ['불량' '1' '0.08210180623973727']\n",
      " ['양호' '795' '65.27093596059113']\n",
      " ['우수' '7' '0.5747126436781609']]\n",
      "[['갈평 보도육교' '기타' '경부선' '경부선' '경기도 평택시 서정동 432-3' '37.05929603'\n",
      "  '127.0533613' '50' '' '' '8.5' '2.3' '' '' 'N' '없음' '' '없음' '' '' 'N'\n",
      "  '불량' '사용제한' '' '정밀점검' '2020-12-30' '경기도 평택시' '2022-06-13' '3910000'\n",
      "  '경기도 평택시']]\n"
     ]
    }
   ],
   "source": [
    "#안전등급별 육교 갯수\n",
    "\n",
    "sub_data = np_data[1:,21]\n",
    "# print(btypes)\n",
    "val,cnt = np.unique(btypes, return_counts = True)\n",
    "# print(name)\n",
    "print(val,cnt)\n",
    "# print(cnt * 100 / sum(count1))\n",
    "\n",
    "cnt_percent = (cnt * 100) / np.sum(cnt)\n",
    "print(cnt_percent)\n",
    "\n",
    "val2 = np.expand_dims(val,1)\n",
    "print(val.shape, val2.shape)\n",
    "cnt2 = cnt[:, np.newaxis]\n",
    "print(cnt.shape, cnt2.shape)\n",
    "\n",
    "cnt_percent2 = cnt_percent[:, np.newaxis]\n",
    "\n",
    "jdata = np.concatenate((val2,cnt2,cnt_percent2), axis = 1 )\n",
    "print(jdata)\n",
    "\n",
    "filter1 = (np_data[:,21] == '불량')\n",
    "print(np_data[filter1])"
   ]
  },
  {
   "cell_type": "code",
   "execution_count": 104,
   "id": "e48d6a7c",
   "metadata": {},
   "outputs": [
    {
     "name": "stdout",
     "output_type": "stream",
     "text": [
      "['육교연장' '육교높이' '허용통행하중' '통행제한높이']\n",
      "*** 육교연장\n",
      "중앙값: 39.6\n",
      "quantile: [30.  39.6 56. ]\n",
      "iqr:  26.0\n",
      "upper:  95.0\n",
      "lower:  -9.0\n",
      "[  3   9  30  64 100 189 124 103 118  57  62  35  31  23  31  12  17  23\n",
      "  18  11] [ 5.3   9.76 14.22 18.68 23.14 27.6  32.06 36.52 40.98 45.44 49.9  54.36\n",
      " 58.82 63.28 67.74 72.2  76.66 81.12 85.58 90.04 94.5 ]\n"
     ]
    },
    {
     "data": {
      "text/plain": [
       "[<matplotlib.lines.Line2D at 0x1ea2466d960>]"
      ]
     },
     "execution_count": 104,
     "metadata": {},
     "output_type": "execute_result"
    },
    {
     "data": {
      "image/png": "[encoded data removed]",
      "text/plain": [
       "<Figure size 640x480 with 1 Axes>"
      ]
     },
     "metadata": {},
     "output_type": "display_data"
    }
   ],
   "source": [
    "#육교 연장, 허용통행하중, 통행제한 높이: 최소, 최대 , 평균, 표준편차 7 8 9 10 \n",
    "print(np_data[0,7:11])\n",
    "# for i in range(7,11):\n",
    "i = 7\n",
    "print('***',np_data[0,i])\n",
    "sub_data = np_data[1:,i]\n",
    "#결측지 제거\n",
    "filter1 = (sub_data != '') & (sub_data != '0') & (sub_data != '0.0')\n",
    "#값 형변환\n",
    "sub_data_f = sub_data[filter1].astype(np.float64)\n",
    "'''\n",
    "print(sub_data_f)\n",
    "print('최소',np.min(sub_data_f))\n",
    "print('최대',np.max(sub_data_f))\n",
    "print('평균',np.mean(sub_data_f))\n",
    " print('표준편차', np.std(sub_data_f))\n",
    "'''\n",
    "# iqr, outliers (이상차)\n",
    "print( '중앙값:', np.median(sub_data_f))\n",
    "print('quantile:', np.quantile(sub_data_f,[.25, .5, .75]))\n",
    "q25, q50, q75 = np.quantile(sub_data_f,[.25,.5,.75])\n",
    "iqr = q75 - q25\n",
    "print('iqr: ', iqr)\n",
    "print('upper: ', q75 + 1.5 * iqr)\n",
    "print('lower: ', q25 - 1.5 * iqr)\n",
    "'''\n",
    "----------q25----------q50----------q75----------\n",
    "q25 - 1.5 * iqr = 하한선             q75 + 1.5 * iqr = 상한\n",
    "'''\n",
    "upper = q75 + 1.5 * iqr\n",
    "sub_data_cut = sub_data_f[sub_data_f < upper]\n",
    "\n",
    "h_cnt, h_bins = np.histogram(sub_data_cut, bins = 20) #bins는 통 \n",
    "print(h_cnt, h_bins)\n",
    "\n",
    "val, cnt = np.unique(sub_data_cut, return_counts= True) #육교 연장값의 분포\n",
    "_,axe = plt.subplots()\n",
    "# axe.scatter(val,cnt)\n",
    "axe.plot(range(20), h_cnt)"
   ]
  },
  {
   "cell_type": "code",
   "execution_count": 59,
   "id": "77e992de",
   "metadata": {},
   "outputs": [
    {
     "name": "stdout",
     "output_type": "stream",
     "text": [
      "['-N' '-Y' '1968-N' '1970-N' '1970-Y' '1971-N' '1972-N' '1974-Y' '1976-N'\n",
      " '1977-N' '1977-Y' '1978-Y' '1980-N' '1980-Y' '1982-N' '1983-N' '1984-N'\n",
      " '1986-Y' '1987-N' '1987-Y' '1988-N' '1988-Y' '1989-N' '1989-Y' '1990-N'\n",
      " '1991-N' '1991-Y' '1992-N' '1992-Y' '1993-N' '1993-Y' '1994-N' '1994-Y'\n",
      " '1995-N' '1995-Y' '1996-N' '1996-Y' '1997-N' '1997-Y' '1998-N' '1998-Y'\n",
      " '1999-N' '1999-Y' '2000-N' '2000-Y' '2001-N' '2001-Y' '2002-N' '2002-Y'\n",
      " '2003-N' '2003-Y' '2004-N' '2004-Y' '2005-N' '2005-Y' '2006-N' '2006-Y'\n",
      " '2007-N' '2007-Y' '2008-N' '2008-Y' '2009-N' '2009-Y' '2010-N' '2010-Y'\n",
      " '2011-N' '2011-Y' '2012-N' '2012-Y' '2013-Y' '2014-N' '2014-Y' '2015-N'\n",
      " '2015-Y' '2016-N' '2016-Y' '2017-Y' '2018-N' '2018-Y' '2019-Y' '2020-N'\n",
      " '2020-Y' '2021-Y' '2022-Y'] [ 25 390   1 795   7]\n"
     ]
    }
   ],
   "source": [
    "#준공 연도별 육교 장애인 편의시설 여부, 상관관계  19 , 14\n",
    "\n",
    "sub_data = np_data[1:,[14,19]] #numpy에서는 특정 인덱스 지정 가능\n",
    "# print(sub_data)\n",
    "# np.unique(sub_data[:,1])\n",
    "\n",
    "filter1 = sub_data[:,1] != ''\n",
    "sub_data_f = sub_data[filter1]\n",
    "\n",
    "year_yn = []\n",
    "for yn,ymd in sub_data :\n",
    "    yr = ymd.split('-')[0]\n",
    "    year_yn.append(yr + '-' + yn)\n",
    "# print(year_yn)\n",
    "year_yn = np.array(year_yn)\n",
    "val,cny = np.unique(year_yn, return_counts= True)\n",
    "print(val, cnt)"
   ]
  },
  {
   "cell_type": "markdown",
   "id": "51bdae1b",
   "metadata": {},
   "source": [
    "{\n",
    "    year : [y, n...]\n",
    "}\n",
    "[\n",
    "    [year, y_count, ratio]\n",
    "]"
   ]
  },
  {
   "cell_type": "code",
   "execution_count": 71,
   "id": "d9ab339d",
   "metadata": {},
   "outputs": [
    {
     "name": "stdout",
     "output_type": "stream",
     "text": [
      "[[1968.       0.       0.   ]\n",
      " [1970.       1.       0.5  ]\n",
      " [1971.       0.       0.   ]\n",
      " [1972.       0.       0.   ]\n",
      " [1974.       1.       1.   ]\n",
      " [1976.       0.       0.   ]\n",
      " [1977.       1.       0.333]\n",
      " [1978.       1.       1.   ]\n",
      " [1980.       1.       0.25 ]\n",
      " [1982.       0.       0.   ]\n",
      " [1983.       0.       0.   ]\n",
      " [1984.       0.       0.   ]\n",
      " [1986.       8.       1.   ]\n",
      " [1987.       2.       0.4  ]\n",
      " [1988.       3.       0.429]\n",
      " [1989.       4.       0.571]\n",
      " [1990.       0.       0.   ]\n",
      " [1991.       2.       0.2  ]\n",
      " [1992.      19.       0.404]\n",
      " [1993.      21.       0.447]\n",
      " [1994.      11.       0.407]\n",
      " [1995.       7.       0.304]\n",
      " [1996.      17.       0.34 ]\n",
      " [1997.      24.       0.453]\n",
      " [1998.      15.       0.341]\n",
      " [1999.       9.       0.391]\n",
      " [2000.      10.       0.556]\n",
      " [2001.      13.       0.5  ]\n",
      " [2002.      14.       0.636]\n",
      " [2003.      17.       0.607]\n",
      " [2004.      17.       0.654]\n",
      " [2005.      21.       0.778]\n",
      " [2006.      26.       0.788]\n",
      " [2007.      18.       0.75 ]\n",
      " [2008.      28.       0.778]\n",
      " [2009.      29.       0.644]\n",
      " [2010.      18.       0.643]\n",
      " [2011.      16.       0.727]\n",
      " [2012.      23.       0.742]\n",
      " [2013.       9.       1.   ]\n",
      " [2014.       7.       0.538]\n",
      " [2015.       9.       0.818]\n",
      " [2016.      15.       0.789]\n",
      " [2017.       4.       1.   ]\n",
      " [2018.       7.       0.7  ]\n",
      " [2019.       3.       1.   ]\n",
      " [2020.       5.       0.833]\n",
      " [2021.       1.       1.   ]\n",
      " [2022.       3.       1.   ]]\n"
     ]
    }
   ],
   "source": [
    "sub_data = np_data[1:,[14,19]]\n",
    "filter1 = sub_data[:, 1] != ''\n",
    "sub_data = sub_data[filter1]\n",
    "\n",
    "pass1 = dict()\n",
    "for yn, ymd in sub_data:\n",
    "    yr = ymd.split('-')[0]\n",
    "    if yr in pass1.keys():\n",
    "        pass1[yr].append(yn)\n",
    "    else:\n",
    "        pass1[yr] = [yn]\n",
    "# print(pass1)\n",
    "\n",
    "pass2 = []\n",
    "for yr in pass1: #dict 순환시 key값으로 순환\n",
    "    val,cnt = np.unique(pass1[yr], return_counts=True)\n",
    "    y, ratio = 0, 0\n",
    "    if 'Y' in val:\n",
    "        y = cnt[val == 'Y']\n",
    "    ratio = y / np.sum(cnt)\n",
    "    pass2.append((int(yr),int(y),float(ratio)))\n",
    "# print(pass2)\n",
    "\n",
    "np.set_printoptions(precision = 3, suppress = True)\n",
    "pass3 = sorted(pass2, key = lambda x: x[0])\n",
    "pass3 = np.array(pass3)\n",
    "print(pass3)"
   ]
  },
  {
   "cell_type": "code",
   "execution_count": 75,
   "id": "4bac9c9c",
   "metadata": {},
   "outputs": [
    {
     "data": {
      "text/plain": [
       "<matplotlib.collections.PathCollection at 0x1ea1b19db70>"
      ]
     },
     "execution_count": 75,
     "metadata": {},
     "output_type": "execute_result"
    },
    {
     "data": {
      "image/png": "[encoded data removed]",
      "text/plain": [
       "<Figure size 640x480 with 1 Axes>"
      ]
     },
     "metadata": {},
     "output_type": "display_data"
    }
   ],
   "source": [
    "_,axe = plt.subplots()\n",
    "axe.scatter(pass3[:,0], pass3[:,1])"
   ]
  },
  {
   "cell_type": "code",
   "execution_count": 80,
   "id": "225e919e",
   "metadata": {},
   "outputs": [
    {
     "name": "stdout",
     "output_type": "stream",
     "text": [
      "[[1990.       0.       0.   ]\n",
      " [1991.       2.       0.2  ]\n",
      " [1992.      19.       0.404]\n",
      " [1993.      21.       0.447]\n",
      " [1994.      11.       0.407]\n",
      " [1995.       7.       0.304]\n",
      " [1996.      17.       0.34 ]\n",
      " [1997.      24.       0.453]\n",
      " [1998.      15.       0.341]\n",
      " [1999.       9.       0.391]\n",
      " [2000.      10.       0.556]\n",
      " [2001.      13.       0.5  ]\n",
      " [2002.      14.       0.636]\n",
      " [2003.      17.       0.607]\n",
      " [2004.      17.       0.654]\n",
      " [2005.      21.       0.778]\n",
      " [2006.      26.       0.788]\n",
      " [2007.      18.       0.75 ]\n",
      " [2008.      28.       0.778]\n",
      " [2009.      29.       0.644]\n",
      " [2010.      18.       0.643]\n",
      " [2011.      16.       0.727]\n",
      " [2012.      23.       0.742]\n",
      " [2013.       9.       1.   ]\n",
      " [2014.       7.       0.538]\n",
      " [2015.       9.       0.818]\n",
      " [2016.      15.       0.789]\n",
      " [2017.       4.       1.   ]\n",
      " [2018.       7.       0.7  ]\n",
      " [2019.       3.       1.   ]\n",
      " [2020.       5.       0.833]\n",
      " [2021.       1.       1.   ]\n",
      " [2022.       3.       1.   ]]\n",
      "[[1.    0.885]\n",
      " [0.885 1.   ]]\n"
     ]
    }
   ],
   "source": [
    "# print(pass3)\n",
    "filter1 = pass3[:,0] >= 1990\n",
    "pass4 = pass3[filter1]\n",
    "print(pass4)\n",
    "print(np.corrcoef(pass4[:,0],pass4[:,2]))"
   ]
  }
 ],
 "metadata": {
  "kernelspec": {
   "display_name": "Python 3 (ipykernel)",
   "language": "python",
   "name": "python3"
  },
  "language_info": {
   "codemirror_mode": {
    "name": "ipython",
    "version": 3
   },
   "file_extension": ".py",
   "mimetype": "text/x-python",
   "name": "python",
   "nbconvert_exporter": "python",
   "pygments_lexer": "ipython3",
   "version": "3.10.9"
  }
 },
 "nbformat": 4,
 "nbformat_minor": 5
}
