{
 "cells": [
  {
   "cell_type": "code",
   "execution_count": null,
   "id": "a48912e4",
   "metadata": {},
   "outputs": [],
   "source": [
    "#소수 : 1과 자기자신으로만 나누어 떨어지는 수 . ex)2,3,5,7 ..."
   ]
  },
  {
   "cell_type": "code",
   "execution_count": 36,
   "id": "22df29e2",
   "metadata": {},
   "outputs": [
    {
     "name": "stdout",
     "output_type": "stream",
     "text": [
      "prime\n"
     ]
    }
   ],
   "source": [
    "n = 7\n",
    "flag = 0\n",
    "for i in range(2,n):\n",
    "    \n",
    "    if n % i == 0:\n",
    "        print('소수가 아닙니다.')\n",
    "        flag = 1\n",
    "        break\n",
    "\n",
    "if flag == 0:\n",
    "    print('prime')"
   ]
  },
  {
   "cell_type": "markdown",
   "id": "fb10ba30",
   "metadata": {},
   "source": [
    "# 1000 아래 모든 소수를list_prime 에 넣기\n"
   ]
  },
  {
   "cell_type": "code",
   "execution_count": 8,
   "id": "da1570f1",
   "metadata": {
    "scrolled": true
   },
   "outputs": [
    {
     "name": "stdout",
     "output_type": "stream",
     "text": [
      "[2, 3, 5, 7, 11, 13, 17, 19, 23, 29, 31, 37, 41, 43, 47, 53, 59, 61, 67, 71, 73, 79, 83, 89, 97, 101, 103, 107, 109, 113, 127, 131, 137, 139, 149, 151, 157, 163, 167, 173, 179, 181, 191, 193, 197, 199, 211, 223, 227, 229, 233, 239, 241, 251, 257, 263, 269, 271, 277, 281, 283, 293, 307, 311, 313, 317, 331, 337, 347, 349, 353, 359, 367, 373, 379, 383, 389, 397, 401, 409, 419, 421, 431, 433, 439, 443, 449, 457, 461, 463, 467, 479, 487, 491, 499, 503, 509, 521, 523, 541, 547, 557, 563, 569, 571, 577, 587, 593, 599, 601, 607, 613, 617, 619, 631, 641, 643, 647, 653, 659, 661, 673, 677, 683, 691, 701, 709, 719, 727, 733, 739, 743, 751, 757, 761, 769, 773, 787, 797, 809, 811, 821, 823, 827, 829, 839, 853, 857, 859, 863, 877, 881, 883, 887, 907, 911, 919, 929, 937, 941, 947, 953, 967, 971, 977, 983, 991, 997]\n"
     ]
    }
   ],
   "source": [
    "prime_list = []\n",
    "for n in range(2, 1000):\n",
    "    flag = 0\n",
    "    for i in range(2,n):\n",
    "        if n % i == 0:\n",
    "            #print('not prime')\n",
    "            flag = 1\n",
    "            break\n",
    "    if flag == 0:\n",
    "        prime_list.append(n)\n",
    "print(prime_list)"
   ]
  },
  {
   "cell_type": "code",
   "execution_count": 4,
   "id": "90727396",
   "metadata": {},
   "outputs": [
    {
     "data": {
      "text/plain": [
       "False"
      ]
     },
     "execution_count": 4,
     "metadata": {},
     "output_type": "execute_result"
    }
   ],
   "source": [
    "def is_prime(n):\n",
    "    for i in range(2,10001):\n",
    "        if n % i == 0:\n",
    "            return False\n",
    "        else:\n",
    "            return True\n",
    "\n",
    "is_prime(23)\n",
    "is_prime(24)"
   ]
  },
  {
   "cell_type": "code",
   "execution_count": 7,
   "id": "07f08f29",
   "metadata": {},
   "outputs": [
    {
     "name": "stdout",
     "output_type": "stream",
     "text": [
      "[3, 5, 7, 9, 11, 13, 15, 17, 19, 21, 23, 25, 27, 29, 31, 33, 35, 37, 39, 41, 43, 45, 47, 49, 51, 53, 55, 57, 59, 61, 63, 65, 67, 69, 71, 73, 75, 77, 79, 81, 83, 85, 87, 89, 91, 93, 95, 97, 99]\n"
     ]
    }
   ],
   "source": [
    "prime_list = []\n",
    "for n in range(2,100):\n",
    "    if is_prime(n) == True:\n",
    "        prime_list.append(n)\n",
    "print(prime_list)"
   ]
  }
 ],
 "metadata": {
  "kernelspec": {
   "display_name": "Python 3 (ipykernel)",
   "language": "python",
   "name": "python3"
  },
  "language_info": {
   "codemirror_mode": {
    "name": "ipython",
    "version": 3
   },
   "file_extension": ".py",
   "mimetype": "text/x-python",
   "name": "python",
   "nbconvert_exporter": "python",
   "pygments_lexer": "ipython3",
   "version": "3.10.9"
  }
 },
 "nbformat": 4,
 "nbformat_minor": 5
}
