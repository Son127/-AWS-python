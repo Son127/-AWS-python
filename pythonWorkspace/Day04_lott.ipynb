{
 "cells": [
  {
   "cell_type": "code",
   "execution_count": 7,
   "id": "f22f6226",
   "metadata": {},
   "outputs": [
    {
     "name": "stdout",
     "output_type": "stream",
     "text": [
      "[['5', '17', '26', '27', '35', '38', '1'], ['21', '26', '30', '32', '33', '35', '44'], ['6', '12', '31', '35', '38', '43', '17']]\n"
     ]
    },
    {
     "data": {
      "text/plain": [
       "1"
      ]
     },
     "execution_count": 7,
     "metadata": {},
     "output_type": "execute_result"
    }
   ],
   "source": [
    "csv_data = []\n",
    "with open('lott.csv') as f:\n",
    "    for line in f:\n",
    "        csv_data.append(line[0:-1].split(','))\n",
    " #       csv_data.append(line.replace('\\n','').split(','))\n",
    "print(csv_data[:3])\n",
    "int(csv_data[0][-1])\n"
   ]
  },
  {
   "cell_type": "code",
   "execution_count": 12,
   "id": "70fedc2b",
   "metadata": {},
   "outputs": [
    {
     "name": "stdout",
     "output_type": "stream",
     "text": [
      "[[5, 17, 26, 27, 35, 38, 1], [21, 26, 30, 32, 33, 35, 44], [6, 12, 31, 35, 38, 43, 17]]\n"
     ]
    }
   ],
   "source": [
    "for e in csv_data:\n",
    "    for i,e_i in enumerate(e):\n",
    "        e[i] = int(e_i)\n",
    "print(csv_data[:3])"
   ]
  },
  {
   "cell_type": "code",
   "execution_count": 48,
   "id": "074c6ed6",
   "metadata": {},
   "outputs": [
    {
     "name": "stdout",
     "output_type": "stream",
     "text": [
      "[1, 5, 17, 26, 27, 35, 38]\n",
      "21.285714285714285\n",
      "None\n",
      "26\n",
      "4\n",
      "[-20.285714285714285, -16.285714285714285, -4.285714285714285, 4.714285714285715, 5.714285714285715, 13.714285714285715, 16.714285714285715]\n",
      "202.90476190476193\n"
     ]
    },
    {
     "ename": "TypeError",
     "evalue": "must be real number, not list",
     "output_type": "error",
     "traceback": [
      "\u001b[1;31m---------------------------------------------------------------------------\u001b[0m",
      "\u001b[1;31mTypeError\u001b[0m                                 Traceback (most recent call last)",
      "Cell \u001b[1;32mIn[48], line 44\u001b[0m\n\u001b[0;32m     42\u001b[0m \u001b[38;5;28mprint\u001b[39m(dev(game1))\n\u001b[0;32m     43\u001b[0m \u001b[38;5;28mprint\u001b[39m(var(game1))\n\u001b[1;32m---> 44\u001b[0m \u001b[38;5;28mprint\u001b[39m(\u001b[43mstdev\u001b[49m\u001b[43m(\u001b[49m\u001b[43mgame1\u001b[49m\u001b[43m)\u001b[49m)\n",
      "Cell \u001b[1;32mIn[48], line 30\u001b[0m, in \u001b[0;36mstdev\u001b[1;34m(num_list)\u001b[0m\n\u001b[0;32m     29\u001b[0m \u001b[38;5;28;01mdef\u001b[39;00m \u001b[38;5;21mstdev\u001b[39m(num_list):\n\u001b[1;32m---> 30\u001b[0m     \u001b[38;5;28;01mreturn\u001b[39;00m \u001b[43mmath\u001b[49m\u001b[38;5;241;43m.\u001b[39;49m\u001b[43msqrt\u001b[49m\u001b[43m(\u001b[49m\u001b[43mnum_list\u001b[49m\u001b[43m)\u001b[49m\n",
      "\u001b[1;31mTypeError\u001b[0m: must be real number, not list"
     ]
    }
   ],
   "source": [
    "import math\n",
    "\n",
    "def mean(num_list):\n",
    "    return sum(num_list)/len(num_list)\n",
    "    \n",
    "def median1(num_list): #AI풀이\n",
    "    n = len(num_list)\n",
    "    s = sorted(num_list)\n",
    "    return (s[n//2-1] + s[n//2]) / 2 if n % 2 == 0 else s[n//2]\n",
    "\n",
    "def median(num_list):\n",
    "    num_list.sort()\n",
    "    if len(num_list) % 2 == 1:\n",
    "        i = len(num_list) // 2\n",
    "        return num_list[i]\n",
    "    else:\n",
    "        i = len(num_list) // 2 # //정수  나누기\n",
    "        return (num_list[i] + num_list[i -1]) / 2\n",
    "    \n",
    "def dev(num_list): #편차\n",
    "    m = mean(num_list)\n",
    "    return [ x - m for  x in num_list]\n",
    "\n",
    "def var(num_list): #분산\n",
    "    n = len(num_list)\n",
    "    d = dev(num_list)\n",
    "    return sum([x*x for x in d]) / (n-1)\n",
    "\n",
    "def stdev(num_list): #표준편차\n",
    "    return math.sqrt(num_list)\n",
    "    \n",
    "    \n",
    "game1 = csv_data[0]\n",
    "print(game1)\n",
    "print(mean(game1))\n",
    "print(game1.sort())\n",
    "a = median(game1)\n",
    "print(a)\n",
    "print(median([1,2,3,5,33,61,4]))\n",
    "#샘플 데이터를 테스트하는 구문 (assert)\n",
    "assert median([1, 5, 17, 26, 27, 35, 38]) == 26\n",
    "print(dev(game1))\n",
    "print(var(game1))\n",
    "print(stdev(game1))"
   ]
  },
  {
   "cell_type": "code",
   "execution_count": 42,
   "id": "a71696c8",
   "metadata": {},
   "outputs": [
    {
     "name": "stdout",
     "output_type": "stream",
     "text": [
      "[1, 5, 17, 26, 27, 35, 38]\n",
      "after sorted:  [5, 1, 17, 26, 27, 35, 38]\n",
      "[1, 5, 17, 26, 27, 35, 38]\n"
     ]
    }
   ],
   "source": [
    "#in - place\n",
    "list_a = [5, 1, 17, 26, 27, 35, 38]\n",
    "print(sorted(list_a)) # 원본을 통으로 바꿈\n",
    "print('after sorted: ', list_a) # 복사본을 반환\n",
    "\n",
    "\n",
    "list_a.sort()\n",
    "print(list_a)"
   ]
  },
  {
   "cell_type": "code",
   "execution_count": 45,
   "id": "2a0e090e",
   "metadata": {},
   "outputs": [
    {
     "name": "stdout",
     "output_type": "stream",
     "text": [
      "list_a:  [5, 17, 26, 27, 35, 38, 1]\n",
      "list_b:  [5, 17, 26, 27, 35, 38, 1]\n",
      "list_a:  [100, 17, 26, 27, 35, 38, 1]\n",
      "list_b:  [5, 17, 26, 27, 35, 38, 1]\n"
     ]
    }
   ],
   "source": [
    "#referrnce\n",
    "list_a = [ 5, 17, 26, 27, 35, 38,1]\n",
    "list_b = [] #deep copy\n",
    "for  i in list_a:\n",
    "    list_b.append(i)\n",
    "# list_b  = list_a  #shallow copt, 얕은 복사:\n",
    "print('list_a: ', list_a)\n",
    "print('list_b: ', list_b)\n",
    "list_a[0] = 100\n",
    "print('list_a: ', list_a)\n",
    "print('list_b: ', list_b)\n"
   ]
  }
 ],
 "metadata": {
  "kernelspec": {
   "display_name": "Python 3 (ipykernel)",
   "language": "python",
   "name": "python3"
  },
  "language_info": {
   "codemirror_mode": {
    "name": "ipython",
    "version": 3
   },
   "file_extension": ".py",
   "mimetype": "text/x-python",
   "name": "python",
   "nbconvert_exporter": "python",
   "pygments_lexer": "ipython3",
   "version": "3.10.9"
  }
 },
 "nbformat": 4,
 "nbformat_minor": 5
}
