{
 "cells": [
  {
   "cell_type": "code",
   "execution_count": 2,
   "id": "14361ba0",
   "metadata": {},
   "outputs": [],
   "source": [
    "import seaborn as sns\n",
    "import numpy as np\n",
    "import pandas as pd\n",
    "import matplotlib.pyplot as plt\n",
    "import matplotlib"
   ]
  },
  {
   "cell_type": "code",
   "execution_count": 15,
   "id": "3e8f19b7",
   "metadata": {},
   "outputs": [
    {
     "data": {
      "text/html": [
       "<div>\n",
       "<style scoped>\n",
       "    .dataframe tbody tr th:only-of-type {\n",
       "        vertical-align: middle;\n",
       "    }\n",
       "\n",
       "    .dataframe tbody tr th {\n",
       "        vertical-align: top;\n",
       "    }\n",
       "\n",
       "    .dataframe thead th {\n",
       "        text-align: right;\n",
       "    }\n",
       "</style>\n",
       "<table border=\"1\" class=\"dataframe\">\n",
       "  <thead>\n",
       "    <tr style=\"text-align: right;\">\n",
       "      <th></th>\n",
       "      <th>행정구역별</th>\n",
       "      <th>시점</th>\n",
       "      <th>건수 (건)</th>\n",
       "      <th>사망 (명)</th>\n",
       "      <th>부상 (명)</th>\n",
       "      <th>재산피해(계) (천원)</th>\n",
       "      <th>부동산 (천원)</th>\n",
       "      <th>동산 (천원)</th>\n",
       "      <th>이재가구수 (가구)</th>\n",
       "      <th>이재민수 (명)</th>\n",
       "    </tr>\n",
       "  </thead>\n",
       "  <tbody>\n",
       "    <tr>\n",
       "      <th>12</th>\n",
       "      <td>서울특별시</td>\n",
       "      <td>2010</td>\n",
       "      <td>5321</td>\n",
       "      <td>42</td>\n",
       "      <td>188</td>\n",
       "      <td>14503873</td>\n",
       "      <td>5948963</td>\n",
       "      <td>8554910</td>\n",
       "      <td>131</td>\n",
       "      <td>277</td>\n",
       "    </tr>\n",
       "    <tr>\n",
       "      <th>13</th>\n",
       "      <td>서울특별시</td>\n",
       "      <td>2011</td>\n",
       "      <td>5526</td>\n",
       "      <td>29</td>\n",
       "      <td>168</td>\n",
       "      <td>14185528</td>\n",
       "      <td>5887081</td>\n",
       "      <td>8298447</td>\n",
       "      <td>158</td>\n",
       "      <td>312</td>\n",
       "    </tr>\n",
       "    <tr>\n",
       "      <th>14</th>\n",
       "      <td>서울특별시</td>\n",
       "      <td>2012</td>\n",
       "      <td>5724</td>\n",
       "      <td>31</td>\n",
       "      <td>246</td>\n",
       "      <td>17382374</td>\n",
       "      <td>6132231</td>\n",
       "      <td>11250143</td>\n",
       "      <td>131</td>\n",
       "      <td>260</td>\n",
       "    </tr>\n",
       "    <tr>\n",
       "      <th>15</th>\n",
       "      <td>서울특별시</td>\n",
       "      <td>2013</td>\n",
       "      <td>5646</td>\n",
       "      <td>31</td>\n",
       "      <td>202</td>\n",
       "      <td>21495228</td>\n",
       "      <td>6814090</td>\n",
       "      <td>14681138</td>\n",
       "      <td>58</td>\n",
       "      <td>153</td>\n",
       "    </tr>\n",
       "    <tr>\n",
       "      <th>16</th>\n",
       "      <td>서울특별시</td>\n",
       "      <td>2014</td>\n",
       "      <td>5815</td>\n",
       "      <td>36</td>\n",
       "      <td>265</td>\n",
       "      <td>20052979</td>\n",
       "      <td>6674887</td>\n",
       "      <td>13378092</td>\n",
       "      <td>161</td>\n",
       "      <td>369</td>\n",
       "    </tr>\n",
       "  </tbody>\n",
       "</table>\n",
       "</div>"
      ],
      "text/plain": [
       "    행정구역별    시점  건수 (건) 사망 (명)  부상 (명)  재산피해(계) (천원)  부동산 (천원)   동산 (천원)  \\\n",
       "12  서울특별시  2010    5321     42     188      14503873   5948963   8554910   \n",
       "13  서울특별시  2011    5526     29     168      14185528   5887081   8298447   \n",
       "14  서울특별시  2012    5724     31     246      17382374   6132231  11250143   \n",
       "15  서울특별시  2013    5646     31     202      21495228   6814090  14681138   \n",
       "16  서울특별시  2014    5815     36     265      20052979   6674887  13378092   \n",
       "\n",
       "    이재가구수 (가구)  이재민수 (명)  \n",
       "12         131       277  \n",
       "13         158       312  \n",
       "14         131       260  \n",
       "15          58       153  \n",
       "16         161       369  "
      ]
     },
     "execution_count": 15,
     "metadata": {},
     "output_type": "execute_result"
    }
   ],
   "source": [
    "current_font_list = matplotlib.rcParams['font.family']\n",
    "font_path = \"C:\\Windows\\Fonts\\gulim.ttc\"\n",
    "kfont = matplotlib.font_manager.FontProperties(fname=font_path).get_name()\n",
    "\n",
    "matplotlib.rcParams['font.family'] = [kfont] + current_font_list\n",
    "\n",
    "pd_data = pd.read_csv('시도별_화재발생_현황_총괄__20230307160935.csv', encoding = 'cp949')\n",
    "filter1 = pd_data['행정구역별'] != '전국' \n",
    "sub_data = pd_data[filter1]\n",
    "sub_data.head()"
   ]
  },
  {
   "cell_type": "code",
   "execution_count": 28,
   "id": "505eadcd",
   "metadata": {},
   "outputs": [
    {
     "data": {
      "text/plain": [
       "<seaborn.axisgrid.FacetGrid at 0x1eeeb3c1c60>"
      ]
     },
     "execution_count": 28,
     "metadata": {},
     "output_type": "execute_result"
    },
    {
     "data": {
      "image/png": "[encoded data removed]",
      "text/plain": [
       "<Figure size 574x500 with 1 Axes>"
      ]
     },
     "metadata": {},
     "output_type": "display_data"
    }
   ],
   "source": [
    "filter2 = sub_data['행정구역별'] == '서울특별시'\n",
    "sub_data1 = sub_data[filter2]\n",
    "\n",
    "sns.relplot(data=sub_data1, x='시점', y= '건수 (건)', hue='부상 (명)')"
   ]
  }
 ],
 "metadata": {
  "kernelspec": {
   "display_name": "Python 3 (ipykernel)",
   "language": "python",
   "name": "python3"
  },
  "language_info": {
   "codemirror_mode": {
    "name": "ipython",
    "version": 3
   },
   "file_extension": ".py",
   "mimetype": "text/x-python",
   "name": "python",
   "nbconvert_exporter": "python",
   "pygments_lexer": "ipython3",
   "version": "3.10.9"
  }
 },
 "nbformat": 4,
 "nbformat_minor": 5
}
