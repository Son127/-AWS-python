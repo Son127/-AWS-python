{
 "cells": [
  {
   "cell_type": "code",
   "execution_count": 2,
   "id": "14361ba0",
   "metadata": {},
   "outputs": [],
   "source": [
    "import seaborn as sns\n",
    "import numpy as np\n",
    "import pandas as pd\n",
    "import matplotlib.pyplot as plt\n",
    "import matplotlib"
   ]
  },
  {
   "cell_type": "code",
   "execution_count": 9,
   "id": "3e8f19b7",
   "metadata": {},
   "outputs": [],
   "source": [
    "current_font_list = matplotlib.rcParams['font.family']\n",
    "font_path = \"C:\\Windows\\Fonts\\gulim.ttc\"\n",
    "kfont = matplotlib.font_manager.FontProperties(fname=font_path).get_name()\n",
    "\n",
    "matplotlib.rcParams['font.family'] = [kfont] + current_font_list\n",
    "\n",
    "pd_data = pd.read_csv('시도별_화재발생_현황_총괄__20230307160935.csv', encoding = 'cp949')\n",
    "filter1 = pd_data['행정구역별'] != '전국' \n",
    "sub_data = pd_data[filter1]\n",
    "sub_data.head()\n",
    "\n",
    "pd_byarea = pd_data[pd_data['행정구역별']!= '전국']"
   ]
  },
  {
   "cell_type": "code",
   "execution_count": 10,
   "id": "92f2345c",
   "metadata": {},
   "outputs": [
    {
     "name": "stderr",
     "output_type": "stream",
     "text": [
      "C:\\Users\\ITPS\\AppData\\Local\\Temp\\ipykernel_5204\\3414927065.py:1: FutureWarning: In a future version of pandas all arguments of DataFrame.pivot will be keyword-only.\n",
      "  df1 = pd_byarea.pivot('행정구역별','시점','사망 (명)')\n"
     ]
    },
    {
     "ename": "NameError",
     "evalue": "name 'true' is not defined",
     "output_type": "error",
     "traceback": [
      "\u001b[1;31m---------------------------------------------------------------------------\u001b[0m",
      "\u001b[1;31mNameError\u001b[0m                                 Traceback (most recent call last)",
      "Cell \u001b[1;32mIn[10], line 2\u001b[0m\n\u001b[0;32m      1\u001b[0m df1 \u001b[38;5;241m=\u001b[39m pd_byarea\u001b[38;5;241m.\u001b[39mpivot(\u001b[38;5;124m'\u001b[39m\u001b[38;5;124m행정구역별\u001b[39m\u001b[38;5;124m'\u001b[39m,\u001b[38;5;124m'\u001b[39m\u001b[38;5;124m시점\u001b[39m\u001b[38;5;124m'\u001b[39m,\u001b[38;5;124m'\u001b[39m\u001b[38;5;124m사망 (명)\u001b[39m\u001b[38;5;124m'\u001b[39m)\n\u001b[1;32m----> 2\u001b[0m r \u001b[38;5;241m=\u001b[39m sns\u001b[38;5;241m.\u001b[39mheatmap(df1, annot\u001b[38;5;241m=\u001b[39m\u001b[43mtrue\u001b[49m, fmt\u001b[38;5;241m=\u001b[39m\u001b[38;5;124m'\u001b[39m\u001b[38;5;124m.0f\u001b[39m\u001b[38;5;124m'\u001b[39m)\n",
      "\u001b[1;31mNameError\u001b[0m: name 'true' is not defined"
     ]
    }
   ],
   "source": [
    "df1 = pd_byarea.pivot('행정구역별','시점','사망 (명)')\n",
    "r = sns.heatmap(df1, annot=true, fmt='.0f')"
   ]
  },
  {
   "cell_type": "code",
   "execution_count": 1,
   "id": "505eadcd",
   "metadata": {},
   "outputs": [
    {
     "ename": "NameError",
     "evalue": "name 'sub_data' is not defined",
     "output_type": "error",
     "traceback": [
      "\u001b[1;31m---------------------------------------------------------------------------\u001b[0m",
      "\u001b[1;31mNameError\u001b[0m                                 Traceback (most recent call last)",
      "Cell \u001b[1;32mIn[1], line 1\u001b[0m\n\u001b[1;32m----> 1\u001b[0m filter2 \u001b[38;5;241m=\u001b[39m \u001b[43msub_data\u001b[49m[\u001b[38;5;124m'\u001b[39m\u001b[38;5;124m행정구역별\u001b[39m\u001b[38;5;124m'\u001b[39m] \u001b[38;5;241m==\u001b[39m \u001b[38;5;124m'\u001b[39m\u001b[38;5;124m서울특별시\u001b[39m\u001b[38;5;124m'\u001b[39m\n\u001b[0;32m      2\u001b[0m sub_data1 \u001b[38;5;241m=\u001b[39m sub_data[filter2]\n\u001b[0;32m      4\u001b[0m sns\u001b[38;5;241m.\u001b[39mbarplot(data\u001b[38;5;241m=\u001b[39msub_data1, x\u001b[38;5;241m=\u001b[39m\u001b[38;5;124m'\u001b[39m\u001b[38;5;124m시점\u001b[39m\u001b[38;5;124m'\u001b[39m, y\u001b[38;5;241m=\u001b[39m \u001b[38;5;124m'\u001b[39m\u001b[38;5;124m건수 (건)\u001b[39m\u001b[38;5;124m'\u001b[39m, hue\u001b[38;5;241m=\u001b[39m\u001b[38;5;124m'\u001b[39m\u001b[38;5;124m부상 (명)\u001b[39m\u001b[38;5;124m'\u001b[39m)\n",
      "\u001b[1;31mNameError\u001b[0m: name 'sub_data' is not defined"
     ]
    }
   ],
   "source": [
    "filter2 = sub_data['행정구역별'] == '서울특별시'\n",
    "sub_data1 = sub_data[filter2]\n",
    "\n",
    "sns.barplot(data=sub_data1, x='시점', y= '건수 (건)', hue='부상 (명)')"
   ]
  },
  {
   "cell_type": "code",
   "execution_count": null,
   "id": "33653e99",
   "metadata": {},
   "outputs": [],
   "source": [
    "sns.displot(data=pd)"
   ]
  }
 ],
 "metadata": {
  "kernelspec": {
   "display_name": "Python 3 (ipykernel)",
   "language": "python",
   "name": "python3"
  },
  "language_info": {
   "codemirror_mode": {
    "name": "ipython",
    "version": 3
   },
   "file_extension": ".py",
   "mimetype": "text/x-python",
   "name": "python",
   "nbconvert_exporter": "python",
   "pygments_lexer": "ipython3",
   "version": "3.10.9"
  }
 },
 "nbformat": 4,
 "nbformat_minor": 5
}
