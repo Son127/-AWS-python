{
 "cells": [
  {
   "cell_type": "code",
   "execution_count": 3,
   "id": "4c4f0b1d",
   "metadata": {},
   "outputs": [],
   "source": [
    "import numpy as np\n",
    "import pandas as pd\n",
    "\n",
    "pd_oneway = pd.read_csv('전국일방통행도로표준데이터_pass1.csv')\n",
    "# pd_childway = pd.read_csv('전국어린이보호구역표준데이터_pass1.csv')\n",
    "pd_elderway = pd.read_csv('전국노인장애인보호구역표준데이터_pass1.csv')"
   ]
  },
  {
   "cell_type": "code",
   "execution_count": null,
   "id": "2bf4b7fa",
   "metadata": {},
   "outputs": [],
   "source": [
    "print(pd_oneway.head()) #시도명 별 보차분리여부\n",
    "print(childway.head()) # 시도명(지자체명) 별 cctv설치대수\n",
    "print(pd_elderway.head()) #시도명별 cctv 설치대수"
   ]
  },
  {
   "cell_type": "code",
   "execution_count": null,
   "id": "13addb0b",
   "metadata": {},
   "outputs": [],
   "source": [
    "g1 = pd_oneway[pd_oneway['보차분리여부'] == 'Y'].groupby('시도명')\n",
    "s1 = g1['보차분리여부'].count()\n",
    "s1.name  = '보차분리여부Y_COUNT'"
   ]
  },
  {
   "cell_type": "code",
   "execution_count": null,
   "id": "3720b306",
   "metadata": {},
   "outputs": [],
   "source": [
    "g2 = pd_child.groupby('지자체명')\n",
    "s2 = g2['CCYV설치대수'].sum()\n",
    "s2.name = '어린이CCTV_COUNT'\n",
    "print(s2)"
   ]
  },
  {
   "cell_type": "code",
   "execution_count": null,
   "id": "411e42a2",
   "metadata": {},
   "outputs": [],
   "source": [
    "g3 = pd_child.groupby('시도명')\n",
    "s3 = g2['CCYV설치대수'].sum()\n",
    "s3.name = '노인장애인CCTV_COUNT'\n",
    "print(s3)"
   ]
  },
  {
   "cell_type": "code",
   "execution_count": null,
   "id": "2e2d03d0",
   "metadata": {},
   "outputs": [],
   "source": [
    "df_dmbined = pd.coucat((s1,s2,s3),axis = 1)\n",
    "print(df_combined)"
   ]
  },
  {
   "cell_type": "code",
   "execution_count": null,
   "id": "51253be8",
   "metadata": {},
   "outputs": [],
   "source": [
    "print(df_combined.reset_index(inplace=True))"
   ]
  },
  {
   "cell_type": "code",
   "execution_count": null,
   "id": "3123c11b",
   "metadata": {},
   "outputs": [],
   "source": [
    "import matplotlib.pyplot as plt\n",
    "\n",
    "_,axe = plt.subplots()\n",
    "axe.plot(df_combined['어린이CCTV_COUNT'])\n",
    "axe.plot(df_combined['노인장애인CCTV_COUNT'])"
   ]
  },
  {
   "cell_type": "code",
   "execution_count": null,
   "id": "a619ee56",
   "metadata": {},
   "outputs": [],
   "source": [
    "a_min = df_combined['어린이CCTV_COUNT'].min()\n",
    "a_max = df_combined['어린이CCTV_COUNT'].max()\n",
    "df_combined['어린이CCTV_COUNT_nore'] = df_combined['어린이CCTV_COUNT'].apply(lambda x: (x-a_min)/(a_max-a_min))\n",
    "\n",
    "a_min = df_combined['노인장애인CCTV_COUNT'].min()\n",
    "a_max = df_combined['노인장애인CCTV_COUNT'].max()\n",
    "df_combined['노인장애인CCTV_COUNT_nore'] = df_combined['노인장애인CCTV_COUNT'].apply(lambda x: (x-a_min)/(a_max-a_min))\n",
    "\n",
    "_,axe = plt.subplots()\n",
    "axe.plot(df_combined['어린이CCTV_COUNT_nore'])\n",
    "axe.plot(df_combined['노인장애인CCTV_COUNT_nore'])"
   ]
  },
  {
   "cell_type": "code",
   "execution_count": null,
   "id": "2d2437db",
   "metadata": {},
   "outputs": [],
   "source": []
  },
  {
   "cell_type": "code",
   "execution_count": null,
   "id": "47fe737e",
   "metadata": {},
   "outputs": [],
   "source": [
    "df1 = pd_child[['CCTV설치여부','CCTV설치대수','지자체명']]\n",
    "df2= pd_elder[['CCTV설치여부','CCTV설치대수','시도명']]\n",
    "df1.columns = df2.columns\n",
    "# print(df1.head())\n",
    "# print(df2.head())\n",
    "df12 = pd.concat((df1,df2), axis=0, keys=['어린이','노인장애인'])\n",
    "df12.reset_index(level = 0,inplace = True)\n",
    "df12"
   ]
  }
 ],
 "metadata": {
  "kernelspec": {
   "display_name": "Python 3 (ipykernel)",
   "language": "python",
   "name": "python3"
  },
  "language_info": {
   "codemirror_mode": {
    "name": "ipython",
    "version": 3
   },
   "file_extension": ".py",
   "mimetype": "text/x-python",
   "name": "python",
   "nbconvert_exporter": "python",
   "pygments_lexer": "ipython3",
   "version": "3.10.9"
  }
 },
 "nbformat": 4,
 "nbformat_minor": 5
}
