{
 "cells": [
  {
   "cell_type": "code",
   "execution_count": 3,
   "id": "a63c0735",
   "metadata": {},
   "outputs": [
    {
     "name": "stdout",
     "output_type": "stream",
     "text": [
      "[]\n",
      "['a']\n"
     ]
    }
   ],
   "source": [
    "#python List\n",
    "\n",
    "lista = []\n",
    "print(lista)\n",
    "\n",
    "lista.append('a')\n",
    "print(lista)"
   ]
  },
  {
   "cell_type": "code",
   "execution_count": 11,
   "id": "e3db51bd",
   "metadata": {},
   "outputs": [
    {
     "name": "stdout",
     "output_type": "stream",
     "text": [
      "['a'] <class 'numpy.ndarray'>\n",
      "[0 1 2 3 4]\n",
      "[1 3]\n",
      "[0 2 4]\n",
      "[3 4]\n"
     ]
    }
   ],
   "source": [
    "#Numpy ndarray\n",
    "import numpy as np\n",
    "\n",
    "array1 = np.array(lista)\n",
    "array2 = np.array([1,2,3,4])\n",
    "array3 = np.array([x for x in range(5)])\n",
    "\n",
    "print(array1, type(array1))\n",
    "print(array3)\n",
    "print(array3[[1,3]])\n",
    "print(array3[array3 % 2 == 0])\n",
    "print(array3[array3 > 2])"
   ]
  },
  {
   "cell_type": "code",
   "execution_count": 15,
   "id": "e68f6ba2",
   "metadata": {},
   "outputs": [
    {
     "name": "stdout",
     "output_type": "stream",
     "text": [
      "3\n",
      "4\n"
     ]
    }
   ],
   "source": [
    "#for , if\n",
    "\n",
    "# for i in array3:\n",
    "#     print(i)\n",
    "    \n",
    "for i in range(5):\n",
    "    if i > 2:\n",
    "        print(i)"
   ]
  },
  {
   "cell_type": "code",
   "execution_count": 25,
   "id": "a0b29a44",
   "metadata": {},
   "outputs": [
    {
     "name": "stdout",
     "output_type": "stream",
     "text": [
      "return_value:  200\n"
     ]
    },
    {
     "ename": "AssertionError",
     "evalue": "",
     "output_type": "error",
     "traceback": [
      "\u001b[1;31m---------------------------------------------------------------------------\u001b[0m",
      "\u001b[1;31mAssertionError\u001b[0m                            Traceback (most recent call last)",
      "Cell \u001b[1;32mIn[25], line 9\u001b[0m\n\u001b[0;32m      6\u001b[0m return_value \u001b[38;5;241m=\u001b[39m function_name(\u001b[38;5;241m20\u001b[39m)\n\u001b[0;32m      7\u001b[0m \u001b[38;5;28mprint\u001b[39m(\u001b[38;5;124m'\u001b[39m\u001b[38;5;124mreturn_value: \u001b[39m\u001b[38;5;124m'\u001b[39m, return_value)\n\u001b[1;32m----> 9\u001b[0m \u001b[38;5;28;01massert\u001b[39;00m function_name (\u001b[38;5;241m100\u001b[39m) \u001b[38;5;241m==\u001b[39m \u001b[38;5;241m4\u001b[39m\n",
      "\u001b[1;31mAssertionError\u001b[0m: "
     ]
    }
   ],
   "source": [
    "#function\n",
    "\n",
    "def function_name(n):\n",
    "    return n * 10\n",
    "\n",
    "return_value = function_name(20)\n",
    "print('return_value: ', return_value)\n",
    "\n",
    "assert function_name (100) == 4"
   ]
  },
  {
   "cell_type": "code",
   "execution_count": 38,
   "id": "f6b4bc70",
   "metadata": {},
   "outputs": [
    {
     "name": "stdout",
     "output_type": "stream",
     "text": [
      "[6, 34, 11, 98, 52, 34, 13, 4, 48, 68, 71, 42, 43, 6, 20, 17, 43, 71, 42, 89, 31, 20, 0, 55, 99, 11, 76, 48, 8, 0, 40, 93, 57, 13, 5, 11, 85, 18, 16, 2, 37, 55, 73, 61, 33, 60, 4, 98, 39, 43, 66, 61, 26, 77, 81, 67, 72, 40, 1, 50, 98, 82, 65, 55, 87, 68, 81, 85, 76, 62, 66, 85, 53, 47, 65, 4, 96, 82, 23, 92, 10, 62, 84, 33, 21, 42, 43, 70, 50, 9, 92, 58, 49, 73, 99, 43, 2, 24, 75, 11]\n",
      "[80, 46, 1, 45, 29, 51, 68, 64, 92, 7]\n",
      "[98 52 68 71 71 89 55 99 76 93 57 85 55 73 61 60 98 66 61 77 81 67 72 98\n",
      " 82 65 55 87 68 81 85 76 62 66 85 53 65 96 82 92 62 84 70 92 58 73 99 75]\n",
      "48\n"
     ]
    }
   ],
   "source": [
    "import random\n",
    "\n",
    "random.seed(123)\n",
    "list1 = []\n",
    "for i in range(100):\n",
    "    list1.append(random.randint(0,100))\n",
    "print(list1)\n",
    "\n",
    "list2 = [random.randint(0,100) for _ in range(10)]\n",
    "print(list2) \n",
    "\n",
    "list_np = np.array(list1)\n",
    "print(list_np[list_np > 50])\n",
    "print(len(list_np[list_np > 50]))"
   ]
  }
 ],
 "metadata": {
  "kernelspec": {
   "display_name": "Python 3 (ipykernel)",
   "language": "python",
   "name": "python3"
  },
  "language_info": {
   "codemirror_mode": {
    "name": "ipython",
    "version": 3
   },
   "file_extension": ".py",
   "mimetype": "text/x-python",
   "name": "python",
   "nbconvert_exporter": "python",
   "pygments_lexer": "ipython3",
   "version": "3.10.9"
  }
 },
 "nbformat": 4,
 "nbformat_minor": 5
}
