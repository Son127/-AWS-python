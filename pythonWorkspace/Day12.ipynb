{
 "cells": [
  {
   "cell_type": "code",
   "execution_count": null,
   "id": "fb609352",
   "metadata": {},
   "outputs": [],
   "source": [
    "import numpy as np\n"
   ]
  },
  {
   "cell_type": "code",
   "execution_count": 3,
   "id": "c9db71bb",
   "metadata": {},
   "outputs": [],
   "source": [
    "def count_with_replacement_order(pool, sel_count):  # all\n",
    "    if sel_count == 1:\n",
    "        return len(pool), [[x] for x in pool]\n",
    "    a, b = count_with_replacement_order(pool, sel_count-1)\n",
    "    r = []\n",
    "    for x in pool:\n",
    "        for b_i in b:\n",
    "            r.append(b_i+[x])\n",
    "    return len(r), r    \n",
    "\n",
    "def perm_pool(pool, r):\n",
    "    if r == 1:\n",
    "        return len(pool), [[x] for x in pool]\n",
    "    ret = []\n",
    "    for x in pool:\n",
    "        pool_copy = [y for y in pool]\n",
    "        pool_copy.remove(x)\n",
    "        a, b = perm_pool(pool_copy, r-1)\n",
    "        for b_i in b:\n",
    "            ret.append(b_i+[x])\n",
    "    return len(ret), ret\n",
    "\n",
    "def combi_pool(pool, r):\n",
    "    a , b = perm_pool(pool, r)\n",
    "    r = []\n",
    "    for b_i in b:\n",
    "        r.append(set(b_i))\n",
    "    f = []\n",
    "    for r_i in r:\n",
    "        f.append(r_i)\n",
    "        while r_i in r:\n",
    "            r.remove(r_i)\n",
    "    if r:\n",
    "        f.append(r[0])\n",
    "    return len(f), f"
   ]
  },
  {
   "cell_type": "code",
   "execution_count": 6,
   "id": "ca0b307c",
   "metadata": {},
   "outputs": [
    {
     "data": {
      "text/plain": [
       "(19,\n",
       " [{'a', 'b', 'c'},\n",
       "  {'a', 'b', 'e'},\n",
       "  {'a', 'c', 'd'},\n",
       "  {'a', 'c', 'f'},\n",
       "  {'a', 'd', 'e'},\n",
       "  {'a', 'c', 'e'},\n",
       "  {'a', 'd', 'f'},\n",
       "  {'a', 'b', 'f'},\n",
       "  {'a', 'b', 'd'},\n",
       "  {'b', 'd', 'e'},\n",
       "  {'b', 'd', 'f'},\n",
       "  {'b', 'c', 'e'},\n",
       "  {'c', 'd', 'f'},\n",
       "  {'c', 'e', 'f'},\n",
       "  {'b', 'c', 'd'},\n",
       "  {'b', 'e', 'f'},\n",
       "  {'a', 'e', 'f'},\n",
       "  {'d', 'e', 'f'},\n",
       "  {'b', 'c', 'f'}])"
      ]
     },
     "execution_count": 6,
     "metadata": {},
     "output_type": "execute_result"
    }
   ],
   "source": [
    "# count_with_replacement_order(list('abcdef'),3)\n",
    "# perm_pool(list('abcdef'),3)\n",
    "combi_pool(list('abcdef'),3)"
   ]
  }
 ],
 "metadata": {
  "kernelspec": {
   "display_name": "Python 3 (ipykernel)",
   "language": "python",
   "name": "python3"
  },
  "language_info": {
   "codemirror_mode": {
    "name": "ipython",
    "version": 3
   },
   "file_extension": ".py",
   "mimetype": "text/x-python",
   "name": "python",
   "nbconvert_exporter": "python",
   "pygments_lexer": "ipython3",
   "version": "3.10.9"
  }
 },
 "nbformat": 4,
 "nbformat_minor": 5
}
