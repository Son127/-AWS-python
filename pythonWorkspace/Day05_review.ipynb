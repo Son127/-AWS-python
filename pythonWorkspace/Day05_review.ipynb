{
 "cells": [
  {
   "cell_type": "code",
   "execution_count": 33,
   "id": "99ea0634",
   "metadata": {},
   "outputs": [
    {
     "name": "stdout",
     "output_type": "stream",
     "text": [
      "10.5\n",
      "datatype: list\n",
      "{'x': 10, 'y': 20, 'z': 30}\n"
     ]
    }
   ],
   "source": [
    "#int, float, bool, str\n",
    "\n",
    "#예외처리\n",
    "try:\n",
    "    a  = [20.5,'10.5']\n",
    "    for i in a:\n",
    "        int(i)\n",
    "except:\n",
    "    print(i)\n",
    "\n",
    "# 데이터 타입 분석.\n",
    "a = [20.5,'10.5']\n",
    "if isinstance(a,type([])):\n",
    "    print('datatype: list')\n",
    "elif isinstance(a,type('')):\n",
    "    print('datatype:str')\n",
    "\n",
    "    \n",
    "#list, tuple: 값을 반환 받을때, set: 유니크한 값들을 출력할때, dictionary\n",
    "\n",
    "#dict {'key':value}\n",
    "dict1 = {'a': 1, 'b': 2}\n",
    "\n",
    "key_list = list('xyz')\n",
    "value_list = [10,20,30]\n",
    "\n",
    "x = zip(key_list, value_list) #[('x',10),('y',20),('z',30)] zip은 내부적으로 저렇게 만들어 준다\n",
    "dict2 = dict(x)\n",
    "print(dict2)\n",
    "\n",
    "#dict 사용법\n",
    "print(dict2['x']) #키값으로 조회해서 가지고 오는 법 없는 키값을 입력하면 오류, ㅠㅡ로그램  종료\n",
    "print(dict2.get('x')) #get 메소드는 없는 key값을 입력을 해도 오류가 안남\n",
    "\n",
    "# 딕셔너리 값 재설정\n",
    "dict2['y'] = 50\n",
    "print(dict2)\n",
    "\n",
    "#딕셔너리 값 추가\n",
    "dict2['newkey'] = 1234\n",
    "print(dict2)\n",
    "\n",
    "#딕셔너리 분리\n",
    "klist = dict2.keys()\n",
    "vlist = dict2.values()\n",
    "print(klist)\n",
    "print(vlist)\n",
    "print(dict2.items())\n",
    "#딕셔너리 순환\n",
    "for e in dict2:\n",
    "    print(e, dict2[e])"
   ]
  },
  {
   "cell_type": "code",
   "execution_count": null,
   "id": "ffddba47",
   "metadata": {},
   "outputs": [],
   "source": []
  },
  {
   "cell_type": "code",
   "execution_count": 8,
   "id": "d4581e95",
   "metadata": {},
   "outputs": [
    {
     "name": "stdout",
     "output_type": "stream",
     "text": [
      "false\n"
     ]
    }
   ],
   "source": [
    "#if: - else:\n",
    "#if: -elif: - else\n",
    "\n",
    "#비교연산자가 아닐때 true, false는 \n",
    "if '' :\n",
    "    print('ture') \n",
    "else:\n",
    "    print('false') # 0이거나 비어있는 문자열/ list"
   ]
  },
  {
   "cell_type": "code",
   "execution_count": 11,
   "id": "e7cd007b",
   "metadata": {},
   "outputs": [
    {
     "name": "stdout",
     "output_type": "stream",
     "text": [
      "0 a\n",
      "1 s\n",
      "2 d\n",
      "3 f\n",
      "4 g\n",
      "5 h\n",
      "6 q\n",
      "7 w\n",
      "8 e\n",
      "9 r\n",
      "['a']\n"
     ]
    }
   ],
   "source": [
    "#for - range() / list, enumerate() - 인덱스하고 인덱스에 있는 값을 같이 받을 때\n",
    "lista = list('asdfghqwer')\n",
    "for i,c in enumerate(lista):\n",
    "    print(i,c)\n",
    "#whlie - 조건\n",
    "while len(lista) >  1 :\n",
    "    lista.remove(lista[-1])\n",
    "print(lista)"
   ]
  },
  {
   "cell_type": "code",
   "execution_count": 14,
   "id": "9d306d77",
   "metadata": {},
   "outputs": [
    {
     "name": "stdout",
     "output_type": "stream",
     "text": [
      "const\n",
      "==========\n",
      "myclass2\n",
      "==========\n",
      "dest\n"
     ]
    }
   ],
   "source": [
    "#함수,클래스\n",
    "#함수를 정의, 함수명(매개변수):\n",
    "def myfunction1(n):\n",
    "    print('mytunction1',n)\n",
    "    return n*5\n",
    "#클래스 내부에 메소드를 정의할때는 (self) \n",
    "class myclass:\n",
    "    def mymethod1(self):\n",
    "        print('method')\n",
    "#클래스를 상속받는\n",
    "# __ 를 쓰는 것들은 직접적으로 호출하는것이 아니다.\n",
    "class myclass2(myclass):\n",
    "    def __init__(self):\n",
    "        print('const')\n",
    "    def __del__(self):\n",
    "        print('dest')\n",
    "    def __str__(self):\n",
    "        return 'myclass2'\n",
    "x = myclass2()  # __init__ const\n",
    "print('==========')\n",
    "print(x) #__str__\n",
    "print('==========')\n",
    "del x #__del__ dest"
   ]
  },
  {
   "cell_type": "code",
   "execution_count": 19,
   "id": "bcf3c84e",
   "metadata": {},
   "outputs": [],
   "source": [
    "#파일 입출력\n",
    "\n",
    "with open ('lott.csv') as f :\n",
    "    for i in f:\n",
    "        pass\n",
    "        #print(i)\n",
    "    #file write  - 파일 내용 입력\n",
    "    with open('test.txt','w') as f: # mode: 'w'rite / 'r'ead r은 기본 값 , 'b'inary - 2진형태\n",
    "        for i in range(3,10):       # 'wb': write binary\n",
    "            f.write('test string{}\\n'.format(i))"
   ]
  },
  {
   "cell_type": "code",
   "execution_count": 22,
   "id": "74a212c0",
   "metadata": {},
   "outputs": [
    {
     "ename": "EOFError",
     "evalue": "Ran out of input",
     "output_type": "error",
     "traceback": [
      "\u001b[1;31m---------------------------------------------------------------------------\u001b[0m",
      "\u001b[1;31mEOFError\u001b[0m                                  Traceback (most recent call last)",
      "Cell \u001b[1;32mIn[22], line 11\u001b[0m\n\u001b[0;32m      9\u001b[0m \u001b[38;5;66;03m#read\u001b[39;00m\n\u001b[0;32m     10\u001b[0m \u001b[38;5;28;01mwith\u001b[39;00m \u001b[38;5;28mopen\u001b[39m(\u001b[38;5;124m'\u001b[39m\u001b[38;5;124mpickle_test.pickle\u001b[39m\u001b[38;5;124m'\u001b[39m,\u001b[38;5;124m'\u001b[39m\u001b[38;5;124mrb\u001b[39m\u001b[38;5;124m'\u001b[39m) \u001b[38;5;28;01mas\u001b[39;00m f:\n\u001b[1;32m---> 11\u001b[0m     listb \u001b[38;5;241m=\u001b[39m \u001b[43mpickle\u001b[49m\u001b[38;5;241;43m.\u001b[39;49m\u001b[43mload\u001b[49m\u001b[43m(\u001b[49m\u001b[43mf\u001b[49m\u001b[43m)\u001b[49m\n\u001b[0;32m     12\u001b[0m \u001b[38;5;28mprint\u001b[39m(listb)\n",
      "\u001b[1;31mEOFError\u001b[0m: Ran out of input"
     ]
    }
   ],
   "source": [
    "import pickle\n",
    "\n",
    "lista = list('asdf')\n",
    "\n",
    "#write\n",
    "with open('pickle_test.pickle','wb') as f:\n",
    "    pickle.dump(lista,f)\n",
    "\n",
    "    #read\n",
    "    with open('pickle_test.pickle','rb') as f:\n",
    "        listb = pickle.load(f)\n",
    "    print(listb)"
   ]
  }
 ],
 "metadata": {
  "kernelspec": {
   "display_name": "Python 3 (ipykernel)",
   "language": "python",
   "name": "python3"
  },
  "language_info": {
   "codemirror_mode": {
    "name": "ipython",
    "version": 3
   },
   "file_extension": ".py",
   "mimetype": "text/x-python",
   "name": "python",
   "nbconvert_exporter": "python",
   "pygments_lexer": "ipython3",
   "version": "3.10.9"
  }
 },
 "nbformat": 4,
 "nbformat_minor": 5
}
