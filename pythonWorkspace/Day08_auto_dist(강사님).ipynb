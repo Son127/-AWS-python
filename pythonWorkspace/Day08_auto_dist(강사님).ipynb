{
 "cells": [
  {
   "cell_type": "code",
   "execution_count": 2,
   "id": "432f5211",
   "metadata": {},
   "outputs": [],
   "source": [
    "import numpy as np\n",
    "import math\n",
    "\n",
    "def dist_np(p1,p2):\n",
    "    i = p2 - p1 #[2 15]\n",
    "    i = sum(i * i) #[4, 225]\n",
    "    return math.sqrt(i)\n",
    "\n",
    "def dist_np2(p1, p2):\n",
    "    return math.sqrt(sum((p2 - p1)**2))\n",
    "import numpy as np\n",
    "import math\n",
    "\n",
    "def my_split(s):\n",
    "    block_start = False\n",
    "    start_index = 0\n",
    "    ret_list=[]\n",
    "    for i, c in enumerate(s):\n",
    "        if block_start==False:\n",
    "            if c==',':\n",
    "                ret_list.append(s[start_index:i])\n",
    "                start_index=i+1\n",
    "            elif c=='\"':\n",
    "                block_start=True\n",
    "                start_index = i\n",
    "        else:\n",
    "            if c=='\"':\n",
    "                block_start=False\n",
    "    if s[-1]!=',':\n",
    "        ret_list.append(s[start_index:])\n",
    "    return ret_list\n",
    "\n",
    "def split_len(data_list):\n",
    "    len_list=[]\n",
    "    for e in data_list:\n",
    "        len_list.append(len(e))\n",
    "    print(set(len_list))\n",
    "    if len(set(len_list))>1:\n",
    "        for i in set(len_list):\n",
    "            print(i, len_list.count(i))\n",
    "\n",
    "def dist_np(p1, p2): #  [3,10]  [5,25]\n",
    "    return math.sqrt(sum((p2-p1)**2))"
   ]
  },
  {
   "cell_type": "code",
   "execution_count": 3,
   "id": "c8c96b47",
   "metadata": {},
   "outputs": [],
   "source": [
    "csv_data = []\n",
    "with open('전국자동차정비업체표준데이터1.csv') as f:\n",
    "    for line in f:\n",
    "        csv_data.append(my_split(line))\n",
    "    "
   ]
  },
  {
   "cell_type": "code",
   "execution_count": 5,
   "id": "573be8f3",
   "metadata": {},
   "outputs": [
    {
     "name": "stdout",
     "output_type": "stream",
     "text": [
      "[[36.93385095, 129.2462157], [36.9337494, 127.4605018], [36.93372085, 127.8917746]]\n"
     ]
    }
   ],
   "source": [
    "loc_list = []\n",
    "for e in csv_data[1:]:\n",
    "    loc_list.append(e[4:6])\n",
    "for e in loc_list:\n",
    "    for i,v in enumerate(e):\n",
    "        try:\n",
    "            e[i] = float(v)\n",
    "        except:\n",
    "            e[i] = 0.0\n",
    "print(loc_list[:3])"
   ]
  },
  {
   "cell_type": "code",
   "execution_count": 5,
   "id": "84858ce1",
   "metadata": {},
   "outputs": [
    {
     "data": {
      "text/plain": [
       "133.76143237783452"
      ]
     },
     "execution_count": 5,
     "metadata": {},
     "output_type": "execute_result"
    }
   ],
   "source": [
    "target_p = np.array([35.1531, 129.0596])\n",
    "p2 = np.array(loc_list[0])\n",
    "dist_np2(target_p,p2)"
   ]
  },
  {
   "cell_type": "code",
   "execution_count": 8,
   "id": "5b6b6ef5",
   "metadata": {},
   "outputs": [
    {
     "name": "stdout",
     "output_type": "stream",
     "text": [
      "[[0, 133.76143237783452], [1, 133.76143237783452], [2, 133.76143237783452]]\n"
     ]
    }
   ],
   "source": [
    "dist_list = []\n",
    "for i,p2 in enumerate(loc_list):\n",
    "    dist_list.append([i,dist_np2(target_p,np.array(p2))])\n",
    "print(dist_list[:3])"
   ]
  },
  {
   "cell_type": "code",
   "execution_count": 9,
   "id": "62da366d",
   "metadata": {},
   "outputs": [
    {
     "name": "stdout",
     "output_type": "stream",
     "text": [
      "[[0, 133.76143237783452], [1, 133.76143237783452], [2, 133.76143237783452], [3, 133.76143237783452], [4, 133.76143237783452]]\n"
     ]
    }
   ],
   "source": [
    "r = sorted(dist_list, key = lambda x : x[1])\n",
    "print(r[:5])"
   ]
  },
  {
   "cell_type": "code",
   "execution_count": 11,
   "id": "3e35faa6",
   "metadata": {},
   "outputs": [
    {
     "name": "stdout",
     "output_type": "stream",
     "text": [
      "['자동차정비업체명', '자동차정비업체종류', '소재지도로명주소', '소재지지번주소', '위도', '경도', '사업등록일자', '면적', '영업상태', '폐업일자', '휴업시작일자', '휴업종료일자', '운영시작시각', '운영종료시각', '전화번호', '관리기관명', '관리기관전화번호', '데이터기준일자', '제공기관코드', '제공기관명\\n']\n",
      "['서면카센타', '3', '경상북도 울진군 금강송면 불영계곡로 1684', '', '36.93385095', '129.2462157', '2006-11-27', '650', '1', '', '', '', '09:00', '18:00', '054-781-0744', '경상북도 울진군', '054-789-6636', '2021-10-22', '1613000', '국토교통부\\n']\n",
      "['주식회사 이에스티', '1', '충청북도 진천군 이월면 이덕로 267', '', '36.9337494', '127.4605018', '2016-02-17', '8821.34', '1', '', '', '', '09:00', '18:00', '043-532-8228', '충청북도 진천군', '043-539-3073', '2021-10-22', '1613000', '국토교통부\\n']\n",
      "['태성산업', '1', '충청북도 충주시 대가주2길 5-1(가주동)', '', '36.93372085', '127.8917746', '2015-06-29', '3837.8', '1', '', '', '', '09:00', '18:00', '043-846-2615', '충청북도 충주시', '043-850-6390', '2021-10-22', '1613000', '국토교통부\\n']\n",
      "['현대부분정비', '3', '경상북도 봉화군 춘양면 의양로 95', '', '36.93324577', '128.9135575', '2000-02-07', '246', '1', '', '', '', '09:00', '18:00', '054-672-3721', '경상북도 봉화군', '054-679-6245', '2021-10-22', '1613000', '국토교통부\\n']\n"
     ]
    }
   ],
   "source": [
    "for x in r[:5]:\n",
    "    print(csv_data[x[0]])"
   ]
  }
 ],
 "metadata": {
  "kernelspec": {
   "display_name": "Python 3 (ipykernel)",
   "language": "python",
   "name": "python3"
  },
  "language_info": {
   "codemirror_mode": {
    "name": "ipython",
    "version": 3
   },
   "file_extension": ".py",
   "mimetype": "text/x-python",
   "name": "python",
   "nbconvert_exporter": "python",
   "pygments_lexer": "ipython3",
   "version": "3.10.9"
  }
 },
 "nbformat": 4,
 "nbformat_minor": 5
}
