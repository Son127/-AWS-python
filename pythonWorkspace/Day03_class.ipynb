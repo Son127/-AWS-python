{
 "cells": [
  {
   "cell_type": "code",
   "execution_count": 1,
   "id": "e2a6da62",
   "metadata": {},
   "outputs": [
    {
     "name": "stdout",
     "output_type": "stream",
     "text": [
      "const\n",
      "<class '__main__.My'>\n",
      "500 esd\n",
      "My: 100, esd\n"
     ]
    }
   ],
   "source": [
    "class My:\n",
    "#  멤버변수\n",
    "    myvar = 10\n",
    "    myvar2 = 's'\n",
    "#   기본 생성자 ( 보통 변수값을 초기화 할때 사용)\n",
    "    def __init__(self,a = 0,b ='aaa'): #self는 자기주소반환 #__ 는 내부적인것 (private \n",
    "        print('const')\n",
    "        self.myvar = a\n",
    "        self.myvar2 = b\n",
    "#   메소드\n",
    "    def mymethod1(self, n):\n",
    "        print(self.myvar * n, self.myvar2)\n",
    "#   클래스를 생성 후 프린트를 찍었을때 클래스에 어떤 값이 있는지 보여줌\n",
    "    def __str__(self):\n",
    "        return 'My: {}, {}'.format(self.myvar,self.myvar2)\n",
    "\n",
    "a = My(100,'esd') # 클래스 생성\n",
    "print(type(a))\n",
    "a.mymethod1(5) #메소드호출\n",
    "print(a)"
   ]
  },
  {
   "cell_type": "code",
   "execution_count": 7,
   "id": "98ecb44a",
   "metadata": {
    "collapsed": true
   },
   "outputs": [
    {
     "name": "stdout",
     "output_type": "stream",
     "text": [
      "const\n",
      "0 aaa\n"
     ]
    },
    {
     "ename": "TypeError",
     "evalue": "MyClass.mymrthod2() takes 1 positional argument but 2 were given",
     "output_type": "error",
     "traceback": [
      "\u001b[1;31m---------------------------------------------------------------------------\u001b[0m",
      "\u001b[1;31mTypeError\u001b[0m                                 Traceback (most recent call last)",
      "Cell \u001b[1;32mIn[7], line 10\u001b[0m\n\u001b[0;32m      8\u001b[0m b \u001b[38;5;241m=\u001b[39m MyClass()\n\u001b[0;32m      9\u001b[0m b\u001b[38;5;241m.\u001b[39mmymethod1(\u001b[38;5;241m0\u001b[39m)\n\u001b[1;32m---> 10\u001b[0m \u001b[43mb\u001b[49m\u001b[38;5;241;43m.\u001b[39;49m\u001b[43mmymrthod2\u001b[49m\u001b[43m(\u001b[49m\u001b[38;5;241;43m123\u001b[39;49m\u001b[43m)\u001b[49m\n",
      "\u001b[1;31mTypeError\u001b[0m: MyClass.mymrthod2() takes 1 positional argument but 2 were given"
     ]
    }
   ],
   "source": [
    "# 클래스 상속\n",
    "class MyClass(My):\n",
    "    def mymethod(self, n):\n",
    "        print('Myclass - mymethod',self.myvar)\n",
    "    def mymrthod2(self):\n",
    "        print('Myclass - mymethod2')\n",
    "# 상위 클래스의 메소드를 사용 가능\n",
    "b = MyClass()\n",
    "b.mymethod1(0)\n",
    "b.mymrthod2(123)"
   ]
  },
  {
   "cell_type": "code",
   "execution_count": 12,
   "id": "7c4a67f1",
   "metadata": {},
   "outputs": [
    {
     "name": "stdout",
     "output_type": "stream",
     "text": [
      "['a', 'b', 'c', 'd', 'e', 'f', 'c', 'g', 'h', 'i']\n",
      "['a', 'c', 'd', 'e', 'f', 'c', 'g', 'h', 'i']\n"
     ]
    }
   ],
   "source": [
    "list_1 = list('abcdefcghi')\n",
    "print(list_1)\n",
    "list_1.remove('b') \n",
    "print(list_1)"
   ]
  },
  {
   "cell_type": "code",
   "execution_count": 19,
   "id": "70dce3d3",
   "metadata": {},
   "outputs": [
    {
     "name": "stdout",
     "output_type": "stream",
     "text": [
      "['a', 'b', 'd', 'e', 'f', 'g', 'h', 'i', 'g']\n"
     ]
    }
   ],
   "source": [
    "# 리스트 안에 특정한 값을 지우는 메소드\n",
    "def list_remove_all(target_list,target_value):\n",
    "    while target_value in target_list:\n",
    "                target_list.remove(target_value)\n",
    "    return target_list\n",
    "\n",
    "def list_remove_all_v2(target_list,target_value):\n",
    "    while True:\n",
    "        try:\n",
    "            target_list.remove(target_value)\n",
    "        except:\n",
    "            return target_list\n",
    "        \n",
    "ret_list = list_remove_all(list('abcdefgchig'),'c')\n",
    "print(ret_list)"
   ]
  },
  {
   "cell_type": "code",
   "execution_count": 28,
   "id": "a9e386f9",
   "metadata": {},
   "outputs": [
    {
     "name": "stdout",
     "output_type": "stream",
     "text": [
      "['a', 's', 'd', 'f', 's', 's', 1, 2]\n"
     ]
    },
    {
     "data": {
      "text/plain": [
       "['a', 'd', 'f', 1, 2]"
      ]
     },
     "execution_count": 28,
     "metadata": {},
     "output_type": "execute_result"
    }
   ],
   "source": [
    "class mylist(list): # list를 상속을 받음\n",
    "    \n",
    "    def list_remove_all(self, target_value):\n",
    "        while target_value in self:\n",
    "                self.remove(target_value)\n",
    "        return self\n",
    "\n",
    "mylist_1 = mylist(list('asdfss'))\n",
    "mylist_1.append(1)\n",
    "mylist_1.append(2)\n",
    "print(mylist_1)\n",
    "mylist_1.list_remove_all('s') # print()를 생략하면 맨 마지막 구문에 있어야만 출력이 나온다."
   ]
  },
  {
   "cell_type": "code",
   "execution_count": 29,
   "id": "7cd33ff5",
   "metadata": {},
   "outputs": [
    {
     "name": "stdout",
     "output_type": "stream",
     "text": [
      "Help on class list in module builtins:\n",
      "\n",
      "class list(object)\n",
      " |  list(iterable=(), /)\n",
      " |  \n",
      " |  Built-in mutable sequence.\n",
      " |  \n",
      " |  If no argument is given, the constructor creates a new empty list.\n",
      " |  The argument must be an iterable if specified.\n",
      " |  \n",
      " |  Methods defined here:\n",
      " |  \n",
      " |  __add__(self, value, /)\n",
      " |      Return self+value.\n",
      " |  \n",
      " |  __contains__(self, key, /)\n",
      " |      Return key in self.\n",
      " |  \n",
      " |  __delitem__(self, key, /)\n",
      " |      Delete self[key].\n",
      " |  \n",
      " |  __eq__(self, value, /)\n",
      " |      Return self==value.\n",
      " |  \n",
      " |  __ge__(self, value, /)\n",
      " |      Return self>=value.\n",
      " |  \n",
      " |  __getattribute__(self, name, /)\n",
      " |      Return getattr(self, name).\n",
      " |  \n",
      " |  __getitem__(...)\n",
      " |      x.__getitem__(y) <==> x[y]\n",
      " |  \n",
      " |  __gt__(self, value, /)\n",
      " |      Return self>value.\n",
      " |  \n",
      " |  __iadd__(self, value, /)\n",
      " |      Implement self+=value.\n",
      " |  \n",
      " |  __imul__(self, value, /)\n",
      " |      Implement self*=value.\n",
      " |  \n",
      " |  __init__(self, /, *args, **kwargs)\n",
      " |      Initialize self.  See help(type(self)) for accurate signature.\n",
      " |  \n",
      " |  __iter__(self, /)\n",
      " |      Implement iter(self).\n",
      " |  \n",
      " |  __le__(self, value, /)\n",
      " |      Return self<=value.\n",
      " |  \n",
      " |  __len__(self, /)\n",
      " |      Return len(self).\n",
      " |  \n",
      " |  __lt__(self, value, /)\n",
      " |      Return self<value.\n",
      " |  \n",
      " |  __mul__(self, value, /)\n",
      " |      Return self*value.\n",
      " |  \n",
      " |  __ne__(self, value, /)\n",
      " |      Return self!=value.\n",
      " |  \n",
      " |  __repr__(self, /)\n",
      " |      Return repr(self).\n",
      " |  \n",
      " |  __reversed__(self, /)\n",
      " |      Return a reverse iterator over the list.\n",
      " |  \n",
      " |  __rmul__(self, value, /)\n",
      " |      Return value*self.\n",
      " |  \n",
      " |  __setitem__(self, key, value, /)\n",
      " |      Set self[key] to value.\n",
      " |  \n",
      " |  __sizeof__(self, /)\n",
      " |      Return the size of the list in memory, in bytes.\n",
      " |  \n",
      " |  append(self, object, /)\n",
      " |      Append object to the end of the list.\n",
      " |  \n",
      " |  clear(self, /)\n",
      " |      Remove all items from list.\n",
      " |  \n",
      " |  copy(self, /)\n",
      " |      Return a shallow copy of the list.\n",
      " |  \n",
      " |  count(self, value, /)\n",
      " |      Return number of occurrences of value.\n",
      " |  \n",
      " |  extend(self, iterable, /)\n",
      " |      Extend list by appending elements from the iterable.\n",
      " |  \n",
      " |  index(self, value, start=0, stop=9223372036854775807, /)\n",
      " |      Return first index of value.\n",
      " |      \n",
      " |      Raises ValueError if the value is not present.\n",
      " |  \n",
      " |  insert(self, index, object, /)\n",
      " |      Insert object before index.\n",
      " |  \n",
      " |  pop(self, index=-1, /)\n",
      " |      Remove and return item at index (default last).\n",
      " |      \n",
      " |      Raises IndexError if list is empty or index is out of range.\n",
      " |  \n",
      " |  remove(self, value, /)\n",
      " |      Remove first occurrence of value.\n",
      " |      \n",
      " |      Raises ValueError if the value is not present.\n",
      " |  \n",
      " |  reverse(self, /)\n",
      " |      Reverse *IN PLACE*.\n",
      " |  \n",
      " |  sort(self, /, *, key=None, reverse=False)\n",
      " |      Sort the list in ascending order and return None.\n",
      " |      \n",
      " |      The sort is in-place (i.e. the list itself is modified) and stable (i.e. the\n",
      " |      order of two equal elements is maintained).\n",
      " |      \n",
      " |      If a key function is given, apply it once to each list item and sort them,\n",
      " |      ascending or descending, according to their function values.\n",
      " |      \n",
      " |      The reverse flag can be set to sort in descending order.\n",
      " |  \n",
      " |  ----------------------------------------------------------------------\n",
      " |  Class methods defined here:\n",
      " |  \n",
      " |  __class_getitem__(...) from builtins.type\n",
      " |      See PEP 585\n",
      " |  \n",
      " |  ----------------------------------------------------------------------\n",
      " |  Static methods defined here:\n",
      " |  \n",
      " |  __new__(*args, **kwargs) from builtins.type\n",
      " |      Create and return a new object.  See help(type) for accurate signature.\n",
      " |  \n",
      " |  ----------------------------------------------------------------------\n",
      " |  Data and other attributes defined here:\n",
      " |  \n",
      " |  __hash__ = None\n",
      "\n"
     ]
    }
   ],
   "source": [
    "help(list)\n"
   ]
  }
 ],
 "metadata": {
  "kernelspec": {
   "display_name": "Python 3 (ipykernel)",
   "language": "python",
   "name": "python3"
  },
  "language_info": {
   "codemirror_mode": {
    "name": "ipython",
    "version": 3
   },
   "file_extension": ".py",
   "mimetype": "text/x-python",
   "name": "python",
   "nbconvert_exporter": "python",
   "pygments_lexer": "ipython3",
   "version": "3.10.9"
  }
 },
 "nbformat": 4,
 "nbformat_minor": 5
}
