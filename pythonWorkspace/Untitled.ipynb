{
 "cells": [
  {
   "cell_type": "code",
   "execution_count": 13,
   "id": "6afb5f95",
   "metadata": {},
   "outputs": [
    {
     "name": "stdout",
     "output_type": "stream",
     "text": [
      "{35, 36}\n",
      "35 2111\n",
      "36 8\n",
      "[['보행자전용도로명', '시도명', '시군구명', '법정동명', '지정일자', '운영방식구분', '평일운영시작시각', '평일운영종료시각', '주말운영시작시각', '주말운영종료시각', '보행자전용도로시작점위도', '보행자전용도로시작점경도', '보행자전용도로종료점위도', '보행자전용도로종료점경도', '자전거보행자겸용도로구분', '보행자전용도로폭', '보차분리여부', '지정목적', '관리점검일자', '관리점검결과', '유지보수내용', '영상정보기처리기기설치개수', '보안등설치개수', '횡단보도설치개수', '방호울타리설치개수', '차량진입억제용말뚝설치개수', '속도저감시설설치개수', '교통표지판설치개수', '이정표설치개수', '점자블럭설치개수', '관리기관명', '관리기관전화번호', '데이터기준일자', '제공기관코드', '제공기관명\\n'], ['소로3-안영13호선', '대전광역시', '중구', '안영동', '1998-09-08', '전일제', '00:00', '23:59', '00:00', '23:59', '36.2819047', '127.378031', '36.2819047', '127.378031', '전용', '4', 'Y', '보행환경개선', '2022-04-01', '합격', '', '', '', '', '', '', '', '', '', '', '대전광역시 중구청', '042-606-6828', '2022-08-01', '3650000', '대전광역시 중구\\n'], ['소로3-안영14호선', '대전광역시', '중구', '안영동', '1998-02-28', '전일제', '00:00', '23:59', '00:00', '23:59', '36.2887373', '127.380335', '36.2890476', '127.381961', '전용', '4', 'Y', '보행환경개선', '2022-04-01', '합격', '', '', '', '', '', '', '', '', '', '', '대전광역시 중구청', '042-606-6828', '2022-08-01', '3650000', '대전광역시 중구\\n']]\n"
     ]
    }
   ],
   "source": [
    "def my_split(s):\n",
    "    block_start = False\n",
    "    start_index = 0\n",
    "    ret_list=[]\n",
    "    for i, c in enumerate(s):\n",
    "        if block_start==False:\n",
    "            if c==',':\n",
    "                ret_list.append(s[start_index:i])\n",
    "                start_index=i+1\n",
    "            elif c=='\"':\n",
    "                block_start=True\n",
    "                start_index = i\n",
    "        else:\n",
    "            if c=='\"':\n",
    "                block_start=False\n",
    "    if s[-1]!=',':\n",
    "        ret_list.append(s[start_index:])\n",
    "    return ret_list\n",
    "def split_len(list_a):\n",
    "    len_list=[]\n",
    "    for e in list_a:\n",
    "        len_list.append(len(e))\n",
    "    print(set(len_list))\n",
    "    if len(set(len_list)) > 1:\n",
    "        for i in set(len_list):\n",
    "            print(i, len_list.count(i))\n",
    "split_len(list_a)\n",
    "\n",
    "def mean(number_list):\n",
    "    return sum(number_list // list_a)\n",
    "\n",
    "list_a = []\n",
    "with open ('전국보행자전용도로표준데이터.csv') as f:\n",
    "    for i in f:\n",
    "        list_a.append(i.split(','))\n",
    "    print(list_a[:3])\n",
    "    "
   ]
  },
  {
   "cell_type": "code",
   "execution_count": 10,
   "id": "4d931897",
   "metadata": {},
   "outputs": [
    {
     "name": "stdout",
     "output_type": "stream",
     "text": [
      "15\n"
     ]
    },
    {
     "ename": "ValueError",
     "evalue": "could not convert string to float: ''",
     "output_type": "error",
     "traceback": [
      "\u001b[1;31m---------------------------------------------------------------------------\u001b[0m",
      "\u001b[1;31mValueError\u001b[0m                                Traceback (most recent call last)",
      "Cell \u001b[1;32mIn[10], line 6\u001b[0m\n\u001b[0;32m      4\u001b[0m width_list \u001b[38;5;241m=\u001b[39m []\n\u001b[0;32m      5\u001b[0m \u001b[38;5;28;01mfor\u001b[39;00m e \u001b[38;5;129;01min\u001b[39;00m list_a[\u001b[38;5;241m1\u001b[39m:]:\n\u001b[1;32m----> 6\u001b[0m     width_list\u001b[38;5;241m.\u001b[39mappend(\u001b[38;5;28;43mfloat\u001b[39;49m\u001b[43m(\u001b[49m\u001b[43me\u001b[49m\u001b[43m[\u001b[49m\u001b[43mi\u001b[49m\u001b[43m]\u001b[49m\u001b[43m)\u001b[49m)\n\u001b[0;32m      7\u001b[0m \u001b[38;5;28mprint\u001b[39m(width_list[:\u001b[38;5;241m3\u001b[39m])\n",
      "\u001b[1;31mValueError\u001b[0m: could not convert string to float: ''"
     ]
    }
   ],
   "source": [
    "i = list_a[0].index('보행자전용도로폭')\n",
    "print(i)\n",
    "\n",
    "width_list = []\n",
    "for e in list_a[1:]:\n",
    "    width_list.append(float(e[i]))\n",
    "print(width_list[:3])"
   ]
  },
  {
   "cell_type": "code",
   "execution_count": 12,
   "id": "1cfac9e8",
   "metadata": {},
   "outputs": [
    {
     "name": "stdout",
     "output_type": "stream",
     "text": [
      "[['시도명'], ['대전광역시'], ['대전광역시'], ['대전광역시'], ['대전광역시'], ['대전광역시'], ['대전광역시'], ['대전광역시'], ['대전광역시'], ['대전광역시'], ['대전광역시'], ['대전광역시'], ['대구광역시'], ['대구광역시'], ['대구광역시']]\n"
     ]
    }
   ],
   "source": []
  }
 ],
 "metadata": {
  "kernelspec": {
   "display_name": "Python 3 (ipykernel)",
   "language": "python",
   "name": "python3"
  },
  "language_info": {
   "codemirror_mode": {
    "name": "ipython",
    "version": 3
   },
   "file_extension": ".py",
   "mimetype": "text/x-python",
   "name": "python",
   "nbconvert_exporter": "python",
   "pygments_lexer": "ipython3",
   "version": "3.10.9"
  }
 },
 "nbformat": 4,
 "nbformat_minor": 5
}
