{
 "cells": [
  {
   "cell_type": "code",
   "execution_count": 4,
   "id": "ee612d5b",
   "metadata": {},
   "outputs": [
    {
     "data": {
      "text/html": [
       "<div>\n",
       "<style scoped>\n",
       "    .dataframe tbody tr th:only-of-type {\n",
       "        vertical-align: middle;\n",
       "    }\n",
       "\n",
       "    .dataframe tbody tr th {\n",
       "        vertical-align: top;\n",
       "    }\n",
       "\n",
       "    .dataframe thead th {\n",
       "        text-align: right;\n",
       "    }\n",
       "</style>\n",
       "<table border=\"1\" class=\"dataframe\">\n",
       "  <thead>\n",
       "    <tr style=\"text-align: right;\">\n",
       "      <th></th>\n",
       "      <th>시도명</th>\n",
       "      <th>지정사유</th>\n",
       "      <th>지정연도</th>\n",
       "      <th>도로폭</th>\n",
       "      <th>도로차로수</th>\n",
       "      <th>보차분리여부</th>\n",
       "    </tr>\n",
       "  </thead>\n",
       "  <tbody>\n",
       "    <tr>\n",
       "      <th>0</th>\n",
       "      <td>경기도</td>\n",
       "      <td>NaN</td>\n",
       "      <td>NaN</td>\n",
       "      <td>5.0</td>\n",
       "      <td>1.0</td>\n",
       "      <td>Y</td>\n",
       "    </tr>\n",
       "    <tr>\n",
       "      <th>1</th>\n",
       "      <td>경기도</td>\n",
       "      <td>NaN</td>\n",
       "      <td>NaN</td>\n",
       "      <td>5.0</td>\n",
       "      <td>1.0</td>\n",
       "      <td>Y</td>\n",
       "    </tr>\n",
       "    <tr>\n",
       "      <th>2</th>\n",
       "      <td>경기도</td>\n",
       "      <td>NaN</td>\n",
       "      <td>NaN</td>\n",
       "      <td>9.0</td>\n",
       "      <td>1.0</td>\n",
       "      <td>Y</td>\n",
       "    </tr>\n",
       "    <tr>\n",
       "      <th>3</th>\n",
       "      <td>경기도</td>\n",
       "      <td>NaN</td>\n",
       "      <td>NaN</td>\n",
       "      <td>4.0</td>\n",
       "      <td>1.0</td>\n",
       "      <td>Y</td>\n",
       "    </tr>\n",
       "    <tr>\n",
       "      <th>4</th>\n",
       "      <td>경기도</td>\n",
       "      <td>NaN</td>\n",
       "      <td>NaN</td>\n",
       "      <td>4.0</td>\n",
       "      <td>1.0</td>\n",
       "      <td>Y</td>\n",
       "    </tr>\n",
       "    <tr>\n",
       "      <th>...</th>\n",
       "      <td>...</td>\n",
       "      <td>...</td>\n",
       "      <td>...</td>\n",
       "      <td>...</td>\n",
       "      <td>...</td>\n",
       "      <td>...</td>\n",
       "    </tr>\n",
       "    <tr>\n",
       "      <th>2154</th>\n",
       "      <td>경기도</td>\n",
       "      <td>통행원활</td>\n",
       "      <td>NaN</td>\n",
       "      <td>6.0</td>\n",
       "      <td>1.0</td>\n",
       "      <td>N</td>\n",
       "    </tr>\n",
       "    <tr>\n",
       "      <th>2155</th>\n",
       "      <td>경기도</td>\n",
       "      <td>통행원활</td>\n",
       "      <td>NaN</td>\n",
       "      <td>6.0</td>\n",
       "      <td>1.0</td>\n",
       "      <td>N</td>\n",
       "    </tr>\n",
       "    <tr>\n",
       "      <th>2156</th>\n",
       "      <td>경기도</td>\n",
       "      <td>통행원활</td>\n",
       "      <td>NaN</td>\n",
       "      <td>6.0</td>\n",
       "      <td>1.0</td>\n",
       "      <td>N</td>\n",
       "    </tr>\n",
       "    <tr>\n",
       "      <th>2157</th>\n",
       "      <td>경기도</td>\n",
       "      <td>통행원활</td>\n",
       "      <td>NaN</td>\n",
       "      <td>6.0</td>\n",
       "      <td>1.0</td>\n",
       "      <td>N</td>\n",
       "    </tr>\n",
       "    <tr>\n",
       "      <th>2158</th>\n",
       "      <td>서울특별시</td>\n",
       "      <td>NaN</td>\n",
       "      <td>NaN</td>\n",
       "      <td>9.5</td>\n",
       "      <td>1.0</td>\n",
       "      <td>N</td>\n",
       "    </tr>\n",
       "  </tbody>\n",
       "</table>\n",
       "<p>2159 rows × 6 columns</p>\n",
       "</div>"
      ],
      "text/plain": [
       "        시도명  지정사유  지정연도  도로폭  도로차로수 보차분리여부\n",
       "0       경기도   NaN   NaN  5.0    1.0      Y\n",
       "1       경기도   NaN   NaN  5.0    1.0      Y\n",
       "2       경기도   NaN   NaN  9.0    1.0      Y\n",
       "3       경기도   NaN   NaN  4.0    1.0      Y\n",
       "4       경기도   NaN   NaN  4.0    1.0      Y\n",
       "...     ...   ...   ...  ...    ...    ...\n",
       "2154    경기도  통행원활   NaN  6.0    1.0      N\n",
       "2155    경기도  통행원활   NaN  6.0    1.0      N\n",
       "2156    경기도  통행원활   NaN  6.0    1.0      N\n",
       "2157    경기도  통행원활   NaN  6.0    1.0      N\n",
       "2158  서울특별시   NaN   NaN  9.5    1.0      N\n",
       "\n",
       "[2159 rows x 6 columns]"
      ]
     },
     "execution_count": 4,
     "metadata": {},
     "output_type": "execute_result"
    }
   ],
   "source": [
    "import numpy as np\n",
    "import pandas as pd\n",
    "import matplotlib.pyplot as plt\n",
    "\n",
    "pd_raw = pd.read_csv(\"전국일방통행도로표준데이터.csv\", encoding = 'cp949')\n",
    "column_select = ['시도명', '지정사유', '지정연도', '도로폭', '도로차로수', '보차분리여부']\n",
    "pd_data = pd_raw[column_select]\n",
    "pd_data"
   ]
  },
  {
   "cell_type": "code",
   "execution_count": 5,
   "id": "a491c7ed",
   "metadata": {},
   "outputs": [],
   "source": [
    "#csv\n",
    "pd_data.to_csv('전국일방통행도로표준데이터_pass1.csv')\n",
    "\n",
    "\n",
    "#pickle\n",
    "# with open('전국일방통행도로표준데이터_pass1.pickle','wb') as f:\n",
    "#     pickle.dump(pd_data,f)"
   ]
  },
  {
   "cell_type": "code",
   "execution_count": 6,
   "id": "c7c5fbb5",
   "metadata": {},
   "outputs": [
    {
     "name": "stdout",
     "output_type": "stream",
     "text": [
      "(2159, 6)\n",
      "시도명        object\n",
      "지정사유       object\n",
      "지정연도      float64\n",
      "도로폭       float64\n",
      "도로차로수     float64\n",
      "보차분리여부     object\n",
      "dtype: object\n",
      "****************************\n",
      "시도명 \t False\n",
      "지정사유 \t True\n",
      "지정연도 \t True\n",
      "도로폭 \t False\n",
      "도로차로수 \t True\n",
      "보차분리여부 \t False\n"
     ]
    }
   ],
   "source": [
    "# pd_data.describe(include = 'all')\n",
    "print(pd_data.shape)\n",
    "print(pd_data.dtypes)\n",
    "print('****************************')\n",
    "for e in pd_data:\n",
    "    print(e,'\\t', pd_data[e].hasnans)"
   ]
  },
  {
   "cell_type": "code",
   "execution_count": 11,
   "id": "b8cae7f6",
   "metadata": {},
   "outputs": [
    {
     "name": "stdout",
     "output_type": "stream",
     "text": [
      "['경기도' '경상북도' '제주특별자치도' '인천광역시' '강원도' '경상남도' '서울특별시' '충청남도' '전라남도' '전라북도'\n",
      " '광주광역시' '충청북도']\n",
      "False\n",
      "['경기도' '경상북도' '제주특별자치도' '인천광역시' '강원도' '경상남도' '서울특별시' '충청남도' '전라남도' '전라북도'\n",
      " '광주광역시' '충청북도']\n",
      "False\n"
     ]
    }
   ],
   "source": [
    "#시도명\n",
    "print(pd_data['시도명'].unique())\n",
    "print(pd_data['시도명'].hasnans)\n",
    "#결측지 없음 \n",
    "\n",
    "#오류치:10 -> 강원도\n",
    "# print(pd_raw[pd_raw['시도명']=='10'])\n",
    "filter1 = pd_raw['시도명']=='10'\n",
    "# pd_data[filter1]['시도명'] = '강원도' #warning\n",
    "pd_data.loc[filter1,'시도명'] = '강원도'\n",
    "\n",
    "#이상치 없음\n",
    "print(pd_data['시도명'].unique())\n",
    "print(pd_data['시도명'].hasnans)"
   ]
  },
  {
   "cell_type": "code",
   "execution_count": 22,
   "id": "1e1475e9",
   "metadata": {},
   "outputs": [
    {
     "name": "stdout",
     "output_type": "stream",
     "text": [
      "['불분명' '통행원활' '교통불편 해소' '원활한 차량통행을 위하여 지정' '보행안전' '통행안전' '원활한교통통행'\n",
      " '차량소통 촉진 및 보행자 안전' '보행자안전확보' '주민건의' '교행불가' '교통소통' '원활한 교통흐름 및 보행 안전'\n",
      " '주차혼잡구간' '본도로 진입불가' '시장혼잡구간' '주택밀집지역' '고가도로' '교통사고 다발' '원통전통시장주차장 출입구'\n",
      " '교통안전' '교통흐름을 원활히 하기 위함' '부채도로' '주민편의' '순환차로' '교통혼잡 및 소통 원활 필요' '도로협소'\n",
      " '혼잡지역' '혼자지역' '혼잡구역' '혼잡비역' '차량교행']\n",
      "False\n",
      "False    2159\n",
      "Name: 지정사유, dtype: int64\n"
     ]
    },
    {
     "name": "stderr",
     "output_type": "stream",
     "text": [
      "C:\\Users\\ITPS\\AppData\\Local\\Temp\\ipykernel_8288\\3402835817.py:20: SettingWithCopyWarning: \n",
      "A value is trying to be set on a copy of a slice from a DataFrame.\n",
      "Try using .loc[row_indexer,col_indexer] = value instead\n",
      "\n",
      "See the caveats in the documentation: https://pandas.pydata.org/pandas-docs/stable/user_guide/indexing.html#returning-a-view-versus-a-copy\n",
      "  pd_data.loc[:,'지정사유'] = pd_data.loc[:, '지정사유'].apply(e1)\n"
     ]
    }
   ],
   "source": [
    "#지정사유\n",
    "print(pd_data['지정사유'].unique())\n",
    "print(pd_data['지정사유'].hasnans)\n",
    "\n",
    "#걸측지\n",
    "na_filter = pd_data['지정사유'].isna()\n",
    "print(na_filter.value_counts())\n",
    "pd_data.loc[na_filter,'지정사유'] = '불분명' #pd_data [지정사유].fillna(불분명)\n",
    "\n",
    "#오류치 : 같은내용 다른이름 정리\n",
    "def e1(x):\n",
    "    if '원할' in x:\n",
    "        return '원할'\n",
    "    elif '불편' in x:\n",
    "        return '불편'\n",
    "    elif '안전' in x:\n",
    "        return '안전'\n",
    "    elif '혼잡' in x:\n",
    "        return '혼잡'\n",
    "pd_data.loc[:,'지정사유'] = pd_data.loc[:, '지정사유'].apply(e1)\n",
    "\n",
    "#이상치 없음"
   ]
  },
  {
   "cell_type": "code",
   "execution_count": 29,
   "id": "3d0633a2",
   "metadata": {
    "scrolled": true
   },
   "outputs": [
    {
     "name": "stdout",
     "output_type": "stream",
     "text": [
      "[  nan 2017. 2018. 2014. 2005. 2019. 2022. 2016. 2012. 1999. 2021. 2015.\n",
      " 2013. 2004. 2002. 2008. 2009. 2010. 2011. 1998. 2001. 2003. 2006. 2000.\n",
      " 1995. 2020. 2007. 1990. 1997. 1996.]\n",
      "True\n",
      "True     1609\n",
      "False     550\n",
      "Name: 지정연도, dtype: int64\n"
     ]
    }
   ],
   "source": [
    "print(pd_data['지정연도'].unique())\n",
    "print(pd_data['지정연도'].hasnans)\n",
    "\n",
    "#결측지\n",
    "na_filter = pd_data['지정연도'].isna()\n",
    "print(na_filter.value_counts())\n",
    "pd_data.loc[na_filter, '지정연도']= 0"
   ]
  },
  {
   "cell_type": "code",
   "execution_count": 49,
   "id": "2bbdefad",
   "metadata": {},
   "outputs": [
    {
     "name": "stdout",
     "output_type": "stream",
     "text": [
      "[ 5.   9.   4.   6.   7.5  8.   7.  12.  15.  16.   3.5  5.5  3.  10.\n",
      " 14.   4.5  6.5 15.5  2.5  7.1  9.8  9.7  6.3  3.7  8.5  8.2 14.6  2.\n",
      "  4.9  4.6  2.8  4.8  5.6  8.1  6.4  4.1  6.6  5.7  4.7  4.3  3.8  9.1\n",
      "  7.4  5.3  5.8  4.2 17.  13.5 24.  11.   9.5 22.  19.   3.2  4.4  5.1\n",
      "  5.9  3.9 32.   5.4  3.4 18.   7.3  3.3 13.   7.6  8.4  5.2  7.8  6.2\n",
      "  6.7  8.8  7.7  8.3  6.1  6.9  6.8]\n",
      "False\n"
     ]
    },
    {
     "ename": "ValueError",
     "evalue": "too many values to unpack (expected 2)",
     "output_type": "error",
     "traceback": [
      "\u001b[1;31m---------------------------------------------------------------------------\u001b[0m",
      "\u001b[1;31mValueError\u001b[0m                                Traceback (most recent call last)",
      "Cell \u001b[1;32mIn[49], line 11\u001b[0m\n\u001b[0;32m      3\u001b[0m \u001b[38;5;28mprint\u001b[39m(pd_data[\u001b[38;5;124m'\u001b[39m\u001b[38;5;124m도로폭\u001b[39m\u001b[38;5;124m'\u001b[39m]\u001b[38;5;241m.\u001b[39mhasnans)\n\u001b[0;32m      5\u001b[0m \u001b[38;5;66;03m#걸측지 없음\u001b[39;00m\n\u001b[0;32m      6\u001b[0m \n\u001b[0;32m      7\u001b[0m \u001b[38;5;66;03m#오류치 없음\u001b[39;00m\n\u001b[0;32m      8\u001b[0m \n\u001b[0;32m      9\u001b[0m \u001b[38;5;66;03m#이상치 : 어퍼보다 큰 값을 난으로 교채, 후에  rdrdopena()\u001b[39;00m\n\u001b[0;32m     10\u001b[0m \u001b[38;5;66;03m# print(pd_data['도로폭'].describe())\u001b[39;00m\n\u001b[1;32m---> 11\u001b[0m p1,p3 \u001b[38;5;241m=\u001b[39m pd_data[\u001b[38;5;124m'\u001b[39m\u001b[38;5;124m도로폭\u001b[39m\u001b[38;5;124m'\u001b[39m]\n\u001b[0;32m     12\u001b[0m iqr \u001b[38;5;241m=\u001b[39m q3 \u001b[38;5;241m-\u001b[39m q1\n\u001b[0;32m     13\u001b[0m upper \u001b[38;5;241m=\u001b[39m q3 \u001b[38;5;241m+\u001b[39m \u001b[38;5;241m1.5\u001b[39m\u001b[38;5;241m*\u001b[39mjar\n",
      "\u001b[1;31mValueError\u001b[0m: too many values to unpack (expected 2)"
     ]
    }
   ],
   "source": [
    "#도로폭\n",
    "print(pd_data['도로폭'].unique())\n",
    "print(pd_data['도로폭'].hasnans)\n",
    "\n",
    "#걸측지 없음\n",
    "\n",
    "#오류치 없음\n",
    "\n",
    "#이상치 : 어퍼보다 큰 값을 난으로 교채, 후에  rdrdopena()\n",
    "# print(pd_data['도로폭'].describe())\n",
    "p1,p3 = pd_data['도로폭']\n",
    "iqr = q3 - q1\n",
    "upper = q3 + 1.5*jar\n",
    "lower = q1 - 1.5*jar\n",
    "print(upper,lower)\n",
    "filter1 = pd_data['도로폭'] > upper\n",
    "print(filter1.avlue_counts())"
   ]
  },
  {
   "cell_type": "code",
   "execution_count": 50,
   "id": "7a4930a0",
   "metadata": {},
   "outputs": [
    {
     "name": "stdout",
     "output_type": "stream",
     "text": [
      "[ 1.  2.  4.  3.  5. nan]\n",
      "True\n",
      "False    2157\n",
      "True        2\n",
      "Name: 도로차로수, dtype: int64\n",
      "False    2159\n",
      "Name: 도로차로수, dtype: int64\n",
      "[ 1.  2.  4.  3.  5. nan]\n",
      "<bound method Series.dropna of 0       1.0\n",
      "1       1.0\n",
      "2       1.0\n",
      "3       1.0\n",
      "4       1.0\n",
      "       ... \n",
      "2154    1.0\n",
      "2155    1.0\n",
      "2156    1.0\n",
      "2157    1.0\n",
      "2158    1.0\n",
      "Name: 도로차로수, Length: 2159, dtype: float64>\n"
     ]
    }
   ],
   "source": [
    "#도로차로수\n",
    "print(pd_data['도로차로수'].unique())\n",
    "print(pd_data['도로차로수'].hasnans)\n",
    "\n",
    "#결측지:\n",
    "na_filter = pd_data['도로차로수'].isna()\n",
    "print(na_filter.value_counts())\n",
    "\n",
    "#오류치: 60 --> np.NaN 대체 후 dropna 이용제거\n",
    "filter1 = pd_data['도로차로수'] == 60\n",
    "print(filter1.value_counts())\n",
    "pd_data.loc[filter1,'도로차로수'] = np.NaN\n",
    "print(pd_data['도로차로수'].unique())\n",
    "print(pd_data['도로차로수'].dropna)\n"
   ]
  },
  {
   "cell_type": "code",
   "execution_count": 45,
   "id": "db2de3d0",
   "metadata": {},
   "outputs": [
    {
     "name": "stdout",
     "output_type": "stream",
     "text": [
      "['Y' 'N' nan]\n",
      "True\n",
      "False    2159\n",
      "Name: 보차분리여부, dtype: int64\n",
      "['Y' 'N' nan]\n",
      "True\n"
     ]
    }
   ],
   "source": [
    "#보차분리여부\n",
    "print(pd_data['보차분리여부'].unique())\n",
    "print(pd_data['보차분리여부'].hasnans)\n",
    "#결측지: 1ro ' ' 결측지 --> np.NaN로 대체 후에 삭제\n",
    "na_filter = pd_data['보차분리여부'] == ' '\n",
    "print(na_filter.value_counts())\n",
    "pd_data.loc[na_filter, '보차분리여부'] = np.NaN\n",
    "#오류치,이상치 = 없음``\n",
    "print(pd_data['보차분리여부'].unique())\n",
    "print(pd_data['보차분리여부'].hasnans)"
   ]
  },
  {
   "cell_type": "code",
   "execution_count": 47,
   "id": "d5842483",
   "metadata": {},
   "outputs": [
    {
     "name": "stdout",
     "output_type": "stream",
     "text": [
      "(2159, 6)\n",
      "(355, 6)\n"
     ]
    }
   ],
   "source": [
    "pd_data_f = pd_data.dropna()\n",
    "print(pd_data.shape)\n",
    "print(pd_data_f.shape)\n"
   ]
  },
  {
   "cell_type": "code",
   "execution_count": 51,
   "id": "7c6da851",
   "metadata": {},
   "outputs": [
    {
     "name": "stdout",
     "output_type": "stream",
     "text": [
      "   a    b\n",
      "0  1  100\n",
      "1  1  100\n",
      "2  2    5\n",
      "3  2    6\n",
      "*******************\n",
      "   a    b\n",
      "0  1  100\n",
      "1  1  100\n",
      "*******************\n",
      "0    100\n",
      "1    100\n",
      "Name: b, dtype: int64\n",
      "   a    b\n",
      "0  1  NaN\n",
      "1  1  NaN\n",
      "2  2  5.0\n",
      "3  2  6.0\n"
     ]
    }
   ],
   "source": [
    "#조건  2개 : column a의 값이 1, column b의 값이  6\n",
    "#교체대상 : column b의 값\n",
    "\n",
    "_t = pd.DataFrame({'a': [1,1,2,2,], 'b': [5,6,5,6]})\n",
    "print(df_t)\n",
    "print('*******************')\n",
    "\n",
    "f1 = df_t['a'] == 1\n",
    "print(df_t.loc[f1,:])\n",
    "\n",
    "print('*******************')\n",
    "print(df_t.loc[f1,'b'])\n",
    "df_t.loc[f1,'b']  = df_t.loc[f1,'b'].replace(6,100, inplace = True)\n",
    "print(df_t)"
   ]
  }
 ],
 "metadata": {
  "kernelspec": {
   "display_name": "Python 3 (ipykernel)",
   "language": "python",
   "name": "python3"
  },
  "language_info": {
   "codemirror_mode": {
    "name": "ipython",
    "version": 3
   },
   "file_extension": ".py",
   "mimetype": "text/x-python",
   "name": "python",
   "nbconvert_exporter": "python",
   "pygments_lexer": "ipython3",
   "version": "3.10.9"
  }
 },
 "nbformat": 4,
 "nbformat_minor": 5
}
