{
 "cells": [
  {
   "cell_type": "code",
   "execution_count": 5,
   "id": "4be11b6f",
   "metadata": {},
   "outputs": [
    {
     "name": "stdout",
     "output_type": "stream",
     "text": [
      "         시점      공항     항구\n",
      "0   2015.01  103088  50545\n",
      "1   2015.02   86907  44152\n",
      "2   2015.03   86170  36822\n",
      "3   2015.04   85345  46589\n",
      "4   2015.05   88510  54680\n",
      "5   2015.06   73846  36952\n",
      "6   2015.07   90832  45586\n",
      "7   2015.08   98274  58726\n",
      "8   2015.09   84994  40296\n",
      "9   2015.10   94559  51427\n",
      "10  2015.11   90884  48958\n",
      "11  2015.12   95942  46732\n",
      "시점    float64\n",
      "공항      int64\n",
      "항구      int64\n",
      "dtype: object\n"
     ]
    }
   ],
   "source": [
    "import numpy as np\n",
    "import pandas as pd\n",
    "import matplotlib.pyplot as plt\n",
    "from sklearn import datasets\n",
    "\n",
    "pd_data = pd.read_csv('내국인출국교통수단별_20230302171241.csv', encoding = 'cp949', header = 1)\n",
    "pd_data.columns = ['시점','공항','항구']\n",
    "print(pd_data.head(12))\n",
    "print(pd_data.dtypes)\n",
    "\n",
    "\n",
    "#공항, 항구 년중 월별 출국 인원 plot\n",
    "#normalization  / standardization 적용, plot\n",
    "#2015~22년까지\n",
    "#2022년 연말 공항 이용객 증가하였음.\n",
    "#2022년 연말에 출국인원이 늘어난 것이 항구 출국인원에도 반영되었는가.\n",
    "#연말에 출국인원이 증가하는 것이 일반적인 추이인가.-> 코로나 이전/이후 연도별 추이\n",
    "# .sort_values()\n",
    "# .sort_index()"
   ]
  },
  {
   "cell_type": "code",
   "execution_count": 8,
   "id": "6e71b9bd",
   "metadata": {},
   "outputs": [
    {
     "name": "stdout",
     "output_type": "stream",
     "text": [
      "         시점     공항    항구\n",
      "84  2022.01   1191  3279\n",
      "85  2022.02   1349  3179\n",
      "86  2022.03    905  3418\n",
      "87  2022.04   1018  3158\n",
      "88  2022.05    924  3231\n",
      "89  2022.06   1171  3105\n",
      "90  2022.07   4183  3326\n",
      "91  2022.08   9141  3533\n",
      "92  2022.09   8724  2682\n",
      "93  2022.10  15826  3494\n",
      "94  2022.11  35388  3687\n",
      "95  2022.12  39415  5760\n",
      "                시점            공항           항구\n",
      "count    12.000000     12.000000    12.000000\n",
      "mean   2022.065000   9936.250000  3487.666667\n",
      "std       0.036056  13671.631113   759.498918\n",
      "min    2022.010000    905.000000  2682.000000\n",
      "25%    2022.037500   1132.750000  3173.750000\n",
      "50%    2022.065000   2766.000000  3302.500000\n",
      "75%    2022.092500  10812.250000  3503.750000\n",
      "max    2022.120000  39415.000000  5760.000000\n"
     ]
    },
    {
     "name": "stderr",
     "output_type": "stream",
     "text": [
      "C:\\Users\\ITPS\\AppData\\Local\\Temp\\ipykernel_6916\\703559356.py:16: SettingWithCopyWarning: \n",
      "A value is trying to be set on a copy of a slice from a DataFrame.\n",
      "Try using .loc[row_indexer,col_indexer] = value instead\n",
      "\n",
      "See the caveats in the documentation: https://pandas.pydata.org/pandas-docs/stable/user_guide/indexing.html#returning-a-view-versus-a-copy\n",
      "  sub_data2022['공항_norm'] = sub_data2022['공항'].apply(lambda x: (x-value_min)/(value_max-value_min))\n",
      "C:\\Users\\ITPS\\AppData\\Local\\Temp\\ipykernel_6916\\703559356.py:17: SettingWithCopyWarning: \n",
      "A value is trying to be set on a copy of a slice from a DataFrame.\n",
      "Try using .loc[row_indexer,col_indexer] = value instead\n",
      "\n",
      "See the caveats in the documentation: https://pandas.pydata.org/pandas-docs/stable/user_guide/indexing.html#returning-a-view-versus-a-copy\n",
      "  sub_data2022['공항_std'] = sub_data2022['공항'].apply(lambda x: (x-value_min)/(value_max-value_min))\n",
      "C:\\Users\\ITPS\\AppData\\Local\\Temp\\ipykernel_6916\\703559356.py:24: SettingWithCopyWarning: \n",
      "A value is trying to be set on a copy of a slice from a DataFrame.\n",
      "Try using .loc[row_indexer,col_indexer] = value instead\n",
      "\n",
      "See the caveats in the documentation: https://pandas.pydata.org/pandas-docs/stable/user_guide/indexing.html#returning-a-view-versus-a-copy\n",
      "  sub_data2022['항구_norm'] = sub_data2022['항구'].apply(lambda x: (x-value_min)/(value_max-value_min))\n",
      "C:\\Users\\ITPS\\AppData\\Local\\Temp\\ipykernel_6916\\703559356.py:25: SettingWithCopyWarning: \n",
      "A value is trying to be set on a copy of a slice from a DataFrame.\n",
      "Try using .loc[row_indexer,col_indexer] = value instead\n",
      "\n",
      "See the caveats in the documentation: https://pandas.pydata.org/pandas-docs/stable/user_guide/indexing.html#returning-a-view-versus-a-copy\n",
      "  sub_data2022['항구_std'] = sub_data2022['항구'].apply(lambda x: (x-value_min)/(value_max-value_min))\n"
     ]
    },
    {
     "ename": "TypeError",
     "evalue": "'AxesSubplot' object is not subscriptable",
     "output_type": "error",
     "traceback": [
      "\u001b[1;31m---------------------------------------------------------------------------\u001b[0m",
      "\u001b[1;31mTypeError\u001b[0m                                 Traceback (most recent call last)",
      "Cell \u001b[1;32mIn[8], line 32\u001b[0m\n\u001b[0;32m     28\u001b[0m fig\u001b[38;5;241m.\u001b[39mset_figwidth(\u001b[38;5;241m6.5\u001b[39m\u001b[38;5;241m*\u001b[39m\u001b[38;5;241m3\u001b[39m)\n\u001b[0;32m     31\u001b[0m _,axe \u001b[38;5;241m=\u001b[39m plt\u001b[38;5;241m.\u001b[39msubplots()\n\u001b[1;32m---> 32\u001b[0m \u001b[43maxe\u001b[49m\u001b[43m[\u001b[49m\u001b[38;5;241;43m0\u001b[39;49m\u001b[43m]\u001b[49m\u001b[38;5;241m.\u001b[39mplot(np\u001b[38;5;241m.\u001b[39marange(\u001b[38;5;241m1\u001b[39m, \u001b[38;5;241m13\u001b[39m), sub_data2022[\u001b[38;5;124m'\u001b[39m\u001b[38;5;124m공항\u001b[39m\u001b[38;5;124m'\u001b[39m])\n\u001b[0;32m     33\u001b[0m axe[\u001b[38;5;241m0\u001b[39m]\u001b[38;5;241m.\u001b[39mplot(np\u001b[38;5;241m.\u001b[39marange(\u001b[38;5;241m1\u001b[39m, \u001b[38;5;241m13\u001b[39m), sub_data2022[\u001b[38;5;124m'\u001b[39m\u001b[38;5;124m항구\u001b[39m\u001b[38;5;124m'\u001b[39m])\n\u001b[0;32m     34\u001b[0m \u001b[38;5;66;03m# axe[0].set_title('{}_raw'.format(2015+i))\u001b[39;00m\n",
      "\u001b[1;31mTypeError\u001b[0m: 'AxesSubplot' object is not subscriptable"
     ]
    },
    {
     "data": {
      "image/png": "[encoded data removed]",
      "text/plain": [
       "<Figure size 1950x480 with 3 Axes>"
      ]
     },
     "metadata": {},
     "output_type": "display_data"
    },
    {
     "data": {
      "image/png": "[encoded data removed]",
      "text/plain": [
       "<Figure size 640x480 with 1 Axes>"
      ]
     },
     "metadata": {},
     "output_type": "display_data"
    }
   ],
   "source": [
    "sub_data2022 = pd_data.tail(12)\n",
    "print(sub_data2022)\n",
    "print(sub_data2022.describe())\n",
    "#     for n in ['공항','항구']:\n",
    "#         value_min = sub_data2022[n].min()\n",
    "#         value_max = sub_data2022[n].max()\n",
    "#         value_std = sub_data2022[n].std()\n",
    "#         value_mean = sub_data2022[n].mean()\n",
    "#         sub_data2022[n +'_norm'] = sub_data2022['공항'].apply(lambda x: (x-value_min)/(value_max-value_min))\n",
    "#         sub_data2022[n +'_std'] = sub_data2022['공항'].apply(lambda x: (x-value_min)/(value_max-value_min))    \n",
    "\n",
    "value_min = sub_data2022['공항'].min()\n",
    "value_max = sub_data2022['공항'].max()\n",
    "value_std = sub_data2022['공항'].std()\n",
    "value_mean = sub_data2022['공항'].mean()\n",
    "sub_data2022['공항_norm'] = sub_data2022['공항'].apply(lambda x: (x-value_min)/(value_max-value_min))\n",
    "sub_data2022['공항_std'] = sub_data2022['공항'].apply(lambda x: (x-value_min)/(value_max-value_min))\n",
    "\n",
    "\n",
    "value_min = sub_data2022['항구'].min()\n",
    "value_max = sub_data2022['항구'].max()\n",
    "value_std = sub_data2022['항구'].std()\n",
    "value_mean = sub_data2022['항구'].mean()\n",
    "sub_data2022['항구_norm'] = sub_data2022['항구'].apply(lambda x: (x-value_min)/(value_max-value_min))\n",
    "sub_data2022['항구_std'] = sub_data2022['항구'].apply(lambda x: (x-value_min)/(value_max-value_min))\n",
    "\n",
    "fig, axe = plt.subplots(1,3)\n",
    "fig.set_figwidth(6.5*3)\n",
    "\n",
    "\n",
    "_,axe = plt.subplots()\n",
    "axe[0].plot(np.arange(1, 13), sub_data2022['공항'])\n",
    "axe[0].plot(np.arange(1, 13), sub_data2022['항구'])\n",
    "# axe[0].set_title('{}_raw'.format(2015+i))\n",
    "\n",
    "axe[1].plot(np.arange(1, 13), sub_data2022['공항_norm'])\n",
    "axe[1].plot(np.arange(1, 13), sub_data2022['항구_norm'])\n",
    "# axe[1].set_title('{}_raw'.format(2015+i))\n",
    "\n",
    "axe[2].plot(np.arange(1, 13), sub_data2022['공항_std'])\n",
    "axe[2].plot(np.arange(1, 13), sub_data2022['항구_std'])\n",
    "# axe[2].set_title('{}_raw'.format(2015+i))"
   ]
  },
  {
   "cell_type": "code",
   "execution_count": null,
   "id": "025814d0",
   "metadata": {},
   "outputs": [],
   "source": [
    "pd_data.dtypes\n",
    "yr = \n",
    "mo =\n",
    "\n",
    "str_time = pd_data['시점'].astype('str')\n",
    "yr = str_time.apply(lambda x: x.split('.')[0])\n",
    "yr = str_time.apply(lambda x: x.split('.')[1])"
   ]
  }
 ],
 "metadata": {
  "kernelspec": {
   "display_name": "Python 3 (ipykernel)",
   "language": "python",
   "name": "python3"
  },
  "language_info": {
   "codemirror_mode": {
    "name": "ipython",
    "version": 3
   },
   "file_extension": ".py",
   "mimetype": "text/x-python",
   "name": "python",
   "nbconvert_exporter": "python",
   "pygments_lexer": "ipython3",
   "version": "3.10.9"
  }
 },
 "nbformat": 4,
 "nbformat_minor": 5
}
