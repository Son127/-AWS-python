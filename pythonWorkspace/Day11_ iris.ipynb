{
 "cells": [
  {
   "cell_type": "markdown",
   "id": "4575fe25",
   "metadata": {},
   "source": [
    "-- Iris Setosa  --> 0\n",
    "\n",
    "-- Iris Versicolour --> 1\n",
    "\n",
    "-- Iris Virginica --> 2\n",
    "\n"
   ]
  },
  {
   "cell_type": "code",
   "execution_count": 14,
   "id": "33569d64",
   "metadata": {},
   "outputs": [],
   "source": [
    "import requests\n",
    "import numpy as np\n",
    "\n",
    "x = requests.get('https://archive.ics.uci.edu/ml/machine-learning-databases/iris/iris.data')"
   ]
  },
  {
   "cell_type": "code",
   "execution_count": 26,
   "id": "891a18bd",
   "metadata": {},
   "outputs": [],
   "source": [
    "raw_data=[]\n",
    "for line in x.text.split('\\n'):\n",
    "    raw_data.append(line.split(','))\n",
    "for sample in raw_data:\n",
    "    if len(sample) < 1:\n",
    "        continue\n",
    "    for i,value in enumerate(sample[:4]):\n",
    "        try:\n",
    "            sample[i] = float(value)\n",
    "        except:\n",
    "            sample[i] = 0.0"
   ]
  },
  {
   "cell_type": "code",
   "execution_count": 27,
   "id": "1b8fbb2e",
   "metadata": {},
   "outputs": [
    {
     "name": "stdout",
     "output_type": "stream",
     "text": [
      "[[5.1, 3.5, 1.4, 0.2, 'Iris-setosa'], [4.9, 3.0, 1.4, 0.2, 'Iris-setosa'], [4.7, 3.2, 1.3, 0.2, 'Iris-setosa']]\n"
     ]
    }
   ],
   "source": [
    "print(raw_data[:3])"
   ]
  },
  {
   "cell_type": "code",
   "execution_count": 28,
   "id": "ba50bb57",
   "metadata": {},
   "outputs": [],
   "source": [
    "for sample in raw_data:\n",
    "        if len(sample) < 2:\n",
    "            continue\n",
    "        elif 'setosa' in sample[-1]:\n",
    "            sample[-1] = 0.0\n",
    "        elif 'versicolor' in sample[-1]:\n",
    "            sample[-1] = 1.0\n",
    "        elif 'virginica' in sample[-1]:\n",
    "            sample[-1] = 2.0\n",
    "            "
   ]
  },
  {
   "cell_type": "code",
   "execution_count": 30,
   "id": "ffb09a38",
   "metadata": {},
   "outputs": [
    {
     "name": "stdout",
     "output_type": "stream",
     "text": [
      "[5.1, 3.5, 1.4, 0.2, 0.0]\n",
      "[6.4, 3.2, 4.5, 1.5, 1.0]\n",
      "[5.8, 2.7, 5.1, 1.9, 2.0]\n"
     ]
    }
   ],
   "source": [
    "print(raw_data[0])\n",
    "print(raw_data[51])\n",
    "print(raw_data[101])"
   ]
  },
  {
   "cell_type": "code",
   "execution_count": 32,
   "id": "4a9d3220",
   "metadata": {},
   "outputs": [
    {
     "name": "stdout",
     "output_type": "stream",
     "text": [
      "[[6.5, 3.0, 5.2, 2.0, 2.0], [6.2, 3.4, 5.4, 2.3, 2.0], [5.9, 3.0, 5.1, 1.8, 2.0]]\n",
      "150\n"
     ]
    }
   ],
   "source": [
    "print(raw_data[-3:])\n",
    "print(len(raw_data))\n",
    "raw_data = raw_data[:150]"
   ]
  },
  {
   "cell_type": "code",
   "execution_count": 34,
   "id": "1fb161a2",
   "metadata": {},
   "outputs": [
    {
     "data": {
      "text/plain": [
       "array([[5.1, 3.5, 1.4, 0.2, 0. ],\n",
       "       [4.9, 3. , 1.4, 0.2, 0. ],\n",
       "       [4.7, 3.2, 1.3, 0.2, 0. ]])"
      ]
     },
     "execution_count": 34,
     "metadata": {},
     "output_type": "execute_result"
    }
   ],
   "source": [
    "np_data = np.array(raw_data)\n",
    "np_data.shape\n",
    "np_data[:3]"
   ]
  },
  {
   "cell_type": "markdown",
   "id": "9229d110",
   "metadata": {},
   "source": [
    "#### 기본 통계값\n",
    "* 전체(150샘플)평균, 표준편차\n",
    "* 품종별평균 , 표준편차\n",
    "\n",
    "* 평균 np.mean()\n",
    "* 표준편차 np.sta()"
   ]
  },
  {
   "cell_type": "code",
   "execution_count": 52,
   "id": "1147028b",
   "metadata": {},
   "outputs": [
    {
     "name": "stdout",
     "output_type": "stream",
     "text": [
      "[5.84333333 3.054      3.75866667 1.19866667 1.        ]\n",
      "[0.82530129 0.43214658 1.75852918 0.76061262 0.81649658]\n",
      "[[ 1.         -0.10936925  0.87175416  0.81795363  0.78256123]\n",
      " [-0.10936925  1.         -0.4205161  -0.35654409 -0.4194462 ]\n",
      " [ 0.87175416 -0.4205161   1.          0.9627571   0.94904254]\n",
      " [ 0.81795363 -0.35654409  0.9627571   1.          0.95646382]\n",
      " [ 0.78256123 -0.4194462   0.94904254  0.95646382  1.        ]]\n"
     ]
    }
   ],
   "source": [
    "print(np.mean(np_data, axis = 0))\n",
    "print(np.std(np_data, axis= 0))\n",
    "print(np.corrcoef(np_data.T)) #상관도 "
   ]
  },
  {
   "cell_type": "code",
   "execution_count": 59,
   "id": "164558d2",
   "metadata": {},
   "outputs": [
    {
     "name": "stdout",
     "output_type": "stream",
     "text": [
      "[5.006 3.418 1.464 0.244 0.   ]\n",
      "[0.34894699 0.37719491 0.17176728 0.10613199 0.        ]\n",
      "[5.936 2.77  4.26  1.326 1.   ]\n"
     ]
    }
   ],
   "source": [
    "filter_setosa = np_data[:,-1] == 0.0\n",
    "filter_versicolor = np_data[:,-1] == 1.0\n",
    "filter_virginica = np_data[:,-1] == 2.0\n",
    "\n",
    "print(np.mean(np_data[filter_setosa], axis = 0))\n",
    "print(np.std(np_data[filter_setosa], axis = 0))\n",
    "\n",
    "print(np.mean(np_data[filter_versicolor], axis=0))"
   ]
  }
 ],
 "metadata": {
  "kernelspec": {
   "display_name": "Python 3 (ipykernel)",
   "language": "python",
   "name": "python3"
  },
  "language_info": {
   "codemirror_mode": {
    "name": "ipython",
    "version": 3
   },
   "file_extension": ".py",
   "mimetype": "text/x-python",
   "name": "python",
   "nbconvert_exporter": "python",
   "pygments_lexer": "ipython3",
   "version": "3.10.9"
  }
 },
 "nbformat": 4,
 "nbformat_minor": 5
}
