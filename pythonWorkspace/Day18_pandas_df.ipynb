{
 "cells": [
  {
   "cell_type": "code",
   "execution_count": 3,
   "id": "9db00fcb",
   "metadata": {},
   "outputs": [
    {
     "name": "stdout",
     "output_type": "stream",
     "text": [
      "       0    1    2    3               4\n",
      "0    5.1  3.5  1.4  0.2     Iris-setosa\n",
      "1    4.9  3.0  1.4  0.2     Iris-setosa\n",
      "2    4.7  3.2  1.3  0.2     Iris-setosa\n",
      "3    4.6  3.1  1.5  0.2     Iris-setosa\n",
      "4    5.0  3.6  1.4  0.2     Iris-setosa\n",
      "..   ...  ...  ...  ...             ...\n",
      "145  6.7  3.0  5.2  2.3  Iris-virginica\n",
      "146  6.3  2.5  5.0  1.9  Iris-virginica\n",
      "147  6.5  3.0  5.2  2.0  Iris-virginica\n",
      "148  6.2  3.4  5.4  2.3  Iris-virginica\n",
      "149  5.9  3.0  5.1  1.8  Iris-virginica\n",
      "\n",
      "[150 rows x 5 columns]\n"
     ]
    }
   ],
   "source": [
    "import numpy as np\n",
    "import pandas as pd\n",
    "\n",
    "url = 'https://archive.ics.uci.edu/ml/machine-learning-databases/iris/iris.data'\n",
    "iris_df = pd.read_csv(url, header=None)\n",
    "\n",
    "print(iris_df)"
   ]
  },
  {
   "cell_type": "code",
   "execution_count": 7,
   "id": "09ebeb90",
   "metadata": {},
   "outputs": [
    {
     "name": "stdout",
     "output_type": "stream",
     "text": [
      "RangeIndex(start=0, stop=150, step=1)\n",
      "Index(['a', 'b', 'c', 'd', 'e'], dtype='object')\n",
      "     a    b    c    d            e\n",
      "0  5.1  3.5  1.4  0.2  Iris-setosa\n",
      "1  4.9  3.0  1.4  0.2  Iris-setosa\n",
      "2  4.7  3.2  1.3  0.2  Iris-setosa\n",
      "3  4.6  3.1  1.5  0.2  Iris-setosa\n",
      "4  5.0  3.6  1.4  0.2  Iris-setosa\n"
     ]
    }
   ],
   "source": [
    "print(iris_df.index)\n",
    "print(iris_df.columns)\n",
    "iris_df.columns = list('abcde')\n",
    "print(iris_df.head())"
   ]
  },
  {
   "cell_type": "code",
   "execution_count": 20,
   "id": "b10f20db",
   "metadata": {},
   "outputs": [
    {
     "name": "stdout",
     "output_type": "stream",
     "text": [
      "       a    b        x2    c    d               e         x   a/b = x\n",
      "0    5.1  3.5  1.457143  1.4  0.2     Iris-setosa  1.457143  1.457143\n",
      "1    4.9  3.0  1.633333  1.4  0.2     Iris-setosa  1.633333  1.633333\n",
      "2    4.7  3.2  1.468750  1.3  0.2     Iris-setosa  1.468750  1.468750\n",
      "3    4.6  3.1  1.483871  1.5  0.2     Iris-setosa  1.483871  1.483871\n",
      "4    5.0  3.6  1.388889  1.4  0.2     Iris-setosa  1.388889  1.388889\n",
      "..   ...  ...       ...  ...  ...             ...       ...       ...\n",
      "145  6.7  3.0  2.233333  5.2  2.3  Iris-virginica  2.233333  2.233333\n",
      "146  6.3  2.5  2.520000  5.0  1.9  Iris-virginica  2.520000  2.520000\n",
      "147  6.5  3.0  2.166667  5.2  2.0  Iris-virginica  2.166667  2.166667\n",
      "148  6.2  3.4  1.823529  5.4  2.3  Iris-virginica  1.823529  1.823529\n",
      "149  5.9  3.0  1.966667  5.1  1.8  Iris-virginica  1.966667  1.966667\n",
      "\n",
      "[150 rows x 8 columns]\n",
      "       a    b        x2    c    d\n",
      "0    5.1  3.5  1.457143  1.4  0.2\n",
      "1    4.9  3.0  1.633333  1.4  0.2\n",
      "2    4.7  3.2  1.468750  1.3  0.2\n",
      "3    4.6  3.1  1.483871  1.5  0.2\n",
      "4    5.0  3.6  1.388889  1.4  0.2\n",
      "..   ...  ...       ...  ...  ...\n",
      "145  6.7  3.0  2.233333  5.2  2.3\n",
      "146  6.3  2.5  2.520000  5.0  1.9\n",
      "147  6.5  3.0  2.166667  5.2  2.0\n",
      "148  6.2  3.4  1.823529  5.4  2.3\n",
      "149  5.9  3.0  1.966667  5.1  1.8\n",
      "\n",
      "[150 rows x 5 columns]\n"
     ]
    }
   ],
   "source": [
    "# iris_df['x'] = iris_df['a']/iris_df['b']\n",
    "iris_df.insert(2, 'x2', iris_df['a']/iris_df['b'] )\n",
    "iris_df_d = iris_df.drop(['e','x','a/b = x'], axis = 1)\n",
    "print(iris_df)\n",
    "print(iris_df_d)"
   ]
  },
  {
   "cell_type": "code",
   "execution_count": 23,
   "id": "e7bd8d79",
   "metadata": {},
   "outputs": [
    {
     "name": "stdout",
     "output_type": "stream",
     "text": [
      "     a    b\n",
      "0    a  NaN\n",
      "1    b    F\n",
      "2    c    Y\n",
      "3    d    X\n",
      "4    e  NaN\n",
      "5  NaN    Z\n"
     ]
    }
   ],
   "source": [
    "s1 = pd.Series(list('abcde'), index = [x for x in range(5)])\n",
    "s2 = pd.Series(list('XYZF'), index = [3,2,5,1])\n",
    "df1 = pd.DataFrame({'a': s1, 'b': s2 })\n",
    "print(df1)"
   ]
  },
  {
   "cell_type": "code",
   "execution_count": 34,
   "id": "e9e72ef3",
   "metadata": {},
   "outputs": [
    {
     "name": "stdout",
     "output_type": "stream",
     "text": [
      "    a    b\n",
      "0   a  ppp\n",
      "1   b    F\n",
      "2   c    Y\n",
      "3   d    X\n",
      "4   e  ppp\n",
      "5  xx    Z\n"
     ]
    }
   ],
   "source": [
    "# print(df1.isna()) #값이 있으면 false\n",
    "# print(df1.dropna()) #null값이 있으면 전부 지움\n",
    "# print(df1.replace(np.NaN,'*')) #null값을 ''으로 채움\n",
    "df1['a'] = df1['a'].replace(np.NaN, 'xx')\n",
    "df1['b'].replace(np.NaN, 'ppp', inplace = True) #원본값 바꾸는 \n",
    "print(df1)"
   ]
  }
 ],
 "metadata": {
  "kernelspec": {
   "display_name": "Python 3 (ipykernel)",
   "language": "python",
   "name": "python3"
  },
  "language_info": {
   "codemirror_mode": {
    "name": "ipython",
    "version": 3
   },
   "file_extension": ".py",
   "mimetype": "text/x-python",
   "name": "python",
   "nbconvert_exporter": "python",
   "pygments_lexer": "ipython3",
   "version": "3.10.9"
  }
 },
 "nbformat": 4,
 "nbformat_minor": 5
}
