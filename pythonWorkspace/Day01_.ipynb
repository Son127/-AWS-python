{
 "cells": [
  {
   "cell_type": "code",
   "execution_count": 1,
   "id": "646b153d",
   "metadata": {},
   "outputs": [
    {
     "name": "stdout",
     "output_type": "stream",
     "text": [
      "3.10.9 (tags/v3.10.9:1dd9be6, Dec  6 2022, 20:01:21) [MSC v.1934 64 bit (AMD64)]\n"
     ]
    }
   ],
   "source": [
    "import sys\n",
    "print(sys.version)"
   ]
  },
  {
   "cell_type": "code",
   "execution_count": 9,
   "id": "68cbee54",
   "metadata": {},
   "outputs": [
    {
     "name": "stdout",
     "output_type": "stream",
     "text": [
      "<class 'int'>\n",
      "10\n",
      "<class 'float'>\n",
      "<class 'str'>\n",
      "<class 'bool'>\n"
     ]
    }
   ],
   "source": [
    "a = 10 #변수를 사용하는데 있어서 데이터 타입이 정해져 있지 않다.\n",
    "print(type(a)) #자료형 확인\n",
    "print(a)\n",
    "\n",
    "b = 10.5\n",
    "print(type(b))\n",
    "\n",
    "c = 'abcd'\n",
    "print(type(c))\n",
    "\n",
    "d  = True\n",
    "print(type(d))\n",
    "\n",
    "del c #변수 삭제\n"
   ]
  },
  {
   "cell_type": "code",
   "execution_count": 11,
   "id": "3d4aaf02",
   "metadata": {},
   "outputs": [
    {
     "ename": "NameError",
     "evalue": "name 'c' is not defined",
     "output_type": "error",
     "traceback": [
      "\u001b[1;31m---------------------------------------------------------------------------\u001b[0m",
      "\u001b[1;31mNameError\u001b[0m                                 Traceback (most recent call last)",
      "Cell \u001b[1;32mIn[11], line 1\u001b[0m\n\u001b[1;32m----> 1\u001b[0m \u001b[38;5;28mprint\u001b[39m(\u001b[43mc\u001b[49m) \u001b[38;5;66;03m# Code cell 코드셀을 넘어가도 변수는 그대로 유지된다.\u001b[39;00m\n",
      "\u001b[1;31mNameError\u001b[0m: name 'c' is not defined"
     ]
    }
   ],
   "source": [
    " print(c) # Code cell 코드셀을 넘어가도 변수는 그대로 유지된다."
   ]
  },
  {
   "cell_type": "code",
   "execution_count": 22,
   "id": "4337d5ce",
   "metadata": {},
   "outputs": [
    {
     "name": "stdout",
     "output_type": "stream",
     "text": [
      "[1, 2, 3, 4]\n",
      "<class 'list'>\n",
      "[113.2, 1, False, 'asdw', [1, 2, 3, 4]]\n",
      "(1, 2, 3, 4)\n",
      "<class 'tuple'>\n",
      "{1, 2, 3, 4}\n",
      "[1, 2, 3, 4, 4, 5, 5, 5]\n",
      "{1, 2, 3, 4, 5}\n",
      "{'a': 1, 'b': 2, 'c': 3}\n",
      "<class 'dict'>\n"
     ]
    }
   ],
   "source": [
    "#list, tuple, set, dictionary\n",
    "\n",
    "list1 = [1,2,3,4]\n",
    "print(list1)\n",
    "print(type(list1))\n",
    "\n",
    "list2 = [113.2, 1,False,'asdw',[1,2,3,4]]\n",
    "print(list2)\n",
    "\n",
    "tuple1 = (1,2,3,4) # 튜플은 한번 만들면 값을 수정할 수 없다\n",
    "print(tuple1)\n",
    "print(type(tuple1))\n",
    "\n",
    "set1 = {1,2,3,4}\n",
    "print(set1)\n",
    "\n",
    "list2 = [1,2,3,4,4,5,5,5]\n",
    "set2 = {1,2,3,4,4,5,5,5} #set은 중복된 값이 들어갈 수 없다\n",
    "\n",
    "print(list2)\n",
    "print(set2)\n",
    "\n",
    "d1 = {'a':1, 'b':2, 'c':3} # 딕셔너리는 Key 와 Values로 이루어져 있ㄷ\n",
    "print(d1)\n",
    "print(type(d1))"
   ]
  },
  {
   "cell_type": "code",
   "execution_count": 26,
   "id": "2803ab2b",
   "metadata": {},
   "outputs": [
    {
     "name": "stdout",
     "output_type": "stream",
     "text": [
      "greater then 3\n"
     ]
    }
   ],
   "source": [
    "a = 5\n",
    "if a > 5 :\n",
    "    print('greater then 10')\n",
    "elif a > 3:\n",
    "    print('greater then 3') #조건이 true인 쪽에서 멈추고 빠져나온다.\n",
    "elif a == 5:\n",
    "    print('is five')\n",
    "else:\n",
    "    print('not gerater then 10')"
   ]
  },
  {
   "cell_type": "code",
   "execution_count": 30,
   "id": "ad777ba9",
   "metadata": {},
   "outputs": [
    {
     "name": "stdout",
     "output_type": "stream",
     "text": [
      "message\n",
      "message\n",
      "message\n",
      "message\n"
     ]
    }
   ],
   "source": [
    "for _ in range(4): #변수 없이 반복을 돌릴려면 _로 채워준다.\n",
    "    print('message')"
   ]
  },
  {
   "cell_type": "code",
   "execution_count": 37,
   "id": "69b37f0b",
   "metadata": {},
   "outputs": [
    {
     "name": "stdout",
     "output_type": "stream",
     "text": [
      "range(0, 50, 3)\n",
      "<class 'range'>\n",
      "0\n",
      "3\n",
      "6\n",
      "9\n",
      "12\n",
      "15\n",
      "18\n",
      "21\n",
      "24\n",
      "27\n",
      "30\n",
      "33\n",
      "36\n",
      "39\n",
      "42\n",
      "45\n",
      "48\n"
     ]
    }
   ],
   "source": [
    "a = range(0,50,3) #(0,4) 와 같다  start ,stop , \n",
    "print(a)\n",
    "print(type(a))\n",
    "\n",
    "for i in a:\n",
    "    print(i)\n"
   ]
  },
  {
   "cell_type": "code",
   "execution_count": 42,
   "id": "8ebd8b0e",
   "metadata": {
    "scrolled": true
   },
   "outputs": [
    {
     "name": "stdout",
     "output_type": "stream",
     "text": [
      "[100, 105, 110, 115, 120, 125, 130, 135, 140, 145, 150, 155, 160, 165, 170, 175, 180, 185, 190, 195, 200, 205, 210, 215, 220, 225, 230, 235, 240, 245, 250, 255, 260, 265, 270, 275, 280, 285, 290, 295, 300, 305, 310, 315, 320, 325, 330, 335, 340, 345, 350, 355, 360, 365, 370, 375, 380, 385, 390, 395, 400, 405, 410, 415, 420, 425, 430, 435, 440, 445, 450, 455, 460, 465, 470, 475, 480, 485, 490, 495]\n"
     ]
    }
   ],
   "source": [
    "#100에서 500미만 5의 배수 출력.\n",
    "\n",
    "list1 = []\n",
    "for i in range(100, 500, 5):\n",
    "    list1.append(i)\n",
    "\n",
    "print(list1)"
   ]
  },
  {
   "cell_type": "code",
   "execution_count": 45,
   "id": "1836afac",
   "metadata": {},
   "outputs": [
    {
     "name": "stdout",
     "output_type": "stream",
     "text": [
      "[20.0, 21.0, 22.0, 23.0, 24.0, 25.0, 26.0, 27.0, 28.0, 29.0, 30.0, 31.0, 32.0, 33.0, 34.0, 35.0, 36.0, 37.0, 38.0, 39.0, 40.0, 41.0, 42.0, 43.0, 44.0, 45.0, 46.0, 47.0, 48.0, 49.0, 50.0, 51.0, 52.0, 53.0, 54.0, 55.0, 56.0, 57.0, 58.0, 59.0, 60.0, 61.0, 62.0, 63.0, 64.0, 65.0, 66.0, 67.0, 68.0, 69.0, 70.0, 71.0, 72.0, 73.0, 74.0, 75.0, 76.0, 77.0, 78.0, 79.0, 80.0, 81.0, 82.0, 83.0, 84.0, 85.0, 86.0, 87.0, 88.0, 89.0, 90.0, 91.0, 92.0, 93.0, 94.0, 95.0, 96.0, 97.0, 98.0, 99.0]\n"
     ]
    }
   ],
   "source": [
    "list2 = [x / 5 for x in range(100,500,5)] # x를 집어넣는데 x값은 for문을 돌리면서 나오는 것들\n",
    "print(list2)"
   ]
  },
  {
   "cell_type": "code",
   "execution_count": 85,
   "id": "852031ba",
   "metadata": {},
   "outputs": [
    {
     "ename": "SyntaxError",
     "evalue": "invalid syntax (4210637251.py, line 14)",
     "output_type": "error",
     "traceback": [
      "\u001b[1;36m  Cell \u001b[1;32mIn[85], line 14\u001b[1;36m\u001b[0m\n\u001b[1;33m    list_all = set{}\u001b[0m\n\u001b[1;37m                  ^\u001b[0m\n\u001b[1;31mSyntaxError\u001b[0m\u001b[1;31m:\u001b[0m invalid syntax\n"
     ]
    }
   ],
   "source": [
    "list3 = []\n",
    "for i in range(1,100):\n",
    "    if i % 3 == 0 or i % 5 == 0:\n",
    "        list3.append(i)\n",
    "print(list3)\n",
    "print(sum(list3))\n",
    "print(\"=================================\")\n",
    "\n",
    "list4 = [ i for i in range(0, 100, 3)]\n",
    "list5 = [ i for i in range(0, 100, 5)]\n",
    "print (list4 + list5)\n",
    "print(\"=================================\")\n",
    "\n",
    "list_all =[]\n",
    "for i in list4:\n",
    "    list_all.append(i)\n",
    "for i in list5:\n",
    "    list_all.append(i)\n",
    "print(list_all)\n",
    "\n",
    "print(set1)\n"
   ]
  },
  {
   "cell_type": "code",
   "execution_count": 86,
   "id": "ab552e82",
   "metadata": {},
   "outputs": [
    {
     "name": "stdout",
     "output_type": "stream",
     "text": [
      "2318\n"
     ]
    }
   ],
   "source": [
    "list_a = [ i for i in range(0,100) if i % 3 == 0 or i % 5 == 0]\n",
    "print(sum(list_a))"
   ]
  }
 ],
 "metadata": {
  "kernelspec": {
   "display_name": "Python 3 (ipykernel)",
   "language": "python",
   "name": "python3"
  },
  "language_info": {
   "codemirror_mode": {
    "name": "ipython",
    "version": 3
   },
   "file_extension": ".py",
   "mimetype": "text/x-python",
   "name": "python",
   "nbconvert_exporter": "python",
   "pygments_lexer": "ipython3",
   "version": "3.10.9"
  }
 },
 "nbformat": 4,
 "nbformat_minor": 5
}
