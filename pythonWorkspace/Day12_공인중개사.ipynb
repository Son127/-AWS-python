{
 "cells": [
  {
   "cell_type": "code",
   "execution_count": 29,
   "id": "4495569b",
   "metadata": {},
   "outputs": [],
   "source": [
    "import numpy as np\n",
    "\n",
    "def my_split(s):\n",
    "    block_start = False\n",
    "    start_index = 0\n",
    "    ret_list=[]\n",
    "    for i, c in enumerate(s):\n",
    "        if block_start==False:\n",
    "            if c==',':\n",
    "                ret_list.append(s[start_index:i])\n",
    "                start_index=i+1\n",
    "            elif c=='\"':\n",
    "                block_start=True\n",
    "                start_index = i\n",
    "        else:\n",
    "            if c=='\"':\n",
    "                block_start=False\n",
    "    if s[-1]!=',':\n",
    "        ret_list.append(s[start_index:])\n",
    "    return ret_list\n",
    "\n",
    "def split_len(data_list):\n",
    "    len_list=[]\n",
    "    for e in data_list:\n",
    "        len_list.append(len(e))\n",
    "    print(set(len_list))\n",
    "    if len(set(len_list))>1:\n",
    "        for i in set(len_list):\n",
    "            print(i, len_list.count(i))"
   ]
  },
  {
   "cell_type": "code",
   "execution_count": 28,
   "id": "bef503fe",
   "metadata": {},
   "outputs": [],
   "source": [
    "import math\n",
    "\n",
    "def mean(xs):\n",
    "    return sum(xs)/len(xs)\n",
    "\n",
    "def dev(xs): #편차\n",
    "    m = mean(xs)\n",
    "    return [ x - m for  x in xs]\n",
    "\n",
    "def var(xs): #분산\n",
    "    n = len(xs)\n",
    "    d = dev(xs)\n",
    "    return sum([x**2 for x in d]) / (n-1)\n",
    "\n",
    "def stdev(xs): #표준편차\n",
    "    return math.sqrt(var(xs))\n",
    "\n",
    "def covar(list_1,list_2):   #공분산\n",
    "    n = len(list_1)\n",
    "    list_1_dev = dev(list_1)\n",
    "    list_2_dev = dev(list_2)\n",
    "    return sum(x * y for x, y in zip(list_1_dev, list_2_dev)) / (n-1)\n",
    "\n",
    "def corel(list_1, list_2):   #상관도 (-1 ~ 1)\n",
    "    return covar(list_1, list_2) / (stdev(list_1) * stdev(list_2))"
   ]
  },
  {
   "cell_type": "code",
   "execution_count": 4,
   "id": "1c4fb94b",
   "metadata": {},
   "outputs": [
    {
     "name": "stdout",
     "output_type": "stream",
     "text": [
      "[['중개사무소명', '개설등록번호', '개업공인중개사종별구분', '소재지도로명주소', '소재지지번주소', '전화번호', '개설등록일자', '공제가입유무', '대표자명', '위도', '경도', '중개보조원수', '소속공인중개사수', '홈페이지주소', '데이터기준일자', '제공기관코드', '제공기관명\\n'], ['제일공인중개사사무소', '26710-2015-00005', '공인중개사', '부산광역시 기장군 정관읍 구연로 26', '', '', '2015-01-07', 'Y', '송미경', '', '', '', '', '', '2022-11-25', '3400000', '부산광역시 기장군\\n'], ['늘채움부동산공인중개사사무소', '26710-2015-00013', '공인중개사', '\"부산광역시 기장군 기장읍 차성남로 91, 1층 일부\"', '', '', '2015-01-21', 'Y', '강경미', '', '', '', '', '', '2022-11-25', '3400000', '부산광역시 기장군\\n']]\n"
     ]
    }
   ],
   "source": [
    "csv_list  = []\n",
    "\n",
    "with open ('전국공인중개사사무소표준데이터.csv') as f:\n",
    "    for i in f:\n",
    "        csv_list.append(my_split(i))\n",
    "print(csv_list[:3])"
   ]
  },
  {
   "cell_type": "code",
   "execution_count": 5,
   "id": "2ac79bdf",
   "metadata": {},
   "outputs": [
    {
     "name": "stdout",
     "output_type": "stream",
     "text": [
      "(0, '중개사무소명')\n",
      "(1, '개설등록번호')\n",
      "(2, '개업공인중개사종별구분')\n",
      "(3, '소재지도로명주소')\n",
      "(4, '소재지지번주소')\n",
      "(5, '전화번호')\n",
      "(6, '개설등록일자')\n",
      "(7, '공제가입유무')\n",
      "(8, '대표자명')\n",
      "(9, '위도')\n",
      "(10, '경도')\n",
      "(11, '중개보조원수')\n",
      "(12, '소속공인중개사수')\n",
      "(13, '홈페이지주소')\n",
      "(14, '데이터기준일자')\n",
      "(15, '제공기관코드')\n",
      "(16, '제공기관명\\n')\n"
     ]
    }
   ],
   "source": [
    "for  i in enumerate(csv_list[0]):\n",
    "    print(i)\n",
    "    "
   ]
  },
  {
   "cell_type": "code",
   "execution_count": 73,
   "id": "3376d8a8",
   "metadata": {},
   "outputs": [
    {
     "name": "stdout",
     "output_type": "stream",
     "text": [
      "{'개업공인중개사': 5085, '법인': 527, '공인중개사': 23757}\n",
      "개인공인중개사 비율 :  17.314174810173995\n"
     ]
    }
   ],
   "source": [
    "a_list = []\n",
    "for e in csv_list:\n",
    "    a_list.append(e[2])\n",
    "    \n",
    "a_set = set(a_list[1:])\n",
    "\n",
    "count_a = []\n",
    "for e in a_set:\n",
    "    count_a.append((e,a_list[1:].count(e)))\n",
    "\n",
    "dict_a = dict(count_a)\n",
    "print(dict_a)\n",
    "total_sum = sum(dict_a.values())\n",
    "\n",
    "s_ratio  = dict_a['개업공인중개사'] / total_sum * 100\n",
    "\n",
    "print(\"개인공인중개사 비율 : \", s_ratio)\n"
   ]
  },
  {
   "cell_type": "code",
   "execution_count": 75,
   "id": "03bf8ac7",
   "metadata": {},
   "outputs": [
    {
     "name": "stdout",
     "output_type": "stream",
     "text": [
      "{'N': 30, 'Y': 29339}\n",
      "미가입 비율: 0.10214852395382887\n"
     ]
    }
   ],
   "source": [
    "y_list = []\n",
    "for k in csv_list:\n",
    "    y_list.append(k[7])\n",
    "\n",
    "y_set = set(y_list[1:])\n",
    "\n",
    "deduction_count = []\n",
    "for k in y_set:\n",
    "    deduction_count.append((k,y_list[1:].count(k)))\n",
    "    \n",
    "deduction_len = len(y_list[1:])\n",
    "deduction_dict = dict(deduction_count)\n",
    "\n",
    "print(deduction_dict)\n",
    "\n",
    "# 전체 값 구하기\n",
    "total_sum = sum(deduction_dict.values())\n",
    "\n",
    "# N의 비율 구하기\n",
    "n_ratio = deduction_dict['N'] / total_sum * 100\n",
    "\n",
    "print(\"미가입 비율:\", n_ratio)"
   ]
  },
  {
   "cell_type": "code",
   "execution_count": 97,
   "id": "81e1c76b",
   "metadata": {},
   "outputs": [],
   "source": [
    "def extract_items_with_larger_value(dct):\n",
    "    \"\"\"\n",
    "    딕셔너리에서 값이 가장 큰 항목들을 추출하는 함수\n",
    "    \n",
    "    Parameters:\n",
    "    dct (dict): 검색할 딕셔너리\n",
    "    \n",
    "    Returns:\n",
    "    extracted_dict (dict): 값이 가장 큰 항목들로 구성된 새로운 딕셔너리\n",
    "    \"\"\"\n",
    "    max_value = max(dct.values())\n",
    "    extracted_dict = {key: value for key, value in dct.items() if value == max_value}\n",
    "    return extracted_dict"
   ]
  },
  {
   "cell_type": "code",
   "execution_count": 98,
   "id": "489f805b",
   "metadata": {},
   "outputs": [
    {
     "name": "stdout",
     "output_type": "stream",
     "text": [
      "{'삼성공인중개사사무소': 116}\n"
     ]
    }
   ],
   "source": [
    "name_list = []\n",
    "for n in csv_list:\n",
    "    name_list.append(n[0])\n",
    "    \n",
    "name_set = set(name_list[1:])\n",
    "name_count = []\n",
    "\n",
    "for n in name_set:\n",
    "    name_count.append((n,name_list[1:].count(n)))\n",
    "\n",
    "name_dict = dict(name_count)\n",
    "\n",
    "extracted_dict = extract_items_with_larger_value(name_dict)\n",
    "print(extracted_dict)"
   ]
  }
 ],
 "metadata": {
  "kernelspec": {
   "display_name": "Python 3 (ipykernel)",
   "language": "python",
   "name": "python3"
  },
  "language_info": {
   "codemirror_mode": {
    "name": "ipython",
    "version": 3
   },
   "file_extension": ".py",
   "mimetype": "text/x-python",
   "name": "python",
   "nbconvert_exporter": "python",
   "pygments_lexer": "ipython3",
   "version": "3.10.9"
  }
 },
 "nbformat": 4,
 "nbformat_minor": 5
}
