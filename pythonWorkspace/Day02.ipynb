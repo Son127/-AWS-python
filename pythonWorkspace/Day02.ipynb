{
 "cells": [
  {
   "cell_type": "code",
   "execution_count": null,
   "id": "6fc0ce4c",
   "metadata": {},
   "outputs": [],
   "source": [
    "#함수"
   ]
  },
  {
   "cell_type": "code",
   "execution_count": 1,
   "id": "a9de8f07",
   "metadata": {},
   "outputs": [
    {
     "name": "stdout",
     "output_type": "stream",
     "text": [
      "myfunction\n"
     ]
    }
   ],
   "source": [
    "#def = define\n",
    "def function_name():\n",
    "    print('myfunction')\n",
    "    \n",
    "fucion_name()"
   ]
  },
  {
   "cell_type": "code",
   "execution_count": 2,
   "id": "c3438656",
   "metadata": {},
   "outputs": [
    {
     "name": "stdout",
     "output_type": "stream",
     "text": [
      "[1, 2, 3, 4]\n",
      "a c d\n",
      "fn7 start\n",
      "abc def\n"
     ]
    }
   ],
   "source": [
    "def myfn1():\n",
    "    print(\"my fn1\")\n",
    "def myfn2(arg1): # 매개변수를 받는다.\n",
    "    print(arg1)\n",
    "def myfn3(arg1 = 'a', arg2 = 'b'):\n",
    "    print(arg1,arg2)\n",
    "def myfn4(*arg1): #\n",
    "    for i in arg1:\n",
    "        print(i)\n",
    "def myfn5(arg1, * , arg3, arg4): # *표 앞에는 포지션 아규먼트로 쓰겠다는 뜻 *뒤에는 키워드아규먼트로 쓰겠다\n",
    "    print(arg1, arg3, arg4)\n",
    "    \n",
    "def myfn6(arg1,/,arg2,arg3): # 포지션아규먼트 강제\n",
    "    print(arg1,arg2,arg3)\n",
    "\n",
    "def myfn7(arg1,arg2):\n",
    "    print(arg1)\n",
    "    arg2('abc','def')\n",
    "        \n",
    "        \n",
    "        \n",
    "\n",
    "# myfn3(10,10)\n",
    "# myfn3(arg2= 10, arg1= 30) # myfn3(10,10) 와 같다.\n",
    "# myfn4(1,2,3)\n",
    "myfn2([1,2,3,4])\n",
    "myfn5('a',  arg3 = 'c', arg4 = 'd')\n",
    "myfn7('fn7 start',myfn3)\n"
   ]
  },
  {
   "cell_type": "code",
   "execution_count": 5,
   "id": "4359843a",
   "metadata": {},
   "outputs": [
    {
     "name": "stdout",
     "output_type": "stream",
     "text": [
      "(10, 20)\n"
     ]
    }
   ],
   "source": [
    "#function return\n",
    "def myfn8():\n",
    "    print('mtfn8')\n",
    "\n",
    "def myfn9():\n",
    "    return 10\n",
    "\n",
    "def myfn10(): #리턴 값을 여러개 넣으면 튜플로 나온다\n",
    "    return 10,20\n",
    "\n",
    "ret_value = myfn10()\n",
    "print(ret_value)"
   ]
  },
  {
   "cell_type": "code",
   "execution_count": 68,
   "id": "f04b95cb",
   "metadata": {},
   "outputs": [
    {
     "data": {
      "text/plain": [
       "True"
      ]
     },
     "execution_count": 68,
     "metadata": {},
     "output_type": "execute_result"
    }
   ],
   "source": [
    "def is_prime(n):\n",
    "    for i in range(2,10001):\n",
    "        if n % i == 0:\n",
    "            return False\n",
    "        else:\n",
    "            return True\n",
    "\n",
    "is_prime(23)\n",
    "#is_prime(24)"
   ]
  },
  {
   "cell_type": "code",
   "execution_count": null,
   "id": "177e376d",
   "metadata": {},
   "outputs": [],
   "source": []
  }
 ],
 "metadata": {
  "kernelspec": {
   "display_name": "Python 3 (ipykernel)",
   "language": "python",
   "name": "python3"
  },
  "language_info": {
   "codemirror_mode": {
    "name": "ipython",
    "version": 3
   },
   "file_extension": ".py",
   "mimetype": "text/x-python",
   "name": "python",
   "nbconvert_exporter": "python",
   "pygments_lexer": "ipython3",
   "version": "3.10.9"
  }
 },
 "nbformat": 4,
 "nbformat_minor": 5
}
